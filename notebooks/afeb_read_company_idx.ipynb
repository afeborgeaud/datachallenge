{
 "cells": [
  {
   "cell_type": "code",
   "execution_count": 1,
   "id": "7aaae353-e389-4211-ae43-ed819982475d",
   "metadata": {},
   "outputs": [],
   "source": [
    "%load_ext lab_black"
   ]
  },
  {
   "cell_type": "code",
   "execution_count": 17,
   "id": "b61a6204-bfe2-4231-9f61-6da3a25524f1",
   "metadata": {},
   "outputs": [],
   "source": [
    "import pandas as pd\n",
    "from zipfile import ZipFile"
   ]
  },
  {
   "cell_type": "code",
   "execution_count": 3,
   "id": "703ea9d0-0b87-460b-80d8-c9c333d05db4",
   "metadata": {},
   "outputs": [],
   "source": [
    "# take a look at the data\n",
    "\n",
    "file_companies_2005_Q1 = \"../data/raw/company_2005_Q1.zip\"\n",
    "file_companies_2011_Q4 = \"../data/raw/company_2011_Q4.zip\"\n",
    "\n",
    "myzip = ZipFile(file_companies_2005_Q1)\n",
    "#     print(myzip.namelist())\n",
    "filestream_2005 = myzip.open(\"company.idx\")\n",
    "myzip.close()\n",
    "\n",
    "myzip = ZipFile(file_companies_2011_Q4)\n",
    "filestream_2011 = myzip.open(\"company.idx\")\n",
    "myzip.close()"
   ]
  },
  {
   "cell_type": "code",
   "execution_count": 4,
   "id": "a5eca9a2-54ed-4f28-8c0e-d9584aa8624c",
   "metadata": {},
   "outputs": [
    {
     "name": "stderr",
     "output_type": "stream",
     "text": [
      "/Users/navy/anaconda3/envs/propulsion/lib/python3.9/site-packages/pandas/util/_decorators.py:311: ParserWarning: Falling back to the 'python' engine because the 'c' engine does not support regex separators (separators > 1 char and different from '\\s+' are interpreted as regex); you can avoid this warning by specifying engine='python'.\n",
      "  return func(*args, **kwargs)\n",
      "/Users/navy/anaconda3/envs/propulsion/lib/python3.9/site-packages/IPython/core/interactiveshell.py:3441: FutureWarning: The warn_bad_lines argument has been deprecated and will be removed in a future version.\n",
      "\n",
      "\n",
      "  exec(code_obj, self.user_global_ns, self.user_ns)\n",
      "/Users/navy/anaconda3/envs/propulsion/lib/python3.9/site-packages/IPython/core/interactiveshell.py:3441: FutureWarning: The error_bad_lines argument has been deprecated and will be removed in a future version.\n",
      "\n",
      "\n",
      "  exec(code_obj, self.user_global_ns, self.user_ns)\n"
     ]
    },
    {
     "name": "stdout",
     "output_type": "stream",
     "text": [
      "<class 'pandas.core.frame.DataFrame'>\n",
      "RangeIndex: 314826 entries, 0 to 314825\n",
      "Data columns (total 5 columns):\n",
      " #   Column        Non-Null Count   Dtype  \n",
      "---  ------        --------------   -----  \n",
      " 0   Company Name  314826 non-null  object \n",
      " 1   Form Type     314825 non-null  object \n",
      " 2   CIK           314825 non-null  float64\n",
      " 3   Date Filed    314825 non-null  object \n",
      " 4   File Name     314825 non-null  object \n",
      "dtypes: float64(1), object(4)\n",
      "memory usage: 12.0+ MB\n"
     ]
    }
   ],
   "source": [
    "# load company list data\n",
    "df_2005 = pd.read_csv(\n",
    "    filestream_2005,\n",
    "    sep=r\" [ ]+\",\n",
    "    header=4,\n",
    "    skiprows=[8],\n",
    "    error_bad_lines=False,\n",
    "    warn_bad_lines=False,\n",
    ")\n",
    "df_2005.info()"
   ]
  },
  {
   "cell_type": "code",
   "execution_count": 5,
   "id": "8aa098b3-3930-4057-9bd1-090a0f586b7e",
   "metadata": {},
   "outputs": [
    {
     "name": "stdout",
     "output_type": "stream",
     "text": [
      "<class 'pandas.core.frame.DataFrame'>\n",
      "RangeIndex: 202470 entries, 0 to 202469\n",
      "Data columns (total 5 columns):\n",
      " #   Column        Non-Null Count   Dtype \n",
      "---  ------        --------------   ----- \n",
      " 0   Company Name  202470 non-null  object\n",
      " 1   Form Type     202470 non-null  object\n",
      " 2   CIK           202470 non-null  int64 \n",
      " 3   Date Filed    202470 non-null  object\n",
      " 4   File Name     202470 non-null  object\n",
      "dtypes: int64(1), object(4)\n",
      "memory usage: 7.7+ MB\n"
     ]
    }
   ],
   "source": [
    "# load company list data\n",
    "df_2011 = pd.read_csv(\n",
    "    filestream_2011,\n",
    "    sep=r\" [ ]+\",\n",
    "    header=4,\n",
    "    skiprows=[9],\n",
    "    error_bad_lines=False,\n",
    "    warn_bad_lines=False,\n",
    "    encoding_errors=\"replace\",\n",
    ")\n",
    "df_2011.info()"
   ]
  },
  {
   "cell_type": "code",
   "execution_count": 6,
   "id": "b556b0f6-d01f-43d1-8d3d-9e7fb1658f32",
   "metadata": {},
   "outputs": [],
   "source": [
    "# cleaning\n",
    "\n",
    "\n",
    "def to_int(x):\n",
    "    try:\n",
    "        return int(x)\n",
    "    except (pd.errors.IntCastingNaNError, ValueError):\n",
    "        return -1\n",
    "\n",
    "\n",
    "# 2005\n",
    "df_2005[\"CIK\"] = df_2005[\"CIK\"].apply(lambda x: to_int(x))\n",
    "df_2005[\"Date_filed\"] = pd.to_datetime(df_2005[\"Date Filed\"])\n",
    "df_2005[\"Form Type\"] = df_2005[\"Form Type\"].astype(\"category\")\n",
    "\n",
    "# 2011\n",
    "df_2011[\"Date_filed\"] = pd.to_datetime(df_2011[\"Date Filed\"])\n",
    "df_2011[\"Form Type\"] = df_2011[\"Form Type\"].astype(\"category\")\n",
    "\n",
    "df_2005.to_csv(\"../data/processed/companies_2005_Q1.csv\")\n",
    "df_2011.to_csv(\"../data/processed/companies_2011_Q4.csv\")"
   ]
  },
  {
   "cell_type": "code",
   "execution_count": 80,
   "id": "998ea495-3c66-4a90-94aa-fbf417ad1a56",
   "metadata": {},
   "outputs": [
    {
     "name": "stdout",
     "output_type": "stream",
     "text": [
      "(8272, 6) (8461, 6)\n",
      "(7984, 6) (7984, 6)\n"
     ]
    }
   ],
   "source": [
    "# select only 10-Q fillings\n",
    "\n",
    "# some companies didn't fill 10-Q (why??), for instance AMAZON INC COM\n",
    "df_2005_10Q = df_2005[df_2005[\"Form Type\"].isin([\"10-Q\", \"10-K\"])]\n",
    "df_2011_10Q = df_2011[df_2011[\"Form Type\"].isin([\"10-Q\", \"10-K\"])]\n",
    "print(df_2005_10Q.shape, df_2011_10Q.shape)\n",
    "\n",
    "df_2005_10Q.drop_duplicates(\"Company Name\", inplace=True)\n",
    "df_2011_10Q.drop_duplicates(\"Company Name\", inplace=True)\n",
    "print(df_2005_10Q.shape, df_2011_10Q.shape)"
   ]
  },
  {
   "cell_type": "code",
   "execution_count": 81,
   "id": "8e819ae3-8c16-49d5-8ac3-16da5ff70869",
   "metadata": {},
   "outputs": [
    {
     "name": "stdout",
     "output_type": "stream",
     "text": [
      "0.0\n"
     ]
    },
    {
     "data": {
      "text/plain": [
       "Company Name\n",
       "1 800 CONTACTS INC                      1\n",
       "PALL CORP                               1\n",
       "PANHANDLE ROYALTY CO                    1\n",
       "PANHANDLE EASTERN PIPE LINE CO LP       1\n",
       "PANERA BREAD CO                         1\n",
       "                                       ..\n",
       "FIRST NATIONAL LINCOLN CORP /ME/        1\n",
       "FIRST NATIONAL FUNDING LLC              1\n",
       "FIRST NATIONAL CORP /VA/                1\n",
       "FIRST NATIONAL COMMUNITY BANCORP INC    1\n",
       "streetTRACKS GOLD TRUST                 1\n",
       "Length: 7984, dtype: int64"
      ]
     },
     "execution_count": 81,
     "metadata": {},
     "output_type": "execute_result"
    }
   ],
   "source": [
    "counts = df_2005_10Q.value_counts(\"Company Name\")\n",
    "print(sum(counts > 1) / len(counts))\n",
    "counts"
   ]
  },
  {
   "cell_type": "code",
   "execution_count": 82,
   "id": "9a9a5e9e-84f6-4728-b976-fa76ef05c1a8",
   "metadata": {},
   "outputs": [
    {
     "name": "stdout",
     "output_type": "stream",
     "text": [
      "0.0\n"
     ]
    },
    {
     "data": {
      "text/plain": [
       "Company Name\n",
       "'mktg, inc.'                  1\n",
       "Ocean Shore Holding Co.       1\n",
       "OmniaLuo, Inc.                1\n",
       "OmniAmerican Bancorp, Inc.    1\n",
       "Omega Flex, Inc.              1\n",
       "                             ..\n",
       "Enhance Skin Products Inc     1\n",
       "Engraving Masters, Inc.       1\n",
       "Engchow Education Corp        1\n",
       "Enertopia Corp.               1\n",
       "vitaminspice                  1\n",
       "Length: 7984, dtype: int64"
      ]
     },
     "execution_count": 82,
     "metadata": {},
     "output_type": "execute_result"
    }
   ],
   "source": [
    "counts = df_2011_10Q.value_counts(\"Company Name\")\n",
    "print(sum(counts > 1) / len(counts))\n",
    "counts"
   ]
  },
  {
   "cell_type": "code",
   "execution_count": 83,
   "id": "72ffaa81-c3cb-4c9f-9497-81e959d81517",
   "metadata": {},
   "outputs": [
    {
     "data": {
      "text/html": [
       "<div>\n",
       "<style scoped>\n",
       "    .dataframe tbody tr th:only-of-type {\n",
       "        vertical-align: middle;\n",
       "    }\n",
       "\n",
       "    .dataframe tbody tr th {\n",
       "        vertical-align: top;\n",
       "    }\n",
       "\n",
       "    .dataframe thead th {\n",
       "        text-align: right;\n",
       "    }\n",
       "</style>\n",
       "<table border=\"1\" class=\"dataframe\">\n",
       "  <thead>\n",
       "    <tr style=\"text-align: right;\">\n",
       "      <th></th>\n",
       "      <th>Company Name</th>\n",
       "      <th>Form Type</th>\n",
       "      <th>CIK</th>\n",
       "      <th>Date Filed</th>\n",
       "      <th>File Name</th>\n",
       "      <th>Date_filed</th>\n",
       "    </tr>\n",
       "  </thead>\n",
       "  <tbody>\n",
       "    <tr>\n",
       "      <th>81954</th>\n",
       "      <td>Grupo International Inc</td>\n",
       "      <td>10-K</td>\n",
       "      <td>1082576</td>\n",
       "      <td>2011-10-19</td>\n",
       "      <td>edgar/data/1082576/0001269678-11-000230.txt</td>\n",
       "      <td>2011-10-19</td>\n",
       "    </tr>\n",
       "  </tbody>\n",
       "</table>\n",
       "</div>"
      ],
      "text/plain": [
       "                  Company Name Form Type      CIK  Date Filed  \\\n",
       "81954  Grupo International Inc      10-K  1082576  2011-10-19   \n",
       "\n",
       "                                         File Name Date_filed  \n",
       "81954  edgar/data/1082576/0001269678-11-000230.txt 2011-10-19  "
      ]
     },
     "execution_count": 83,
     "metadata": {},
     "output_type": "execute_result"
    }
   ],
   "source": [
    "# What's happening with this company... ?\n",
    "df_2011_10Q[df_2011_10Q[\"Company Name\"] == \"Grupo International Inc\"]"
   ]
  },
  {
   "cell_type": "code",
   "execution_count": 84,
   "id": "56fc6567-ee8f-449a-9e73-f0eb84214bf7",
   "metadata": {},
   "outputs": [],
   "source": [
    "# Select only companies (a bit rough...)\n",
    "\n",
    "is_company = [\"INC\", \"Inc\", \"CORP\", \"LTD\", \"Corp\", \"CO\", \"inc\"]\n",
    "df_2005_10Q_inc = df_2005_10Q[\n",
    "    df_2005_10Q[\"Company Name\"].str.contains(\"|\".join(is_company))\n",
    "]\n",
    "df_2011_10Q_inc = df_2011_10Q[\n",
    "    df_2011_10Q[\"Company Name\"].str.contains(\"|\".join(is_company))\n",
    "]"
   ]
  },
  {
   "cell_type": "code",
   "execution_count": 85,
   "id": "f142d786-dd5a-4963-b4ea-b01da77ce5c1",
   "metadata": {},
   "outputs": [
    {
     "data": {
      "text/html": [
       "<div>\n",
       "<style scoped>\n",
       "    .dataframe tbody tr th:only-of-type {\n",
       "        vertical-align: middle;\n",
       "    }\n",
       "\n",
       "    .dataframe tbody tr th {\n",
       "        vertical-align: top;\n",
       "    }\n",
       "\n",
       "    .dataframe thead th {\n",
       "        text-align: right;\n",
       "    }\n",
       "</style>\n",
       "<table border=\"1\" class=\"dataframe\">\n",
       "  <thead>\n",
       "    <tr style=\"text-align: right;\">\n",
       "      <th></th>\n",
       "      <th>Company Name</th>\n",
       "      <th>Form Type</th>\n",
       "      <th>CIK</th>\n",
       "      <th>Date Filed</th>\n",
       "      <th>File Name</th>\n",
       "      <th>Date_filed</th>\n",
       "    </tr>\n",
       "  </thead>\n",
       "  <tbody>\n",
       "    <tr>\n",
       "      <th>452</th>\n",
       "      <td>99 CENTS ONLY STORES</td>\n",
       "      <td>10-Q</td>\n",
       "      <td>1011290</td>\n",
       "      <td>2011-11-10</td>\n",
       "      <td>edgar/data/1011290/0001140361-11-052840.txt</td>\n",
       "      <td>2011-11-10</td>\n",
       "    </tr>\n",
       "    <tr>\n",
       "      <th>585</th>\n",
       "      <td>AAA CAPITAL ENERGY FUND L.P.</td>\n",
       "      <td>10-Q</td>\n",
       "      <td>1057051</td>\n",
       "      <td>2011-11-14</td>\n",
       "      <td>edgar/data/1057051/0000950123-11-098443.txt</td>\n",
       "      <td>2011-11-14</td>\n",
       "    </tr>\n",
       "    <tr>\n",
       "      <th>587</th>\n",
       "      <td>AAA CAPITAL ENERGY FUND L.P. II</td>\n",
       "      <td>10-Q</td>\n",
       "      <td>1227268</td>\n",
       "      <td>2011-11-14</td>\n",
       "      <td>edgar/data/1227268/0000950123-11-098383.txt</td>\n",
       "      <td>2011-11-14</td>\n",
       "    </tr>\n",
       "    <tr>\n",
       "      <th>704</th>\n",
       "      <td>ABBOTT LABORATORIES</td>\n",
       "      <td>10-Q</td>\n",
       "      <td>1800</td>\n",
       "      <td>2011-11-04</td>\n",
       "      <td>edgar/data/1800/0001104659-11-061064.txt</td>\n",
       "      <td>2011-11-04</td>\n",
       "    </tr>\n",
       "    <tr>\n",
       "      <th>1059</th>\n",
       "      <td>ACADIA REALTY TRUST</td>\n",
       "      <td>10-Q</td>\n",
       "      <td>899629</td>\n",
       "      <td>2011-11-02</td>\n",
       "      <td>edgar/data/899629/0001445305-11-003166.txt</td>\n",
       "      <td>2011-11-02</td>\n",
       "    </tr>\n",
       "    <tr>\n",
       "      <th>...</th>\n",
       "      <td>...</td>\n",
       "      <td>...</td>\n",
       "      <td>...</td>\n",
       "      <td>...</td>\n",
       "      <td>...</td>\n",
       "      <td>...</td>\n",
       "    </tr>\n",
       "    <tr>\n",
       "      <th>201422</th>\n",
       "      <td>Zhong Wen International Holding Co., Ltd.</td>\n",
       "      <td>10-Q</td>\n",
       "      <td>1494502</td>\n",
       "      <td>2011-11-14</td>\n",
       "      <td>edgar/data/1494502/0001144204-11-063700.txt</td>\n",
       "      <td>2011-11-14</td>\n",
       "    </tr>\n",
       "    <tr>\n",
       "      <th>202180</th>\n",
       "      <td>iShares S&amp;P GSCI Commodity-Indexed Investing P...</td>\n",
       "      <td>10-Q</td>\n",
       "      <td>1346616</td>\n",
       "      <td>2011-11-08</td>\n",
       "      <td>edgar/data/1346616/0001193125-11-302344.txt</td>\n",
       "      <td>2011-11-08</td>\n",
       "    </tr>\n",
       "    <tr>\n",
       "      <th>202186</th>\n",
       "      <td>iShares S&amp;P GSCI Commodity-Indexed Trust</td>\n",
       "      <td>10-Q</td>\n",
       "      <td>1332174</td>\n",
       "      <td>2011-11-08</td>\n",
       "      <td>edgar/data/1332174/0001193125-11-302344.txt</td>\n",
       "      <td>2011-11-08</td>\n",
       "    </tr>\n",
       "    <tr>\n",
       "      <th>202192</th>\n",
       "      <td>iShares Silver Trust</td>\n",
       "      <td>10-Q</td>\n",
       "      <td>1330568</td>\n",
       "      <td>2011-11-08</td>\n",
       "      <td>edgar/data/1330568/0001193125-11-302064.txt</td>\n",
       "      <td>2011-11-08</td>\n",
       "    </tr>\n",
       "    <tr>\n",
       "      <th>202453</th>\n",
       "      <td>vitaminspice</td>\n",
       "      <td>10-Q</td>\n",
       "      <td>1382056</td>\n",
       "      <td>2011-11-21</td>\n",
       "      <td>edgar/data/1382056/0001127855-11-000628.txt</td>\n",
       "      <td>2011-11-21</td>\n",
       "    </tr>\n",
       "  </tbody>\n",
       "</table>\n",
       "<p>799 rows × 6 columns</p>\n",
       "</div>"
      ],
      "text/plain": [
       "                                             Company Name Form Type      CIK  \\\n",
       "452                                  99 CENTS ONLY STORES      10-Q  1011290   \n",
       "585                          AAA CAPITAL ENERGY FUND L.P.      10-Q  1057051   \n",
       "587                       AAA CAPITAL ENERGY FUND L.P. II      10-Q  1227268   \n",
       "704                                   ABBOTT LABORATORIES      10-Q     1800   \n",
       "1059                                  ACADIA REALTY TRUST      10-Q   899629   \n",
       "...                                                   ...       ...      ...   \n",
       "201422          Zhong Wen International Holding Co., Ltd.      10-Q  1494502   \n",
       "202180  iShares S&P GSCI Commodity-Indexed Investing P...      10-Q  1346616   \n",
       "202186           iShares S&P GSCI Commodity-Indexed Trust      10-Q  1332174   \n",
       "202192                               iShares Silver Trust      10-Q  1330568   \n",
       "202453                                       vitaminspice      10-Q  1382056   \n",
       "\n",
       "        Date Filed                                    File Name Date_filed  \n",
       "452     2011-11-10  edgar/data/1011290/0001140361-11-052840.txt 2011-11-10  \n",
       "585     2011-11-14  edgar/data/1057051/0000950123-11-098443.txt 2011-11-14  \n",
       "587     2011-11-14  edgar/data/1227268/0000950123-11-098383.txt 2011-11-14  \n",
       "704     2011-11-04     edgar/data/1800/0001104659-11-061064.txt 2011-11-04  \n",
       "1059    2011-11-02   edgar/data/899629/0001445305-11-003166.txt 2011-11-02  \n",
       "...            ...                                          ...        ...  \n",
       "201422  2011-11-14  edgar/data/1494502/0001144204-11-063700.txt 2011-11-14  \n",
       "202180  2011-11-08  edgar/data/1346616/0001193125-11-302344.txt 2011-11-08  \n",
       "202186  2011-11-08  edgar/data/1332174/0001193125-11-302344.txt 2011-11-08  \n",
       "202192  2011-11-08  edgar/data/1330568/0001193125-11-302064.txt 2011-11-08  \n",
       "202453  2011-11-21  edgar/data/1382056/0001127855-11-000628.txt 2011-11-21  \n",
       "\n",
       "[799 rows x 6 columns]"
      ]
     },
     "execution_count": 85,
     "metadata": {},
     "output_type": "execute_result"
    }
   ],
   "source": [
    "# Check the remaining entries\n",
    "\n",
    "df_2005_10Q_fund = df_2005_10Q[\n",
    "    ~df_2005_10Q[\"Company Name\"].str.contains(\"|\".join(is_company))\n",
    "]\n",
    "df_2011_10Q_fund = df_2011_10Q[\n",
    "    ~df_2011_10Q[\"Company Name\"].str.contains(\"|\".join(is_company))\n",
    "]\n",
    "df_2005_10Q_fund\n",
    "df_2011_10Q_fund"
   ]
  },
  {
   "cell_type": "code",
   "execution_count": 86,
   "id": "bf11fd65-522d-44db-a224-93a543bcf4c0",
   "metadata": {},
   "outputs": [
    {
     "name": "stdout",
     "output_type": "stream",
     "text": [
      "(6412, 6) (7185, 6)\n"
     ]
    }
   ],
   "source": [
    "# df_2005_10Q_inc.drop_duplicates(\"Company Name\", inplace=True)\n",
    "# df_2011_10Q_inc.drop_duplicates(\"Company Name\", inplace=True)\n",
    "print(df_2005_10Q_inc.shape, df_2011_10Q_inc.shape)"
   ]
  },
  {
   "cell_type": "code",
   "execution_count": 87,
   "id": "c3458898-6c5b-4382-89ea-9c5900b7e2ae",
   "metadata": {},
   "outputs": [
    {
     "name": "stdout",
     "output_type": "stream",
     "text": [
      "(2691, 11)\n",
      "4494\n"
     ]
    }
   ],
   "source": [
    "# merge to see what companies listed in 2005 are still there in 2011\n",
    "\n",
    "df_merge = pd.merge(\n",
    "    df_2005_10Q_inc,\n",
    "    df_2011_10Q_inc,\n",
    "    on=\"Company Name\",\n",
    "    how=\"inner\",\n",
    "    validate=\"one_to_one\",\n",
    ")\n",
    "print(df_merge.shape)\n",
    "print(len(df_2011_10Q_inc) - len(df_merge))"
   ]
  },
  {
   "cell_type": "markdown",
   "id": "f10fcac3-7926-4455-a952-a8f51859d610",
   "metadata": {},
   "source": [
    "Out of 1397 companies listed in 2005, 418 remain in 2011.<br>\n",
    "Meanwhile, 6259 (!!) companies went public after Q1 2005."
   ]
  },
  {
   "cell_type": "code",
   "execution_count": 88,
   "id": "d0d0fc29-2e06-440e-99ac-3a3d2667b71e",
   "metadata": {},
   "outputs": [],
   "source": [
    "# save final files to CSV\n",
    "\n",
    "df_2005_10Q_inc.to_csv(\"../data/processed/companies_2005_10Q.csv\")\n",
    "df_2011_10Q_inc.to_csv(\"../data/processed/companies_2011_10Q.csv\")"
   ]
  },
  {
   "cell_type": "code",
   "execution_count": 93,
   "id": "b4302b27-39e0-4eb7-9ecf-1f13f99ec62d",
   "metadata": {},
   "outputs": [
    {
     "data": {
      "text/plain": [
       "CIK\n",
       "20         1\n",
       "1053439    1\n",
       "1054374    1\n",
       "1054298    1\n",
       "1054290    1\n",
       "          ..\n",
       "825788     1\n",
       "825692     1\n",
       "825542     1\n",
       "825521     1\n",
       "1319549    1\n",
       "Length: 6412, dtype: int64"
      ]
     },
     "execution_count": 93,
     "metadata": {},
     "output_type": "execute_result"
    }
   ],
   "source": [
    "cik_counts_2005 = df_2005_10Q_inc.value_counts(\"CIK\")\n",
    "cik_counts_2011 = df_2011_10Q_inc.value_counts(\"CIK\")\n",
    "\n",
    "cik_counts_2005"
   ]
  },
  {
   "cell_type": "code",
   "execution_count": 94,
   "id": "39b4e876-0447-4cd2-ad23-39ca24d1b040",
   "metadata": {},
   "outputs": [
    {
     "data": {
      "text/plain": [
       "CIK\n",
       "1500365    2\n",
       "1002822    2\n",
       "1750       1\n",
       "1288403    1\n",
       "1289236    1\n",
       "          ..\n",
       "901491     1\n",
       "901219     1\n",
       "900393     1\n",
       "900349     1\n",
       "1530796    1\n",
       "Length: 7183, dtype: int64"
      ]
     },
     "execution_count": 94,
     "metadata": {},
     "output_type": "execute_result"
    }
   ],
   "source": [
    "cik_counts_2011"
   ]
  },
  {
   "cell_type": "code",
   "execution_count": 95,
   "id": "685bb59a-68b5-4e21-91f9-63c085a430aa",
   "metadata": {},
   "outputs": [
    {
     "data": {
      "text/plain": [
       "(3150, 11)"
      ]
     },
     "execution_count": 95,
     "metadata": {},
     "output_type": "execute_result"
    }
   ],
   "source": [
    "# try merging on CIK instead\n",
    "\n",
    "df_merge_2 = pd.merge(\n",
    "    df_2005_10Q_inc,\n",
    "    df_2011_10Q_inc,\n",
    "    on=\"CIK\",\n",
    "    how=\"inner\",\n",
    "    #     validate=\"one_to_one\",\n",
    ")\n",
    "df_merge_2.shape"
   ]
  },
  {
   "cell_type": "code",
   "execution_count": 96,
   "id": "deb3ea98-f181-4cd3-a2d1-2bdc1d5a58f2",
   "metadata": {},
   "outputs": [
    {
     "name": "stdout",
     "output_type": "stream",
     "text": [
      "Series([], dtype: int64)\n",
      "CIK\n",
      "1500365    2\n",
      "1002822    2\n",
      "dtype: int64\n"
     ]
    }
   ],
   "source": [
    "cik_counts_2005 = df_2005_10Q_inc.value_counts(\"CIK\")\n",
    "cik_counts_2011 = df_2011_10Q_inc.value_counts(\"CIK\")\n",
    "\n",
    "print(cik_counts_2005[cik_counts_2005 > 1])\n",
    "print(cik_counts_2011[cik_counts_2011 > 1])\n",
    "\n",
    "# no duplicate cik in either dataset"
   ]
  },
  {
   "cell_type": "code",
   "execution_count": 97,
   "id": "452b1e19-3b66-4478-aef3-967f503b52fd",
   "metadata": {},
   "outputs": [
    {
     "data": {
      "text/plain": [
       "3150"
      ]
     },
     "execution_count": 97,
     "metadata": {},
     "output_type": "execute_result"
    }
   ],
   "source": [
    "cik_survived = set(df_merge_2[\"CIK\"])\n",
    "len(cik_survived)"
   ]
  },
  {
   "cell_type": "code",
   "execution_count": 98,
   "id": "36440e1e-da8f-46ec-bf19-06f54bea9b1b",
   "metadata": {},
   "outputs": [
    {
     "data": {
      "text/plain": [
       "3262"
      ]
     },
     "execution_count": 98,
     "metadata": {},
     "output_type": "execute_result"
    }
   ],
   "source": [
    "cik_died = df_2005_10Q_inc.loc[~df_2005_10Q_inc[\"CIK\"].isin(cik_survived), \"CIK\"]\n",
    "cik_died = set(cik_died)\n",
    "len(cik_died)"
   ]
  },
  {
   "cell_type": "code",
   "execution_count": 99,
   "id": "e15c0ee1-7c91-49e6-9038-7e1604300652",
   "metadata": {},
   "outputs": [],
   "source": [
    "companies_survived = df_2005_10Q_inc.loc[\n",
    "    df_2005_10Q_inc[\"CIK\"].isin(cik_survived), [\"Company Name\", \"CIK\"]\n",
    "].reset_index(drop=True)\n",
    "companies_died = df_2005_10Q_inc.loc[\n",
    "    df_2005_10Q_inc[\"CIK\"].isin(cik_died), [\"Company Name\", \"CIK\"]\n",
    "].reset_index(drop=True)\n",
    "\n",
    "# upper-case all company names to correspond to Mevluet dataset\n",
    "companies_survived[\"Company Name\"] = companies_survived[\"Company Name\"].str.upper()\n",
    "companies_died[\"Company Name\"] = companies_died[\"Company Name\"].str.upper()"
   ]
  },
  {
   "cell_type": "code",
   "execution_count": 110,
   "id": "9f7ab5e3-715d-4f56-a5ce-f78b85662a6c",
   "metadata": {},
   "outputs": [],
   "source": [
    "# FIXME\n",
    "companies_died.drop_duplicates(\"Company Name\", inplace=True)"
   ]
  },
  {
   "cell_type": "code",
   "execution_count": 106,
   "id": "fbe27de2-e508-4a89-a11a-a72c2dd81a09",
   "metadata": {},
   "outputs": [
    {
     "data": {
      "text/html": [
       "<div>\n",
       "<style scoped>\n",
       "    .dataframe tbody tr th:only-of-type {\n",
       "        vertical-align: middle;\n",
       "    }\n",
       "\n",
       "    .dataframe tbody tr th {\n",
       "        vertical-align: top;\n",
       "    }\n",
       "\n",
       "    .dataframe thead th {\n",
       "        text-align: right;\n",
       "    }\n",
       "</style>\n",
       "<table border=\"1\" class=\"dataframe\">\n",
       "  <thead>\n",
       "    <tr style=\"text-align: right;\">\n",
       "      <th></th>\n",
       "      <th>Company Name</th>\n",
       "      <th>CIK</th>\n",
       "    </tr>\n",
       "  </thead>\n",
       "  <tbody>\n",
       "    <tr>\n",
       "      <th>0</th>\n",
       "      <td>1 800 FLOWERS COM INC</td>\n",
       "      <td>1084869</td>\n",
       "    </tr>\n",
       "    <tr>\n",
       "      <th>1</th>\n",
       "      <td>1ST CONSTITUTION BANCORP</td>\n",
       "      <td>1141807</td>\n",
       "    </tr>\n",
       "    <tr>\n",
       "      <th>2</th>\n",
       "      <td>1ST SOURCE CORP</td>\n",
       "      <td>34782</td>\n",
       "    </tr>\n",
       "    <tr>\n",
       "      <th>3</th>\n",
       "      <td>21ST CENTURY HOLDING CO</td>\n",
       "      <td>1069996</td>\n",
       "    </tr>\n",
       "    <tr>\n",
       "      <th>4</th>\n",
       "      <td>3D SYSTEMS CORP</td>\n",
       "      <td>910638</td>\n",
       "    </tr>\n",
       "  </tbody>\n",
       "</table>\n",
       "</div>"
      ],
      "text/plain": [
       "               Company Name      CIK\n",
       "0     1 800 FLOWERS COM INC  1084869\n",
       "1  1ST CONSTITUTION BANCORP  1141807\n",
       "2           1ST SOURCE CORP    34782\n",
       "3   21ST CENTURY HOLDING CO  1069996\n",
       "4           3D SYSTEMS CORP   910638"
      ]
     },
     "execution_count": 106,
     "metadata": {},
     "output_type": "execute_result"
    }
   ],
   "source": [
    "companies_survived.head()"
   ]
  },
  {
   "cell_type": "code",
   "execution_count": 101,
   "id": "53b4d481-f72b-485f-a8d9-26bf8dbfd9d0",
   "metadata": {},
   "outputs": [
    {
     "data": {
      "text/html": [
       "<div>\n",
       "<style scoped>\n",
       "    .dataframe tbody tr th:only-of-type {\n",
       "        vertical-align: middle;\n",
       "    }\n",
       "\n",
       "    .dataframe tbody tr th {\n",
       "        vertical-align: top;\n",
       "    }\n",
       "\n",
       "    .dataframe thead th {\n",
       "        text-align: right;\n",
       "    }\n",
       "</style>\n",
       "<table border=\"1\" class=\"dataframe\">\n",
       "  <thead>\n",
       "    <tr style=\"text-align: right;\">\n",
       "      <th></th>\n",
       "      <th>Company Name</th>\n",
       "      <th>CIK</th>\n",
       "    </tr>\n",
       "  </thead>\n",
       "  <tbody>\n",
       "    <tr>\n",
       "      <th>0</th>\n",
       "      <td>1 800 CONTACTS INC</td>\n",
       "      <td>1050122</td>\n",
       "    </tr>\n",
       "    <tr>\n",
       "      <th>1</th>\n",
       "      <td>1ST STATE BANCORP INC</td>\n",
       "      <td>1074078</td>\n",
       "    </tr>\n",
       "    <tr>\n",
       "      <th>2</th>\n",
       "      <td>24/7 REAL MEDIA INC</td>\n",
       "      <td>1062195</td>\n",
       "    </tr>\n",
       "    <tr>\n",
       "      <th>3</th>\n",
       "      <td>3CI COMPLETE COMPLIANCE CORP</td>\n",
       "      <td>883787</td>\n",
       "    </tr>\n",
       "    <tr>\n",
       "      <th>4</th>\n",
       "      <td>3COM CORP</td>\n",
       "      <td>738076</td>\n",
       "    </tr>\n",
       "  </tbody>\n",
       "</table>\n",
       "</div>"
      ],
      "text/plain": [
       "                   Company Name      CIK\n",
       "0            1 800 CONTACTS INC  1050122\n",
       "1         1ST STATE BANCORP INC  1074078\n",
       "2           24/7 REAL MEDIA INC  1062195\n",
       "3  3CI COMPLETE COMPLIANCE CORP   883787\n",
       "4                     3COM CORP   738076"
      ]
     },
     "execution_count": 101,
     "metadata": {},
     "output_type": "execute_result"
    }
   ],
   "source": [
    "companies_died.head()"
   ]
  },
  {
   "cell_type": "code",
   "execution_count": 111,
   "id": "d63fb32d-b81c-439f-8eee-5fa3c4a9f230",
   "metadata": {},
   "outputs": [],
   "source": [
    "companies_survived.to_csv(\"../data/processed/companies_survived.csv\")\n",
    "companies_died.to_csv(\"../data/processed/companies_died.csv\")"
   ]
  },
  {
   "cell_type": "code",
   "execution_count": 66,
   "id": "4b55de0a-dd72-456c-9a37-6d05a4c39c65",
   "metadata": {},
   "outputs": [
    {
     "data": {
      "text/html": [
       "<div>\n",
       "<style scoped>\n",
       "    .dataframe tbody tr th:only-of-type {\n",
       "        vertical-align: middle;\n",
       "    }\n",
       "\n",
       "    .dataframe tbody tr th {\n",
       "        vertical-align: top;\n",
       "    }\n",
       "\n",
       "    .dataframe thead th {\n",
       "        text-align: right;\n",
       "    }\n",
       "</style>\n",
       "<table border=\"1\" class=\"dataframe\">\n",
       "  <thead>\n",
       "    <tr style=\"text-align: right;\">\n",
       "      <th></th>\n",
       "      <th>Company Name</th>\n",
       "      <th>Form Type</th>\n",
       "      <th>CIK</th>\n",
       "      <th>Date Filed</th>\n",
       "      <th>File Name</th>\n",
       "      <th>Date_filed</th>\n",
       "    </tr>\n",
       "  </thead>\n",
       "  <tbody>\n",
       "    <tr>\n",
       "      <th>0</th>\n",
       "      <td>----------------------------------------------...</td>\n",
       "      <td>NaN</td>\n",
       "      <td>-1</td>\n",
       "      <td>None</td>\n",
       "      <td>None</td>\n",
       "      <td>NaT</td>\n",
       "    </tr>\n",
       "    <tr>\n",
       "      <th>1</th>\n",
       "      <td>033 ASSET MANAGEMENT LLC /</td>\n",
       "      <td>13F-HR</td>\n",
       "      <td>1114831</td>\n",
       "      <td>2005-02-04</td>\n",
       "      <td>edgar/data/1114831/0000950136-05-000593.txt</td>\n",
       "      <td>2005-02-04</td>\n",
       "    </tr>\n",
       "    <tr>\n",
       "      <th>2</th>\n",
       "      <td>033 ASSET MANAGEMENT LLC /</td>\n",
       "      <td>SC 13D</td>\n",
       "      <td>1114831</td>\n",
       "      <td>2005-02-09</td>\n",
       "      <td>edgar/data/1114831/0000950136-05-000662.txt</td>\n",
       "      <td>2005-02-09</td>\n",
       "    </tr>\n",
       "    <tr>\n",
       "      <th>3</th>\n",
       "      <td>033 ASSET MANAGEMENT LLC /</td>\n",
       "      <td>SC 13D/A</td>\n",
       "      <td>1114831</td>\n",
       "      <td>2005-01-26</td>\n",
       "      <td>edgar/data/1114831/0000950136-05-000374.txt</td>\n",
       "      <td>2005-01-26</td>\n",
       "    </tr>\n",
       "    <tr>\n",
       "      <th>4</th>\n",
       "      <td>033 ASSET MANAGEMENT LLC /</td>\n",
       "      <td>SC 13D/A</td>\n",
       "      <td>1114831</td>\n",
       "      <td>2005-02-04</td>\n",
       "      <td>edgar/data/1114831/0000950136-05-000613.txt</td>\n",
       "      <td>2005-02-04</td>\n",
       "    </tr>\n",
       "  </tbody>\n",
       "</table>\n",
       "</div>"
      ],
      "text/plain": [
       "                                        Company Name Form Type      CIK  \\\n",
       "0  ----------------------------------------------...       NaN       -1   \n",
       "1                         033 ASSET MANAGEMENT LLC /    13F-HR  1114831   \n",
       "2                         033 ASSET MANAGEMENT LLC /    SC 13D  1114831   \n",
       "3                         033 ASSET MANAGEMENT LLC /  SC 13D/A  1114831   \n",
       "4                         033 ASSET MANAGEMENT LLC /  SC 13D/A  1114831   \n",
       "\n",
       "   Date Filed                                    File Name Date_filed  \n",
       "0        None                                         None        NaT  \n",
       "1  2005-02-04  edgar/data/1114831/0000950136-05-000593.txt 2005-02-04  \n",
       "2  2005-02-09  edgar/data/1114831/0000950136-05-000662.txt 2005-02-09  \n",
       "3  2005-01-26  edgar/data/1114831/0000950136-05-000374.txt 2005-01-26  \n",
       "4  2005-02-04  edgar/data/1114831/0000950136-05-000613.txt 2005-02-04  "
      ]
     },
     "execution_count": 66,
     "metadata": {},
     "output_type": "execute_result"
    }
   ],
   "source": [
    "df_2005.head()"
   ]
  },
  {
   "cell_type": "code",
   "execution_count": 119,
   "id": "005f6716-714a-4fd0-a50f-b319978e82b1",
   "metadata": {
    "tags": []
   },
   "outputs": [
    {
     "data": {
      "text/html": [
       "<div>\n",
       "<style scoped>\n",
       "    .dataframe tbody tr th:only-of-type {\n",
       "        vertical-align: middle;\n",
       "    }\n",
       "\n",
       "    .dataframe tbody tr th {\n",
       "        vertical-align: top;\n",
       "    }\n",
       "\n",
       "    .dataframe thead th {\n",
       "        text-align: right;\n",
       "    }\n",
       "</style>\n",
       "<table border=\"1\" class=\"dataframe\">\n",
       "  <thead>\n",
       "    <tr style=\"text-align: right;\">\n",
       "      <th></th>\n",
       "      <th>Company Name</th>\n",
       "      <th>CIK</th>\n",
       "    </tr>\n",
       "  </thead>\n",
       "  <tbody>\n",
       "    <tr>\n",
       "      <th>2183</th>\n",
       "      <td>ORACLE CORP /DE/</td>\n",
       "      <td>777676</td>\n",
       "    </tr>\n",
       "  </tbody>\n",
       "</table>\n",
       "</div>"
      ],
      "text/plain": [
       "          Company Name     CIK\n",
       "2183  ORACLE CORP /DE/  777676"
      ]
     },
     "execution_count": 119,
     "metadata": {},
     "output_type": "execute_result"
    }
   ],
   "source": [
    "companies_died[companies_died[\"Company Name\"].str.contains(\"ORACLE\")]"
   ]
  },
  {
   "cell_type": "code",
   "execution_count": 121,
   "id": "7fdd46e4-3cb4-4c4f-ab3e-a11c5fe90f29",
   "metadata": {},
   "outputs": [
    {
     "data": {
      "text/html": [
       "<div>\n",
       "<style scoped>\n",
       "    .dataframe tbody tr th:only-of-type {\n",
       "        vertical-align: middle;\n",
       "    }\n",
       "\n",
       "    .dataframe tbody tr th {\n",
       "        vertical-align: top;\n",
       "    }\n",
       "\n",
       "    .dataframe thead th {\n",
       "        text-align: right;\n",
       "    }\n",
       "</style>\n",
       "<table border=\"1\" class=\"dataframe\">\n",
       "  <thead>\n",
       "    <tr style=\"text-align: right;\">\n",
       "      <th></th>\n",
       "      <th>Company Name</th>\n",
       "      <th>Form Type</th>\n",
       "      <th>CIK</th>\n",
       "      <th>Date Filed</th>\n",
       "      <th>File Name</th>\n",
       "      <th>Date_filed</th>\n",
       "    </tr>\n",
       "  </thead>\n",
       "  <tbody>\n",
       "    <tr>\n",
       "      <th>174250</th>\n",
       "      <td>MANALAPAN ORACLE EAGLE FUND LP</td>\n",
       "      <td>REGDEX</td>\n",
       "      <td>1134424</td>\n",
       "      <td>2005-01-24</td>\n",
       "      <td>edgar/data/1134424/9999999997-05-002904.txt</td>\n",
       "      <td>2005-01-24</td>\n",
       "    </tr>\n",
       "    <tr>\n",
       "      <th>211400</th>\n",
       "      <td>ORACLE CORP /DE/</td>\n",
       "      <td>10-Q</td>\n",
       "      <td>777676</td>\n",
       "      <td>2005-03-25</td>\n",
       "      <td>edgar/data/777676/0000950134-05-006028.txt</td>\n",
       "      <td>2005-03-25</td>\n",
       "    </tr>\n",
       "    <tr>\n",
       "      <th>211401</th>\n",
       "      <td>ORACLE CORP /DE/</td>\n",
       "      <td>3</td>\n",
       "      <td>777676</td>\n",
       "      <td>2005-01-03</td>\n",
       "      <td>edgar/data/777676/0000950103-05-000010.txt</td>\n",
       "      <td>2005-01-03</td>\n",
       "    </tr>\n",
       "    <tr>\n",
       "      <th>211402</th>\n",
       "      <td>ORACLE CORP /DE/</td>\n",
       "      <td>4</td>\n",
       "      <td>777676</td>\n",
       "      <td>2005-01-03</td>\n",
       "      <td>edgar/data/777676/0000950103-05-000011.txt</td>\n",
       "      <td>2005-01-03</td>\n",
       "    </tr>\n",
       "    <tr>\n",
       "      <th>211403</th>\n",
       "      <td>ORACLE CORP /DE/</td>\n",
       "      <td>4</td>\n",
       "      <td>777676</td>\n",
       "      <td>2005-01-03</td>\n",
       "      <td>edgar/data/777676/0001093287-05-000002.txt</td>\n",
       "      <td>2005-01-03</td>\n",
       "    </tr>\n",
       "  </tbody>\n",
       "</table>\n",
       "</div>"
      ],
      "text/plain": [
       "                          Company Name Form Type      CIK  Date Filed  \\\n",
       "174250  MANALAPAN ORACLE EAGLE FUND LP    REGDEX  1134424  2005-01-24   \n",
       "211400                ORACLE CORP /DE/      10-Q   777676  2005-03-25   \n",
       "211401                ORACLE CORP /DE/         3   777676  2005-01-03   \n",
       "211402                ORACLE CORP /DE/         4   777676  2005-01-03   \n",
       "211403                ORACLE CORP /DE/         4   777676  2005-01-03   \n",
       "\n",
       "                                          File Name Date_filed  \n",
       "174250  edgar/data/1134424/9999999997-05-002904.txt 2005-01-24  \n",
       "211400   edgar/data/777676/0000950134-05-006028.txt 2005-03-25  \n",
       "211401   edgar/data/777676/0000950103-05-000010.txt 2005-01-03  \n",
       "211402   edgar/data/777676/0000950103-05-000011.txt 2005-01-03  \n",
       "211403   edgar/data/777676/0001093287-05-000002.txt 2005-01-03  "
      ]
     },
     "execution_count": 121,
     "metadata": {},
     "output_type": "execute_result"
    }
   ],
   "source": [
    "df_2005[df_2005[\"Company Name\"].str.contains(\"ORACLE\")].head()"
   ]
  },
  {
   "cell_type": "code",
   "execution_count": 122,
   "id": "10cd8314-ccab-44e7-bc49-bd0aaeca64ca",
   "metadata": {},
   "outputs": [
    {
     "data": {
      "text/html": [
       "<div>\n",
       "<style scoped>\n",
       "    .dataframe tbody tr th:only-of-type {\n",
       "        vertical-align: middle;\n",
       "    }\n",
       "\n",
       "    .dataframe tbody tr th {\n",
       "        vertical-align: top;\n",
       "    }\n",
       "\n",
       "    .dataframe thead th {\n",
       "        text-align: right;\n",
       "    }\n",
       "</style>\n",
       "<table border=\"1\" class=\"dataframe\">\n",
       "  <thead>\n",
       "    <tr style=\"text-align: right;\">\n",
       "      <th></th>\n",
       "      <th>Company Name</th>\n",
       "      <th>Form Type</th>\n",
       "      <th>CIK</th>\n",
       "      <th>Date Filed</th>\n",
       "      <th>File Name</th>\n",
       "      <th>Date_filed</th>\n",
       "    </tr>\n",
       "  </thead>\n",
       "  <tbody>\n",
       "    <tr>\n",
       "      <th>136358</th>\n",
       "      <td>ORACLE CORP</td>\n",
       "      <td>10-Q</td>\n",
       "      <td>1341439</td>\n",
       "      <td>2011-12-23</td>\n",
       "      <td>edgar/data/1341439/0001193125-11-351954.txt</td>\n",
       "      <td>2011-12-23</td>\n",
       "    </tr>\n",
       "    <tr>\n",
       "      <th>136359</th>\n",
       "      <td>ORACLE CORP</td>\n",
       "      <td>4</td>\n",
       "      <td>1341439</td>\n",
       "      <td>2011-10-18</td>\n",
       "      <td>edgar/data/1341439/0001127602-11-027473.txt</td>\n",
       "      <td>2011-10-18</td>\n",
       "    </tr>\n",
       "    <tr>\n",
       "      <th>136360</th>\n",
       "      <td>ORACLE CORP</td>\n",
       "      <td>4</td>\n",
       "      <td>1341439</td>\n",
       "      <td>2011-11-02</td>\n",
       "      <td>edgar/data/1341439/0001127602-11-028328.txt</td>\n",
       "      <td>2011-11-02</td>\n",
       "    </tr>\n",
       "    <tr>\n",
       "      <th>136361</th>\n",
       "      <td>ORACLE CORP</td>\n",
       "      <td>4</td>\n",
       "      <td>1341439</td>\n",
       "      <td>2011-11-04</td>\n",
       "      <td>edgar/data/1341439/0001127602-11-028698.txt</td>\n",
       "      <td>2011-11-04</td>\n",
       "    </tr>\n",
       "    <tr>\n",
       "      <th>136362</th>\n",
       "      <td>ORACLE CORP</td>\n",
       "      <td>4</td>\n",
       "      <td>1341439</td>\n",
       "      <td>2011-11-15</td>\n",
       "      <td>edgar/data/1341439/0001127602-11-029678.txt</td>\n",
       "      <td>2011-11-15</td>\n",
       "    </tr>\n",
       "  </tbody>\n",
       "</table>\n",
       "</div>"
      ],
      "text/plain": [
       "       Company Name Form Type      CIK  Date Filed  \\\n",
       "136358  ORACLE CORP      10-Q  1341439  2011-12-23   \n",
       "136359  ORACLE CORP         4  1341439  2011-10-18   \n",
       "136360  ORACLE CORP         4  1341439  2011-11-02   \n",
       "136361  ORACLE CORP         4  1341439  2011-11-04   \n",
       "136362  ORACLE CORP         4  1341439  2011-11-15   \n",
       "\n",
       "                                          File Name Date_filed  \n",
       "136358  edgar/data/1341439/0001193125-11-351954.txt 2011-12-23  \n",
       "136359  edgar/data/1341439/0001127602-11-027473.txt 2011-10-18  \n",
       "136360  edgar/data/1341439/0001127602-11-028328.txt 2011-11-02  \n",
       "136361  edgar/data/1341439/0001127602-11-028698.txt 2011-11-04  \n",
       "136362  edgar/data/1341439/0001127602-11-029678.txt 2011-11-15  "
      ]
     },
     "execution_count": 122,
     "metadata": {},
     "output_type": "execute_result"
    }
   ],
   "source": [
    "df_2011[df_2011[\"Company Name\"].str.contains(\"ORACLE\")].head()"
   ]
  },
  {
   "cell_type": "code",
   "execution_count": null,
   "id": "4e95eb94-18e0-437c-87d9-5ddc1907ee1f",
   "metadata": {},
   "outputs": [],
   "source": []
  }
 ],
 "metadata": {
  "kernelspec": {
   "display_name": "propulsion",
   "language": "python",
   "name": "propulsion"
  },
  "language_info": {
   "codemirror_mode": {
    "name": "ipython",
    "version": 3
   },
   "file_extension": ".py",
   "mimetype": "text/x-python",
   "name": "python",
   "nbconvert_exporter": "python",
   "pygments_lexer": "ipython3",
   "version": "3.9.5"
  }
 },
 "nbformat": 4,
 "nbformat_minor": 5
}
