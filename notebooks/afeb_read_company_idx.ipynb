{
 "cells": [
  {
   "cell_type": "code",
   "execution_count": 1,
   "id": "7aaae353-e389-4211-ae43-ed819982475d",
   "metadata": {},
   "outputs": [],
   "source": [
    "%load_ext lab_black"
   ]
  },
  {
   "cell_type": "code",
   "execution_count": 17,
   "id": "b61a6204-bfe2-4231-9f61-6da3a25524f1",
   "metadata": {},
   "outputs": [],
   "source": [
    "import pandas as pd\n",
    "from zipfile import ZipFile"
   ]
  },
  {
   "cell_type": "code",
   "execution_count": 3,
   "id": "703ea9d0-0b87-460b-80d8-c9c333d05db4",
   "metadata": {},
   "outputs": [],
   "source": [
    "# take a look at the data\n",
    "\n",
    "file_companies_2005_Q1 = \"../data/raw/company_2005_Q1.zip\"\n",
    "file_companies_2011_Q4 = \"../data/raw/company_2011_Q4.zip\"\n",
    "\n",
    "myzip = ZipFile(file_companies_2005_Q1)\n",
    "#     print(myzip.namelist())\n",
    "filestream_2005 = myzip.open(\"company.idx\")\n",
    "myzip.close()\n",
    "\n",
    "myzip = ZipFile(file_companies_2011_Q4)\n",
    "filestream_2011 = myzip.open(\"company.idx\")\n",
    "myzip.close()"
   ]
  },
  {
   "cell_type": "code",
   "execution_count": 4,
   "id": "a5eca9a2-54ed-4f28-8c0e-d9584aa8624c",
   "metadata": {},
   "outputs": [
    {
     "name": "stderr",
     "output_type": "stream",
     "text": [
      "/Users/navy/anaconda3/envs/propulsion/lib/python3.9/site-packages/pandas/util/_decorators.py:311: ParserWarning: Falling back to the 'python' engine because the 'c' engine does not support regex separators (separators > 1 char and different from '\\s+' are interpreted as regex); you can avoid this warning by specifying engine='python'.\n",
      "  return func(*args, **kwargs)\n",
      "/Users/navy/anaconda3/envs/propulsion/lib/python3.9/site-packages/IPython/core/interactiveshell.py:3441: FutureWarning: The warn_bad_lines argument has been deprecated and will be removed in a future version.\n",
      "\n",
      "\n",
      "  exec(code_obj, self.user_global_ns, self.user_ns)\n",
      "/Users/navy/anaconda3/envs/propulsion/lib/python3.9/site-packages/IPython/core/interactiveshell.py:3441: FutureWarning: The error_bad_lines argument has been deprecated and will be removed in a future version.\n",
      "\n",
      "\n",
      "  exec(code_obj, self.user_global_ns, self.user_ns)\n"
     ]
    },
    {
     "name": "stdout",
     "output_type": "stream",
     "text": [
      "<class 'pandas.core.frame.DataFrame'>\n",
      "RangeIndex: 314826 entries, 0 to 314825\n",
      "Data columns (total 5 columns):\n",
      " #   Column        Non-Null Count   Dtype  \n",
      "---  ------        --------------   -----  \n",
      " 0   Company Name  314826 non-null  object \n",
      " 1   Form Type     314825 non-null  object \n",
      " 2   CIK           314825 non-null  float64\n",
      " 3   Date Filed    314825 non-null  object \n",
      " 4   File Name     314825 non-null  object \n",
      "dtypes: float64(1), object(4)\n",
      "memory usage: 12.0+ MB\n"
     ]
    }
   ],
   "source": [
    "# load company list data\n",
    "df_2005 = pd.read_csv(\n",
    "    filestream_2005,\n",
    "    sep=r\" [ ]+\",\n",
    "    header=4,\n",
    "    skiprows=[8],\n",
    "    error_bad_lines=False,\n",
    "    warn_bad_lines=False,\n",
    ")\n",
    "df_2005.info()"
   ]
  },
  {
   "cell_type": "code",
   "execution_count": 5,
   "id": "8aa098b3-3930-4057-9bd1-090a0f586b7e",
   "metadata": {},
   "outputs": [
    {
     "name": "stdout",
     "output_type": "stream",
     "text": [
      "<class 'pandas.core.frame.DataFrame'>\n",
      "RangeIndex: 202470 entries, 0 to 202469\n",
      "Data columns (total 5 columns):\n",
      " #   Column        Non-Null Count   Dtype \n",
      "---  ------        --------------   ----- \n",
      " 0   Company Name  202470 non-null  object\n",
      " 1   Form Type     202470 non-null  object\n",
      " 2   CIK           202470 non-null  int64 \n",
      " 3   Date Filed    202470 non-null  object\n",
      " 4   File Name     202470 non-null  object\n",
      "dtypes: int64(1), object(4)\n",
      "memory usage: 7.7+ MB\n"
     ]
    }
   ],
   "source": [
    "# load company list data\n",
    "df_2011 = pd.read_csv(\n",
    "    filestream_2011,\n",
    "    sep=r\" [ ]+\",\n",
    "    header=4,\n",
    "    skiprows=[9],\n",
    "    error_bad_lines=False,\n",
    "    warn_bad_lines=False,\n",
    "    encoding_errors=\"replace\",\n",
    ")\n",
    "df_2011.info()"
   ]
  },
  {
   "cell_type": "code",
   "execution_count": 6,
   "id": "b556b0f6-d01f-43d1-8d3d-9e7fb1658f32",
   "metadata": {},
   "outputs": [],
   "source": [
    "# cleaning\n",
    "\n",
    "\n",
    "def to_int(x):\n",
    "    try:\n",
    "        return int(x)\n",
    "    except (pd.errors.IntCastingNaNError, ValueError):\n",
    "        return -1\n",
    "\n",
    "\n",
    "# 2005\n",
    "df_2005[\"CIK\"] = df_2005[\"CIK\"].apply(lambda x: to_int(x))\n",
    "df_2005[\"Date_filed\"] = pd.to_datetime(df_2005[\"Date Filed\"])\n",
    "df_2005[\"Form Type\"] = df_2005[\"Form Type\"].astype(\"category\")\n",
    "\n",
    "# 2011\n",
    "df_2011[\"Date_filed\"] = pd.to_datetime(df_2011[\"Date Filed\"])\n",
    "df_2011[\"Form Type\"] = df_2011[\"Form Type\"].astype(\"category\")\n",
    "\n",
    "df_2005.to_csv(\"../data/processed/companies_2005_Q1.csv\")\n",
    "df_2011.to_csv(\"../data/processed/companies_2011_Q4.csv\")"
   ]
  },
  {
   "cell_type": "code",
   "execution_count": 7,
   "id": "998ea495-3c66-4a90-94aa-fbf417ad1a56",
   "metadata": {},
   "outputs": [
    {
     "name": "stdout",
     "output_type": "stream",
     "text": [
      "(1522, 6) (7651, 6)\n"
     ]
    }
   ],
   "source": [
    "# select only 10-Q fillings\n",
    "\n",
    "df_2005_10Q = df_2005[df_2005[\"Form Type\"] == \"10-Q\"]\n",
    "df_2011_10Q = df_2011[df_2011[\"Form Type\"] == \"10-Q\"]\n",
    "print(df_2005_10Q.shape, df_2011_10Q.shape)"
   ]
  },
  {
   "cell_type": "code",
   "execution_count": 8,
   "id": "8e819ae3-8c16-49d5-8ac3-16da5ff70869",
   "metadata": {},
   "outputs": [
    {
     "name": "stdout",
     "output_type": "stream",
     "text": [
      "0.02097428958051421\n"
     ]
    },
    {
     "data": {
      "text/plain": [
       "Company Name\n",
       "DIASENSE INC/PA                7\n",
       "BCTC IV ASSIGNOR CORP          3\n",
       "NORTEL NETWORKS LTD            3\n",
       "BCTC V ASSIGNOR CORP           3\n",
       "UNIMARK GROUP INC              3\n",
       "                              ..\n",
       "EVANS BOB FARMS INC            1\n",
       "ETHAN ALLEN INTERIORS INC      1\n",
       "ESTERLINE TECHNOLOGIES CORP    1\n",
       "ESTEE LAUDER COMPANIES INC     1\n",
       "streetTRACKS GOLD TRUST        1\n",
       "Length: 1478, dtype: int64"
      ]
     },
     "execution_count": 8,
     "metadata": {},
     "output_type": "execute_result"
    }
   ],
   "source": [
    "counts = df_2005_10Q.value_counts(\"Company Name\")\n",
    "print(sum(counts > 1) / len(counts))\n",
    "counts"
   ]
  },
  {
   "cell_type": "code",
   "execution_count": 9,
   "id": "9a9a5e9e-84f6-4728-b976-fa76ef05c1a8",
   "metadata": {},
   "outputs": [
    {
     "name": "stdout",
     "output_type": "stream",
     "text": [
      "0.01020545185980932\n"
     ]
    },
    {
     "data": {
      "text/plain": [
       "Company Name\n",
       "Grupo International Inc                        22\n",
       "THERMAL ENERGY STORAGE INC                     20\n",
       "ABSOLUTE POTENTIAL, INC.                       12\n",
       "WNC HOUSING TAX CREDIT FUND VI LP SERIES 6     11\n",
       "WNC HOUSING TAX CREDIT FUND IV L P SERIES 2    11\n",
       "                                               ..\n",
       "Energy Transfer Partners, L.P.                  1\n",
       "Energy Transfer Equity, L.P.                    1\n",
       "Energy Telecom, Inc.                            1\n",
       "Energy Recovery, Inc.                           1\n",
       "vitaminspice                                    1\n",
       "Length: 7447, dtype: int64"
      ]
     },
     "execution_count": 9,
     "metadata": {},
     "output_type": "execute_result"
    }
   ],
   "source": [
    "counts = df_2011_10Q.value_counts(\"Company Name\")\n",
    "print(sum(counts > 1) / len(counts))\n",
    "counts"
   ]
  },
  {
   "cell_type": "code",
   "execution_count": 10,
   "id": "72ffaa81-c3cb-4c9f-9497-81e959d81517",
   "metadata": {},
   "outputs": [
    {
     "data": {
      "text/html": [
       "<div>\n",
       "<style scoped>\n",
       "    .dataframe tbody tr th:only-of-type {\n",
       "        vertical-align: middle;\n",
       "    }\n",
       "\n",
       "    .dataframe tbody tr th {\n",
       "        vertical-align: top;\n",
       "    }\n",
       "\n",
       "    .dataframe thead th {\n",
       "        text-align: right;\n",
       "    }\n",
       "</style>\n",
       "<table border=\"1\" class=\"dataframe\">\n",
       "  <thead>\n",
       "    <tr style=\"text-align: right;\">\n",
       "      <th></th>\n",
       "      <th>Company Name</th>\n",
       "      <th>Form Type</th>\n",
       "      <th>CIK</th>\n",
       "      <th>Date Filed</th>\n",
       "      <th>File Name</th>\n",
       "      <th>Date_filed</th>\n",
       "    </tr>\n",
       "  </thead>\n",
       "  <tbody>\n",
       "    <tr>\n",
       "      <th>81961</th>\n",
       "      <td>Grupo International Inc</td>\n",
       "      <td>10-Q</td>\n",
       "      <td>1082576</td>\n",
       "      <td>2011-10-19</td>\n",
       "      <td>edgar/data/1082576/0001269678-11-000231.txt</td>\n",
       "      <td>2011-10-19</td>\n",
       "    </tr>\n",
       "    <tr>\n",
       "      <th>81962</th>\n",
       "      <td>Grupo International Inc</td>\n",
       "      <td>10-Q</td>\n",
       "      <td>1082576</td>\n",
       "      <td>2011-10-19</td>\n",
       "      <td>edgar/data/1082576/0001269678-11-000232.txt</td>\n",
       "      <td>2011-10-19</td>\n",
       "    </tr>\n",
       "    <tr>\n",
       "      <th>81963</th>\n",
       "      <td>Grupo International Inc</td>\n",
       "      <td>10-Q</td>\n",
       "      <td>1082576</td>\n",
       "      <td>2011-10-19</td>\n",
       "      <td>edgar/data/1082576/0001269678-11-000233.txt</td>\n",
       "      <td>2011-10-19</td>\n",
       "    </tr>\n",
       "    <tr>\n",
       "      <th>81964</th>\n",
       "      <td>Grupo International Inc</td>\n",
       "      <td>10-Q</td>\n",
       "      <td>1082576</td>\n",
       "      <td>2011-10-24</td>\n",
       "      <td>edgar/data/1082576/0001269678-11-000235.txt</td>\n",
       "      <td>2011-10-24</td>\n",
       "    </tr>\n",
       "    <tr>\n",
       "      <th>81965</th>\n",
       "      <td>Grupo International Inc</td>\n",
       "      <td>10-Q</td>\n",
       "      <td>1082576</td>\n",
       "      <td>2011-10-24</td>\n",
       "      <td>edgar/data/1082576/0001269678-11-000236.txt</td>\n",
       "      <td>2011-10-24</td>\n",
       "    </tr>\n",
       "    <tr>\n",
       "      <th>81966</th>\n",
       "      <td>Grupo International Inc</td>\n",
       "      <td>10-Q</td>\n",
       "      <td>1082576</td>\n",
       "      <td>2011-10-24</td>\n",
       "      <td>edgar/data/1082576/0001269678-11-000237.txt</td>\n",
       "      <td>2011-10-24</td>\n",
       "    </tr>\n",
       "    <tr>\n",
       "      <th>81967</th>\n",
       "      <td>Grupo International Inc</td>\n",
       "      <td>10-Q</td>\n",
       "      <td>1082576</td>\n",
       "      <td>2011-10-28</td>\n",
       "      <td>edgar/data/1082576/0001269678-11-000239.txt</td>\n",
       "      <td>2011-10-28</td>\n",
       "    </tr>\n",
       "    <tr>\n",
       "      <th>81968</th>\n",
       "      <td>Grupo International Inc</td>\n",
       "      <td>10-Q</td>\n",
       "      <td>1082576</td>\n",
       "      <td>2011-10-28</td>\n",
       "      <td>edgar/data/1082576/0001269678-11-000240.txt</td>\n",
       "      <td>2011-10-28</td>\n",
       "    </tr>\n",
       "    <tr>\n",
       "      <th>81969</th>\n",
       "      <td>Grupo International Inc</td>\n",
       "      <td>10-Q</td>\n",
       "      <td>1082576</td>\n",
       "      <td>2011-10-28</td>\n",
       "      <td>edgar/data/1082576/0001269678-11-000241.txt</td>\n",
       "      <td>2011-10-28</td>\n",
       "    </tr>\n",
       "    <tr>\n",
       "      <th>81970</th>\n",
       "      <td>Grupo International Inc</td>\n",
       "      <td>10-Q</td>\n",
       "      <td>1082576</td>\n",
       "      <td>2011-10-28</td>\n",
       "      <td>edgar/data/1082576/0001269678-11-000243.txt</td>\n",
       "      <td>2011-10-28</td>\n",
       "    </tr>\n",
       "    <tr>\n",
       "      <th>81971</th>\n",
       "      <td>Grupo International Inc</td>\n",
       "      <td>10-Q</td>\n",
       "      <td>1082576</td>\n",
       "      <td>2011-10-28</td>\n",
       "      <td>edgar/data/1082576/0001269678-11-000244.txt</td>\n",
       "      <td>2011-10-28</td>\n",
       "    </tr>\n",
       "    <tr>\n",
       "      <th>81972</th>\n",
       "      <td>Grupo International Inc</td>\n",
       "      <td>10-Q</td>\n",
       "      <td>1082576</td>\n",
       "      <td>2011-10-28</td>\n",
       "      <td>edgar/data/1082576/0001269678-11-000245.txt</td>\n",
       "      <td>2011-10-28</td>\n",
       "    </tr>\n",
       "    <tr>\n",
       "      <th>81973</th>\n",
       "      <td>Grupo International Inc</td>\n",
       "      <td>10-Q</td>\n",
       "      <td>1082576</td>\n",
       "      <td>2011-11-02</td>\n",
       "      <td>edgar/data/1082576/0001269678-11-000247.txt</td>\n",
       "      <td>2011-11-02</td>\n",
       "    </tr>\n",
       "    <tr>\n",
       "      <th>81974</th>\n",
       "      <td>Grupo International Inc</td>\n",
       "      <td>10-Q</td>\n",
       "      <td>1082576</td>\n",
       "      <td>2011-11-02</td>\n",
       "      <td>edgar/data/1082576/0001269678-11-000248.txt</td>\n",
       "      <td>2011-11-02</td>\n",
       "    </tr>\n",
       "    <tr>\n",
       "      <th>81975</th>\n",
       "      <td>Grupo International Inc</td>\n",
       "      <td>10-Q</td>\n",
       "      <td>1082576</td>\n",
       "      <td>2011-11-02</td>\n",
       "      <td>edgar/data/1082576/0001269678-11-000249.txt</td>\n",
       "      <td>2011-11-02</td>\n",
       "    </tr>\n",
       "    <tr>\n",
       "      <th>81976</th>\n",
       "      <td>Grupo International Inc</td>\n",
       "      <td>10-Q</td>\n",
       "      <td>1082576</td>\n",
       "      <td>2011-11-03</td>\n",
       "      <td>edgar/data/1082576/0001269678-11-000251.txt</td>\n",
       "      <td>2011-11-03</td>\n",
       "    </tr>\n",
       "    <tr>\n",
       "      <th>81977</th>\n",
       "      <td>Grupo International Inc</td>\n",
       "      <td>10-Q</td>\n",
       "      <td>1082576</td>\n",
       "      <td>2011-12-05</td>\n",
       "      <td>edgar/data/1082576/0001269678-11-000255.txt</td>\n",
       "      <td>2011-12-05</td>\n",
       "    </tr>\n",
       "    <tr>\n",
       "      <th>81978</th>\n",
       "      <td>Grupo International Inc</td>\n",
       "      <td>10-Q</td>\n",
       "      <td>1082576</td>\n",
       "      <td>2011-12-05</td>\n",
       "      <td>edgar/data/1082576/0001269678-11-000256.txt</td>\n",
       "      <td>2011-12-05</td>\n",
       "    </tr>\n",
       "    <tr>\n",
       "      <th>81979</th>\n",
       "      <td>Grupo International Inc</td>\n",
       "      <td>10-Q</td>\n",
       "      <td>1082576</td>\n",
       "      <td>2011-12-05</td>\n",
       "      <td>edgar/data/1082576/0001269678-11-000258.txt</td>\n",
       "      <td>2011-12-05</td>\n",
       "    </tr>\n",
       "    <tr>\n",
       "      <th>81980</th>\n",
       "      <td>Grupo International Inc</td>\n",
       "      <td>10-Q</td>\n",
       "      <td>1082576</td>\n",
       "      <td>2011-12-07</td>\n",
       "      <td>edgar/data/1082576/0001269678-11-000259.txt</td>\n",
       "      <td>2011-12-07</td>\n",
       "    </tr>\n",
       "    <tr>\n",
       "      <th>81981</th>\n",
       "      <td>Grupo International Inc</td>\n",
       "      <td>10-Q</td>\n",
       "      <td>1082576</td>\n",
       "      <td>2011-12-07</td>\n",
       "      <td>edgar/data/1082576/0001269678-11-000260.txt</td>\n",
       "      <td>2011-12-07</td>\n",
       "    </tr>\n",
       "    <tr>\n",
       "      <th>81982</th>\n",
       "      <td>Grupo International Inc</td>\n",
       "      <td>10-Q</td>\n",
       "      <td>1082576</td>\n",
       "      <td>2011-12-07</td>\n",
       "      <td>edgar/data/1082576/0001269678-11-000261.txt</td>\n",
       "      <td>2011-12-07</td>\n",
       "    </tr>\n",
       "  </tbody>\n",
       "</table>\n",
       "</div>"
      ],
      "text/plain": [
       "                  Company Name Form Type      CIK  Date Filed  \\\n",
       "81961  Grupo International Inc      10-Q  1082576  2011-10-19   \n",
       "81962  Grupo International Inc      10-Q  1082576  2011-10-19   \n",
       "81963  Grupo International Inc      10-Q  1082576  2011-10-19   \n",
       "81964  Grupo International Inc      10-Q  1082576  2011-10-24   \n",
       "81965  Grupo International Inc      10-Q  1082576  2011-10-24   \n",
       "81966  Grupo International Inc      10-Q  1082576  2011-10-24   \n",
       "81967  Grupo International Inc      10-Q  1082576  2011-10-28   \n",
       "81968  Grupo International Inc      10-Q  1082576  2011-10-28   \n",
       "81969  Grupo International Inc      10-Q  1082576  2011-10-28   \n",
       "81970  Grupo International Inc      10-Q  1082576  2011-10-28   \n",
       "81971  Grupo International Inc      10-Q  1082576  2011-10-28   \n",
       "81972  Grupo International Inc      10-Q  1082576  2011-10-28   \n",
       "81973  Grupo International Inc      10-Q  1082576  2011-11-02   \n",
       "81974  Grupo International Inc      10-Q  1082576  2011-11-02   \n",
       "81975  Grupo International Inc      10-Q  1082576  2011-11-02   \n",
       "81976  Grupo International Inc      10-Q  1082576  2011-11-03   \n",
       "81977  Grupo International Inc      10-Q  1082576  2011-12-05   \n",
       "81978  Grupo International Inc      10-Q  1082576  2011-12-05   \n",
       "81979  Grupo International Inc      10-Q  1082576  2011-12-05   \n",
       "81980  Grupo International Inc      10-Q  1082576  2011-12-07   \n",
       "81981  Grupo International Inc      10-Q  1082576  2011-12-07   \n",
       "81982  Grupo International Inc      10-Q  1082576  2011-12-07   \n",
       "\n",
       "                                         File Name Date_filed  \n",
       "81961  edgar/data/1082576/0001269678-11-000231.txt 2011-10-19  \n",
       "81962  edgar/data/1082576/0001269678-11-000232.txt 2011-10-19  \n",
       "81963  edgar/data/1082576/0001269678-11-000233.txt 2011-10-19  \n",
       "81964  edgar/data/1082576/0001269678-11-000235.txt 2011-10-24  \n",
       "81965  edgar/data/1082576/0001269678-11-000236.txt 2011-10-24  \n",
       "81966  edgar/data/1082576/0001269678-11-000237.txt 2011-10-24  \n",
       "81967  edgar/data/1082576/0001269678-11-000239.txt 2011-10-28  \n",
       "81968  edgar/data/1082576/0001269678-11-000240.txt 2011-10-28  \n",
       "81969  edgar/data/1082576/0001269678-11-000241.txt 2011-10-28  \n",
       "81970  edgar/data/1082576/0001269678-11-000243.txt 2011-10-28  \n",
       "81971  edgar/data/1082576/0001269678-11-000244.txt 2011-10-28  \n",
       "81972  edgar/data/1082576/0001269678-11-000245.txt 2011-10-28  \n",
       "81973  edgar/data/1082576/0001269678-11-000247.txt 2011-11-02  \n",
       "81974  edgar/data/1082576/0001269678-11-000248.txt 2011-11-02  \n",
       "81975  edgar/data/1082576/0001269678-11-000249.txt 2011-11-02  \n",
       "81976  edgar/data/1082576/0001269678-11-000251.txt 2011-11-03  \n",
       "81977  edgar/data/1082576/0001269678-11-000255.txt 2011-12-05  \n",
       "81978  edgar/data/1082576/0001269678-11-000256.txt 2011-12-05  \n",
       "81979  edgar/data/1082576/0001269678-11-000258.txt 2011-12-05  \n",
       "81980  edgar/data/1082576/0001269678-11-000259.txt 2011-12-07  \n",
       "81981  edgar/data/1082576/0001269678-11-000260.txt 2011-12-07  \n",
       "81982  edgar/data/1082576/0001269678-11-000261.txt 2011-12-07  "
      ]
     },
     "execution_count": 10,
     "metadata": {},
     "output_type": "execute_result"
    }
   ],
   "source": [
    "# What's happening with this company... ?\n",
    "df_2011_10Q[df_2011_10Q[\"Company Name\"] == \"Grupo International Inc\"]"
   ]
  },
  {
   "cell_type": "code",
   "execution_count": 11,
   "id": "56fc6567-ee8f-449a-9e73-f0eb84214bf7",
   "metadata": {},
   "outputs": [],
   "source": [
    "# Select only companies (a bit rough...)\n",
    "\n",
    "is_company = [\"INC\", \"Inc\", \"CORP\", \"LTD\", \"Corp\", \"CO\", \"inc\"]\n",
    "df_2005_10Q_inc = df_2005_10Q[\n",
    "    df_2005_10Q[\"Company Name\"].str.contains(\"|\".join(is_company))\n",
    "]\n",
    "df_2011_10Q_inc = df_2011_10Q[\n",
    "    df_2011_10Q[\"Company Name\"].str.contains(\"|\".join(is_company))\n",
    "]"
   ]
  },
  {
   "cell_type": "code",
   "execution_count": 12,
   "id": "f142d786-dd5a-4963-b4ea-b01da77ce5c1",
   "metadata": {},
   "outputs": [
    {
     "data": {
      "text/html": [
       "<div>\n",
       "<style scoped>\n",
       "    .dataframe tbody tr th:only-of-type {\n",
       "        vertical-align: middle;\n",
       "    }\n",
       "\n",
       "    .dataframe tbody tr th {\n",
       "        vertical-align: top;\n",
       "    }\n",
       "\n",
       "    .dataframe thead th {\n",
       "        text-align: right;\n",
       "    }\n",
       "</style>\n",
       "<table border=\"1\" class=\"dataframe\">\n",
       "  <thead>\n",
       "    <tr style=\"text-align: right;\">\n",
       "      <th></th>\n",
       "      <th>Company Name</th>\n",
       "      <th>Form Type</th>\n",
       "      <th>CIK</th>\n",
       "      <th>Date Filed</th>\n",
       "      <th>File Name</th>\n",
       "      <th>Date_filed</th>\n",
       "    </tr>\n",
       "  </thead>\n",
       "  <tbody>\n",
       "    <tr>\n",
       "      <th>452</th>\n",
       "      <td>99 CENTS ONLY STORES</td>\n",
       "      <td>10-Q</td>\n",
       "      <td>1011290</td>\n",
       "      <td>2011-11-10</td>\n",
       "      <td>edgar/data/1011290/0001140361-11-052840.txt</td>\n",
       "      <td>2011-11-10</td>\n",
       "    </tr>\n",
       "    <tr>\n",
       "      <th>585</th>\n",
       "      <td>AAA CAPITAL ENERGY FUND L.P.</td>\n",
       "      <td>10-Q</td>\n",
       "      <td>1057051</td>\n",
       "      <td>2011-11-14</td>\n",
       "      <td>edgar/data/1057051/0000950123-11-098443.txt</td>\n",
       "      <td>2011-11-14</td>\n",
       "    </tr>\n",
       "    <tr>\n",
       "      <th>587</th>\n",
       "      <td>AAA CAPITAL ENERGY FUND L.P. II</td>\n",
       "      <td>10-Q</td>\n",
       "      <td>1227268</td>\n",
       "      <td>2011-11-14</td>\n",
       "      <td>edgar/data/1227268/0000950123-11-098383.txt</td>\n",
       "      <td>2011-11-14</td>\n",
       "    </tr>\n",
       "    <tr>\n",
       "      <th>704</th>\n",
       "      <td>ABBOTT LABORATORIES</td>\n",
       "      <td>10-Q</td>\n",
       "      <td>1800</td>\n",
       "      <td>2011-11-04</td>\n",
       "      <td>edgar/data/1800/0001104659-11-061064.txt</td>\n",
       "      <td>2011-11-04</td>\n",
       "    </tr>\n",
       "    <tr>\n",
       "      <th>1059</th>\n",
       "      <td>ACADIA REALTY TRUST</td>\n",
       "      <td>10-Q</td>\n",
       "      <td>899629</td>\n",
       "      <td>2011-11-02</td>\n",
       "      <td>edgar/data/899629/0001445305-11-003166.txt</td>\n",
       "      <td>2011-11-02</td>\n",
       "    </tr>\n",
       "    <tr>\n",
       "      <th>...</th>\n",
       "      <td>...</td>\n",
       "      <td>...</td>\n",
       "      <td>...</td>\n",
       "      <td>...</td>\n",
       "      <td>...</td>\n",
       "      <td>...</td>\n",
       "    </tr>\n",
       "    <tr>\n",
       "      <th>201422</th>\n",
       "      <td>Zhong Wen International Holding Co., Ltd.</td>\n",
       "      <td>10-Q</td>\n",
       "      <td>1494502</td>\n",
       "      <td>2011-11-14</td>\n",
       "      <td>edgar/data/1494502/0001144204-11-063700.txt</td>\n",
       "      <td>2011-11-14</td>\n",
       "    </tr>\n",
       "    <tr>\n",
       "      <th>202180</th>\n",
       "      <td>iShares S&amp;P GSCI Commodity-Indexed Investing P...</td>\n",
       "      <td>10-Q</td>\n",
       "      <td>1346616</td>\n",
       "      <td>2011-11-08</td>\n",
       "      <td>edgar/data/1346616/0001193125-11-302344.txt</td>\n",
       "      <td>2011-11-08</td>\n",
       "    </tr>\n",
       "    <tr>\n",
       "      <th>202186</th>\n",
       "      <td>iShares S&amp;P GSCI Commodity-Indexed Trust</td>\n",
       "      <td>10-Q</td>\n",
       "      <td>1332174</td>\n",
       "      <td>2011-11-08</td>\n",
       "      <td>edgar/data/1332174/0001193125-11-302344.txt</td>\n",
       "      <td>2011-11-08</td>\n",
       "    </tr>\n",
       "    <tr>\n",
       "      <th>202192</th>\n",
       "      <td>iShares Silver Trust</td>\n",
       "      <td>10-Q</td>\n",
       "      <td>1330568</td>\n",
       "      <td>2011-11-08</td>\n",
       "      <td>edgar/data/1330568/0001193125-11-302064.txt</td>\n",
       "      <td>2011-11-08</td>\n",
       "    </tr>\n",
       "    <tr>\n",
       "      <th>202453</th>\n",
       "      <td>vitaminspice</td>\n",
       "      <td>10-Q</td>\n",
       "      <td>1382056</td>\n",
       "      <td>2011-11-21</td>\n",
       "      <td>edgar/data/1382056/0001127855-11-000628.txt</td>\n",
       "      <td>2011-11-21</td>\n",
       "    </tr>\n",
       "  </tbody>\n",
       "</table>\n",
       "<p>801 rows × 6 columns</p>\n",
       "</div>"
      ],
      "text/plain": [
       "                                             Company Name Form Type      CIK  \\\n",
       "452                                  99 CENTS ONLY STORES      10-Q  1011290   \n",
       "585                          AAA CAPITAL ENERGY FUND L.P.      10-Q  1057051   \n",
       "587                       AAA CAPITAL ENERGY FUND L.P. II      10-Q  1227268   \n",
       "704                                   ABBOTT LABORATORIES      10-Q     1800   \n",
       "1059                                  ACADIA REALTY TRUST      10-Q   899629   \n",
       "...                                                   ...       ...      ...   \n",
       "201422          Zhong Wen International Holding Co., Ltd.      10-Q  1494502   \n",
       "202180  iShares S&P GSCI Commodity-Indexed Investing P...      10-Q  1346616   \n",
       "202186           iShares S&P GSCI Commodity-Indexed Trust      10-Q  1332174   \n",
       "202192                               iShares Silver Trust      10-Q  1330568   \n",
       "202453                                       vitaminspice      10-Q  1382056   \n",
       "\n",
       "        Date Filed                                    File Name Date_filed  \n",
       "452     2011-11-10  edgar/data/1011290/0001140361-11-052840.txt 2011-11-10  \n",
       "585     2011-11-14  edgar/data/1057051/0000950123-11-098443.txt 2011-11-14  \n",
       "587     2011-11-14  edgar/data/1227268/0000950123-11-098383.txt 2011-11-14  \n",
       "704     2011-11-04     edgar/data/1800/0001104659-11-061064.txt 2011-11-04  \n",
       "1059    2011-11-02   edgar/data/899629/0001445305-11-003166.txt 2011-11-02  \n",
       "...            ...                                          ...        ...  \n",
       "201422  2011-11-14  edgar/data/1494502/0001144204-11-063700.txt 2011-11-14  \n",
       "202180  2011-11-08  edgar/data/1346616/0001193125-11-302344.txt 2011-11-08  \n",
       "202186  2011-11-08  edgar/data/1332174/0001193125-11-302344.txt 2011-11-08  \n",
       "202192  2011-11-08  edgar/data/1330568/0001193125-11-302064.txt 2011-11-08  \n",
       "202453  2011-11-21  edgar/data/1382056/0001127855-11-000628.txt 2011-11-21  \n",
       "\n",
       "[801 rows x 6 columns]"
      ]
     },
     "execution_count": 12,
     "metadata": {},
     "output_type": "execute_result"
    }
   ],
   "source": [
    "# Check the remaining entries\n",
    "\n",
    "df_2005_10Q_fund = df_2005_10Q[\n",
    "    ~df_2005_10Q[\"Company Name\"].str.contains(\"|\".join(is_company))\n",
    "]\n",
    "df_2011_10Q_fund = df_2011_10Q[\n",
    "    ~df_2011_10Q[\"Company Name\"].str.contains(\"|\".join(is_company))\n",
    "]\n",
    "df_2005_10Q_fund\n",
    "df_2011_10Q_fund"
   ]
  },
  {
   "cell_type": "code",
   "execution_count": 13,
   "id": "bf11fd65-522d-44db-a224-93a543bcf4c0",
   "metadata": {},
   "outputs": [
    {
     "name": "stdout",
     "output_type": "stream",
     "text": [
      "(1397, 6) (6677, 6)\n"
     ]
    },
    {
     "name": "stderr",
     "output_type": "stream",
     "text": [
      "/Users/navy/anaconda3/envs/propulsion/lib/python3.9/site-packages/pandas/util/_decorators.py:311: SettingWithCopyWarning: \n",
      "A value is trying to be set on a copy of a slice from a DataFrame\n",
      "\n",
      "See the caveats in the documentation: https://pandas.pydata.org/pandas-docs/stable/user_guide/indexing.html#returning-a-view-versus-a-copy\n",
      "  return func(*args, **kwargs)\n"
     ]
    }
   ],
   "source": [
    "df_2005_10Q_inc.drop_duplicates(\"Company Name\", inplace=True)\n",
    "df_2011_10Q_inc.drop_duplicates(\"Company Name\", inplace=True)\n",
    "print(df_2005_10Q_inc.shape, df_2011_10Q_inc.shape)"
   ]
  },
  {
   "cell_type": "code",
   "execution_count": 14,
   "id": "c3458898-6c5b-4382-89ea-9c5900b7e2ae",
   "metadata": {},
   "outputs": [
    {
     "name": "stdout",
     "output_type": "stream",
     "text": [
      "(418, 11)\n",
      "6259\n"
     ]
    }
   ],
   "source": [
    "# merge to see what companies listed in 2005 are still there in 2011\n",
    "\n",
    "df_merge = pd.merge(\n",
    "    df_2005_10Q_inc,\n",
    "    df_2011_10Q_inc,\n",
    "    on=\"Company Name\",\n",
    "    how=\"inner\",\n",
    "    validate=\"one_to_one\",\n",
    ")\n",
    "print(df_merge.shape)\n",
    "print(len(df_2011_10Q_inc) - len(df_merge))"
   ]
  },
  {
   "cell_type": "markdown",
   "id": "f10fcac3-7926-4455-a952-a8f51859d610",
   "metadata": {},
   "source": [
    "Out of 1397 companies listed in 2005, 418 remain in 2011.<br>\n",
    "Meanwhile, 6259 (!!) companies went public after Q1 2005."
   ]
  },
  {
   "cell_type": "code",
   "execution_count": 15,
   "id": "d0d0fc29-2e06-440e-99ac-3a3d2667b71e",
   "metadata": {},
   "outputs": [],
   "source": [
    "# save final files to CSV\n",
    "\n",
    "df_2005_10Q_inc.to_csv(\"../data/processed/companies_2005_10Q.csv\")\n",
    "df_2011_10Q_inc.to_csv(\"../data/processed/companies_2011_10Q.csv\")"
   ]
  },
  {
   "cell_type": "code",
   "execution_count": 20,
   "id": "685bb59a-68b5-4e21-91f9-63c085a430aa",
   "metadata": {},
   "outputs": [
    {
     "data": {
      "text/plain": [
       "(491, 11)"
      ]
     },
     "execution_count": 20,
     "metadata": {},
     "output_type": "execute_result"
    }
   ],
   "source": [
    "# try merging on CIK instead\n",
    "\n",
    "df_merge_2 = pd.merge(\n",
    "    df_2005_10Q_inc,\n",
    "    df_2011_10Q_inc,\n",
    "    on=\"CIK\",\n",
    "    how=\"inner\",\n",
    "    validate=\"one_to_one\",\n",
    ")\n",
    "df_merge_2.shape"
   ]
  },
  {
   "cell_type": "code",
   "execution_count": 30,
   "id": "deb3ea98-f181-4cd3-a2d1-2bdc1d5a58f2",
   "metadata": {},
   "outputs": [
    {
     "name": "stdout",
     "output_type": "stream",
     "text": [
      "Series([], dtype: int64)\n",
      "Series([], dtype: int64)\n"
     ]
    }
   ],
   "source": [
    "cik_counts_2005 = df_2005_10Q_inc.value_counts(\"CIK\")\n",
    "cik_counts_2011 = df_2011_10Q_inc.value_counts(\"CIK\")\n",
    "\n",
    "print(cik_counts_2005[cik_counts_2005 > 1])\n",
    "print(cik_counts_2011[cik_counts_2011 > 1])\n",
    "\n",
    "# no duplicate cik in either dataset"
   ]
  },
  {
   "cell_type": "code",
   "execution_count": 35,
   "id": "452b1e19-3b66-4478-aef3-967f503b52fd",
   "metadata": {},
   "outputs": [
    {
     "data": {
      "text/plain": [
       "491"
      ]
     },
     "execution_count": 35,
     "metadata": {},
     "output_type": "execute_result"
    }
   ],
   "source": [
    "cik_survived = set(df_merge_2[\"CIK\"])\n",
    "len(cik_survived)"
   ]
  },
  {
   "cell_type": "code",
   "execution_count": 38,
   "id": "36440e1e-da8f-46ec-bf19-06f54bea9b1b",
   "metadata": {},
   "outputs": [
    {
     "data": {
      "text/plain": [
       "906"
      ]
     },
     "execution_count": 38,
     "metadata": {},
     "output_type": "execute_result"
    }
   ],
   "source": [
    "cik_died = df_2005_10Q_inc.loc[~df_2005_10Q_inc[\"CIK\"].isin(cik_survived), \"CIK\"]\n",
    "cik_died = set(cik_died)\n",
    "len(cik_died)"
   ]
  },
  {
   "cell_type": "code",
   "execution_count": 50,
   "id": "e15c0ee1-7c91-49e6-9038-7e1604300652",
   "metadata": {},
   "outputs": [],
   "source": [
    "companies_survived = df_2005_10Q_inc.loc[\n",
    "    df_2005_10Q_inc[\"CIK\"].isin(cik_survived), [\"Company Name\", \"CIK\"]\n",
    "].reset_index(drop=True)\n",
    "companies_died = df_2005_10Q_inc.loc[\n",
    "    df_2005_10Q_inc[\"CIK\"].isin(cik_died), [\"Company Name\", \"CIK\"]\n",
    "].reset_index(drop=True)"
   ]
  },
  {
   "cell_type": "code",
   "execution_count": 51,
   "id": "fbe27de2-e508-4a89-a11a-a72c2dd81a09",
   "metadata": {},
   "outputs": [
    {
     "data": {
      "text/html": [
       "<div>\n",
       "<style scoped>\n",
       "    .dataframe tbody tr th:only-of-type {\n",
       "        vertical-align: middle;\n",
       "    }\n",
       "\n",
       "    .dataframe tbody tr th {\n",
       "        vertical-align: top;\n",
       "    }\n",
       "\n",
       "    .dataframe thead th {\n",
       "        text-align: right;\n",
       "    }\n",
       "</style>\n",
       "<table border=\"1\" class=\"dataframe\">\n",
       "  <thead>\n",
       "    <tr style=\"text-align: right;\">\n",
       "      <th></th>\n",
       "      <th>Company Name</th>\n",
       "      <th>CIK</th>\n",
       "    </tr>\n",
       "  </thead>\n",
       "  <tbody>\n",
       "    <tr>\n",
       "      <th>0</th>\n",
       "      <td>1 800 FLOWERS COM INC</td>\n",
       "      <td>1084869</td>\n",
       "    </tr>\n",
       "    <tr>\n",
       "      <th>1</th>\n",
       "      <td>8X8 INC /DE/</td>\n",
       "      <td>1023731</td>\n",
       "    </tr>\n",
       "    <tr>\n",
       "      <th>2</th>\n",
       "      <td>AAR CORP</td>\n",
       "      <td>1750</td>\n",
       "    </tr>\n",
       "    <tr>\n",
       "      <th>3</th>\n",
       "      <td>AASTROM BIOSCIENCES INC</td>\n",
       "      <td>887359</td>\n",
       "    </tr>\n",
       "    <tr>\n",
       "      <th>4</th>\n",
       "      <td>ABAXIS INC</td>\n",
       "      <td>881890</td>\n",
       "    </tr>\n",
       "  </tbody>\n",
       "</table>\n",
       "</div>"
      ],
      "text/plain": [
       "              Company Name      CIK\n",
       "0    1 800 FLOWERS COM INC  1084869\n",
       "1             8X8 INC /DE/  1023731\n",
       "2                 AAR CORP     1750\n",
       "3  AASTROM BIOSCIENCES INC   887359\n",
       "4               ABAXIS INC   881890"
      ]
     },
     "execution_count": 51,
     "metadata": {},
     "output_type": "execute_result"
    }
   ],
   "source": [
    "companies_survived.head()"
   ]
  },
  {
   "cell_type": "code",
   "execution_count": 52,
   "id": "53b4d481-f72b-485f-a8d9-26bf8dbfd9d0",
   "metadata": {},
   "outputs": [
    {
     "data": {
      "text/html": [
       "<div>\n",
       "<style scoped>\n",
       "    .dataframe tbody tr th:only-of-type {\n",
       "        vertical-align: middle;\n",
       "    }\n",
       "\n",
       "    .dataframe tbody tr th {\n",
       "        vertical-align: top;\n",
       "    }\n",
       "\n",
       "    .dataframe thead th {\n",
       "        text-align: right;\n",
       "    }\n",
       "</style>\n",
       "<table border=\"1\" class=\"dataframe\">\n",
       "  <thead>\n",
       "    <tr style=\"text-align: right;\">\n",
       "      <th></th>\n",
       "      <th>Company Name</th>\n",
       "      <th>CIK</th>\n",
       "    </tr>\n",
       "  </thead>\n",
       "  <tbody>\n",
       "    <tr>\n",
       "      <th>0</th>\n",
       "      <td>1ST STATE BANCORP INC</td>\n",
       "      <td>1074078</td>\n",
       "    </tr>\n",
       "    <tr>\n",
       "      <th>1</th>\n",
       "      <td>3CI COMPLETE COMPLIANCE CORP</td>\n",
       "      <td>883787</td>\n",
       "    </tr>\n",
       "    <tr>\n",
       "      <th>2</th>\n",
       "      <td>3COM CORP</td>\n",
       "      <td>738076</td>\n",
       "    </tr>\n",
       "    <tr>\n",
       "      <th>3</th>\n",
       "      <td>510152 N B LTD</td>\n",
       "      <td>1101202</td>\n",
       "    </tr>\n",
       "    <tr>\n",
       "      <th>4</th>\n",
       "      <td>AAC Group Holding Corp.</td>\n",
       "      <td>1311835</td>\n",
       "    </tr>\n",
       "  </tbody>\n",
       "</table>\n",
       "</div>"
      ],
      "text/plain": [
       "                   Company Name      CIK\n",
       "0         1ST STATE BANCORP INC  1074078\n",
       "1  3CI COMPLETE COMPLIANCE CORP   883787\n",
       "2                     3COM CORP   738076\n",
       "3                510152 N B LTD  1101202\n",
       "4       AAC Group Holding Corp.  1311835"
      ]
     },
     "execution_count": 52,
     "metadata": {},
     "output_type": "execute_result"
    }
   ],
   "source": [
    "companies_died.head()"
   ]
  },
  {
   "cell_type": "code",
   "execution_count": 53,
   "id": "d63fb32d-b81c-439f-8eee-5fa3c4a9f230",
   "metadata": {},
   "outputs": [],
   "source": [
    "companies_survived.to_csv(\"../data/processed/companies_survived.csv\")\n",
    "companies_died.to_csv(\"../data/processed/companies_died.csv\")"
   ]
  },
  {
   "cell_type": "code",
   "execution_count": null,
   "id": "005f6716-714a-4fd0-a50f-b319978e82b1",
   "metadata": {},
   "outputs": [],
   "source": []
  }
 ],
 "metadata": {
  "kernelspec": {
   "display_name": "propulsion",
   "language": "python",
   "name": "propulsion"
  },
  "language_info": {
   "codemirror_mode": {
    "name": "ipython",
    "version": 3
   },
   "file_extension": ".py",
   "mimetype": "text/x-python",
   "name": "python",
   "nbconvert_exporter": "python",
   "pygments_lexer": "ipython3",
   "version": "3.9.5"
  }
 },
 "nbformat": 4,
 "nbformat_minor": 5
}
