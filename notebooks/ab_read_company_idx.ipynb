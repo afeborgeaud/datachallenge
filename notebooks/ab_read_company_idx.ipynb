{
 "cells": [
  {
   "cell_type": "code",
   "execution_count": null,
   "id": "7aaae353-e389-4211-ae43-ed819982475d",
   "metadata": {},
   "outputs": [],
   "source": [
    "%load_ext lab_black"
   ]
  },
  {
   "cell_type": "code",
   "execution_count": null,
   "id": "b61a6204-bfe2-4231-9f61-6da3a25524f1",
   "metadata": {},
   "outputs": [],
   "source": [
    "import pandas as pd\n",
    "from zipfile import ZipFile"
   ]
  },
  {
   "cell_type": "code",
   "execution_count": null,
   "id": "703ea9d0-0b87-460b-80d8-c9c333d05db4",
   "metadata": {},
   "outputs": [],
   "source": [
    "# take a look at the data\n",
    "\n",
    "file_companies_2005_Q1 = \"../data/raw/company_2005_Q1.zip\"\n",
    "file_companies_2011_Q4 = \"../data/raw/company_2011_Q4.zip\"\n",
    "\n",
    "myzip = ZipFile(file_companies_2005_Q1)\n",
    "#     print(myzip.namelist())\n",
    "filestream_2005 = myzip.open(\"company.idx\")\n",
    "myzip.close()\n",
    "\n",
    "myzip = ZipFile(file_companies_2011_Q4)\n",
    "filestream_2011 = myzip.open(\"company.idx\")\n",
    "myzip.close()"
   ]
  },
  {
   "cell_type": "code",
   "execution_count": null,
   "id": "a5eca9a2-54ed-4f28-8c0e-d9584aa8624c",
   "metadata": {},
   "outputs": [],
   "source": [
    "# load company list data\n",
    "df_2005 = pd.read_csv(\n",
    "    filestream_2005,\n",
    "    sep=r\" [ ]+\",\n",
    "    header=4,\n",
    "    skiprows=[8],\n",
    "    error_bad_lines=False,\n",
    "    warn_bad_lines=False,\n",
    ")\n",
    "df_2005.info()"
   ]
  },
  {
   "cell_type": "code",
   "execution_count": null,
   "id": "8aa098b3-3930-4057-9bd1-090a0f586b7e",
   "metadata": {},
   "outputs": [],
   "source": [
    "# load company list data\n",
    "df_2011 = pd.read_csv(\n",
    "    filestream_2011,\n",
    "    sep=r\" [ ]+\",\n",
    "    header=4,\n",
    "    skiprows=[9],\n",
    "    error_bad_lines=False,\n",
    "    warn_bad_lines=False,\n",
    "    encoding_errors=\"replace\",\n",
    ")\n",
    "df_2011.info()"
   ]
  },
  {
   "cell_type": "code",
   "execution_count": null,
   "id": "b556b0f6-d01f-43d1-8d3d-9e7fb1658f32",
   "metadata": {},
   "outputs": [],
   "source": [
    "# cleaning\n",
    "\n",
    "def to_int(x):\n",
    "    try:\n",
    "        return int(x)\n",
    "    except (pd.errors.IntCastingNaNError, ValueError):\n",
    "        return -1\n",
    "\n",
    "\n",
    "# 2005\n",
    "df_2005[\"CIK\"] = df_2005[\"CIK\"].apply(lambda x: to_int(x))\n",
    "df_2005[\"Date_filed\"] = pd.to_datetime(df_2005[\"Date Filed\"])\n",
    "df_2005[\"Form Type\"] = df_2005[\"Form Type\"].astype(\"category\")\n",
    "\n",
    "# 2011\n",
    "df_2011[\"Date_filed\"] = pd.to_datetime(df_2011[\"Date Filed\"])\n",
    "df_2011[\"Form Type\"] = df_2011[\"Form Type\"].astype(\"category\")\n",
    "\n",
    "df_2005.to_csv(\"../data/processed/companies_2005_Q1.csv\")\n",
    "df_2011.to_csv(\"../data/processed/companies_2011_Q4.csv\")"
   ]
  },
  {
   "cell_type": "code",
   "execution_count": null,
   "id": "998ea495-3c66-4a90-94aa-fbf417ad1a56",
   "metadata": {},
   "outputs": [],
   "source": [
    "# select only 10-Q fillings\n",
    "\n",
    "df_2005_10Q = df_2005[df_2005[\"Form Type\"] == \"10-Q\"]\n",
    "df_2011_10Q = df_2011[df_2011[\"Form Type\"] == \"10-Q\"]\n",
    "print(df_2005_10Q.shape, df_2011_10Q.shape)"
   ]
  },
  {
   "cell_type": "code",
   "execution_count": null,
   "id": "8e819ae3-8c16-49d5-8ac3-16da5ff70869",
   "metadata": {},
   "outputs": [],
   "source": [
    "counts = df_2005_10Q.value_counts(\"Company Name\")\n",
    "print(sum(counts > 1) / len(counts))\n",
    "counts"
   ]
  },
  {
   "cell_type": "code",
   "execution_count": null,
   "id": "9a9a5e9e-84f6-4728-b976-fa76ef05c1a8",
   "metadata": {},
   "outputs": [],
   "source": [
    "counts = df_2011_10Q.value_counts(\"Company Name\")\n",
    "print(sum(counts > 1) / len(counts))\n",
    "counts"
   ]
  },
  {
   "cell_type": "code",
   "execution_count": null,
   "id": "72ffaa81-c3cb-4c9f-9497-81e959d81517",
   "metadata": {},
   "outputs": [],
   "source": [
    "# What's happening with this company... ?\n",
    "df_2011_10Q[df_2011_10Q[\"Company Name\"] == \"Grupo International Inc\"]"
   ]
  },
  {
   "cell_type": "code",
   "execution_count": null,
   "id": "56fc6567-ee8f-449a-9e73-f0eb84214bf7",
   "metadata": {},
   "outputs": [],
   "source": [
    "# Select only companies (a bit rough...)\n",
    "\n",
    "is_company = [\"INC\", \"Inc\", \"CORP\", \"LTD\", \"Corp\", \"CO\", \"inc\"]\n",
    "df_2005_10Q_inc = df_2005_10Q[\n",
    "    df_2005_10Q[\"Company Name\"].str.contains(\"|\".join(is_company))\n",
    "]\n",
    "df_2011_10Q_inc = df_2011_10Q[\n",
    "    df_2011_10Q[\"Company Name\"].str.contains(\"|\".join(is_company))\n",
    "]"
   ]
  },
  {
   "cell_type": "code",
   "execution_count": null,
   "id": "f142d786-dd5a-4963-b4ea-b01da77ce5c1",
   "metadata": {},
   "outputs": [],
   "source": [
    "# Check the remaining entries\n",
    "\n",
    "df_2005_10Q_fund = df_2005_10Q[\n",
    "    ~df_2005_10Q[\"Company Name\"].str.contains(\"|\".join(is_company))\n",
    "]\n",
    "df_2011_10Q_fund = df_2011_10Q[\n",
    "    ~df_2011_10Q[\"Company Name\"].str.contains(\"|\".join(is_company))\n",
    "]\n",
    "df_2005_10Q_fund\n",
    "df_2011_10Q_fund"
   ]
  },
  {
   "cell_type": "code",
   "execution_count": null,
   "id": "bf11fd65-522d-44db-a224-93a543bcf4c0",
   "metadata": {},
   "outputs": [],
   "source": [
    "df_2005_10Q_inc.drop_duplicates(\"Company Name\", inplace=True)\n",
    "df_2011_10Q_inc.drop_duplicates(\"Company Name\", inplace=True)\n",
    "print(df_2005_10Q_inc.shape, df_2011_10Q_inc.shape)"
   ]
  },
  {
   "cell_type": "code",
   "execution_count": null,
   "id": "c3458898-6c5b-4382-89ea-9c5900b7e2ae",
   "metadata": {},
   "outputs": [],
   "source": [
    "# merge to see what companies listed in 2005 are still there in 2011\n",
    "\n",
    "df_merge = pd.merge(\n",
    "    df_2005_10Q_inc,\n",
    "    df_2011_10Q_inc,\n",
    "    on=\"Company Name\",\n",
    "    how=\"inner\",\n",
    "    validate=\"one_to_one\",\n",
    ")\n",
    "print(df_merge.shape)\n",
    "print(len(df_2011_10Q_inc) - len(df_merge))"
   ]
  },
  {
   "cell_type": "markdown",
   "id": "f10fcac3-7926-4455-a952-a8f51859d610",
   "metadata": {},
   "source": [
    "Out of 1397 companies listed in 2005, 418 remain in 2011.<br>\n",
    "Meanwhile, 6259 (!!) companies went public after Q1 2005."
   ]
  },
  {
   "cell_type": "code",
   "execution_count": null,
   "id": "d0d0fc29-2e06-440e-99ac-3a3d2667b71e",
   "metadata": {},
   "outputs": [],
   "source": [
    "# save final files to CSV\n",
    "\n",
    "df_2005_10Q_inc.to_csv(\"../data/processed/companies_2005_10Q.csv\")\n",
    "df_2011_10Q_inc.to_csv(\"../data/processed/companies_2011_10Q.csv\")"
   ]
  },
  {
   "cell_type": "code",
   "execution_count": null,
   "id": "685bb59a-68b5-4e21-91f9-63c085a430aa",
   "metadata": {},
   "outputs": [],
   "source": []
  }
 ],
 "metadata": {
  "kernelspec": {
   "display_name": "propulsion",
   "language": "python",
   "name": "propulsion"
  },
  "language_info": {
   "codemirror_mode": {
    "name": "ipython",
    "version": 3
   },
   "file_extension": ".py",
   "mimetype": "text/x-python",
   "name": "python",
   "nbconvert_exporter": "python",
   "pygments_lexer": "ipython3",
   "version": "3.9.5"
  }
 },
 "nbformat": 4,
 "nbformat_minor": 5
}
