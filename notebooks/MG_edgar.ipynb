{
 "cells": [
  {
   "cell_type": "code",
   "execution_count": 3,
   "id": "2adc71e5-6876-4be8-8639-cec2365eed02",
   "metadata": {},
   "outputs": [],
   "source": [
    "%load_ext lab_black"
   ]
  },
  {
   "cell_type": "code",
   "execution_count": 4,
   "id": "7c632387-0da5-43ae-a9e5-2cdbbdef062b",
   "metadata": {},
   "outputs": [],
   "source": [
    "import requests\n",
    "import pandas as pd\n",
    "from pandas import json_normalize\n",
    "import json\n",
    "import matplotlib.pyplot as plt"
   ]
  },
  {
   "cell_type": "code",
   "execution_count": 5,
   "id": "28984002-5b08-4ea3-8147-2e935883b2f9",
   "metadata": {},
   "outputs": [],
   "source": [
    "plt.style.use(\"seaborn\")"
   ]
  },
  {
   "cell_type": "code",
   "execution_count": 6,
   "id": "1d1f1e31-39a0-4ddd-885a-dd07c7b4fe0b",
   "metadata": {},
   "outputs": [],
   "source": [
    "# SEC Edgar database API\n",
    "# https://www.sec.gov/edgar/sec-api-documentation\n",
    "\n",
    "# history of submissions of financial report fillings\n",
    "url_submissions = \"https://data.sec.gov/submissions/\"\n",
    "\n",
    "# a few quarters of financial reports\n",
    "url_facts = \"https://data.sec.gov/api/xbrl/companyfacts/\"\n",
    "\n",
    "# hisotry of values for a specific financial report entry (e.g. Revenues)\n",
    "# for a specific company\n",
    "url_concepts = \"https://data.sec.gov/api/xbrl/companyconcepts/\"\n",
    "\n",
    "# ...\n",
    "url_frames = \"https://data.sec.gov/api/xbrl/frames/\""
   ]
  },
  {
   "cell_type": "code",
   "execution_count": 54,
   "id": "bf31d612-8666-483e-acac-278fb9d6c754",
   "metadata": {},
   "outputs": [],
   "source": [
    "# url_facts\n",
    "# test with Apple Inc.\n",
    "# Apple Inc. CIK found manually from https://www.sec.gov/edgar/searchedgar/cik.htm\n",
    "\n",
    "apple_cik = \"0000320193\"\n",
    "headers = {\"User-Agent\": \"Matthias Galipaud (individual) aborgeaud@gmail.com\"}\n",
    "\n",
    "\n",
    "def get_facts(cik: str, headers) -> dict:\n",
    "    assert len(cik) == 10\n",
    "    resp = requests.get(\n",
    "        url_facts + \"CIK\" + apple_cik + \".json\", headers=headers, timeout=5\n",
    "    )\n",
    "    resp_json = None\n",
    "    if resp.status_code < 400:\n",
    "        resp_json = resp.json()\n",
    "    return resp_json\n"
   ]
  },
  {
   "cell_type": "code",
   "execution_count": 9,
   "id": "ed140375-9f0e-4be2-a7d9-d7dcff9834ae",
   "metadata": {},
   "outputs": [
    {
     "data": {
      "text/plain": [
       "dict_keys(['cik', 'entityName', 'facts'])"
      ]
     },
     "execution_count": 9,
     "metadata": {},
     "output_type": "execute_result"
    }
   ],
   "source": [
    "resp_json = get_facts(apple_cik, headers)\n",
    "resp_json.keys()"
   ]
  },
  {
   "cell_type": "code",
   "execution_count": 17,
   "id": "83838ec6-6570-4356-93a1-d2c37a9d5189",
   "metadata": {
    "tags": []
   },
   "outputs": [
    {
     "data": {
      "text/plain": [
       "dict_keys(['dei', 'us-gaap'])"
      ]
     },
     "execution_count": 17,
     "metadata": {},
     "output_type": "execute_result"
    }
   ],
   "source": [
    "resp_json[\"facts\"].keys()"
   ]
  },
  {
   "cell_type": "code",
   "execution_count": 20,
   "id": "2e618d07-e884-41e7-966d-7f94a6aa881a",
   "metadata": {},
   "outputs": [
    {
     "data": {
      "text/plain": [
       "dict_keys(['EntityCommonStockSharesOutstanding', 'EntityPublicFloat'])"
      ]
     },
     "execution_count": 20,
     "metadata": {},
     "output_type": "execute_result"
    }
   ],
   "source": [
    "resp_json[\"facts\"][\"dei\"].keys()"
   ]
  },
  {
   "cell_type": "code",
   "execution_count": 22,
   "id": "13a13f7a-3d09-41f7-ade2-76249fac6dee",
   "metadata": {},
   "outputs": [
    {
     "data": {
      "text/plain": [
       "dict_keys(['label', 'description', 'units'])"
      ]
     },
     "execution_count": 22,
     "metadata": {},
     "output_type": "execute_result"
    }
   ],
   "source": [
    "resp_json[\"facts\"][\"dei\"][\"EntityCommonStockSharesOutstanding\"].keys()"
   ]
  },
  {
   "cell_type": "code",
   "execution_count": 26,
   "id": "26e89d9d-916a-40f4-9af0-2b8f43cd239b",
   "metadata": {},
   "outputs": [
    {
     "data": {
      "text/plain": [
       "dict_keys(['shares'])"
      ]
     },
     "execution_count": 26,
     "metadata": {},
     "output_type": "execute_result"
    }
   ],
   "source": [
    "resp_json[\"facts\"][\"dei\"][\"EntityCommonStockSharesOutstanding\"][\"units\"].keys()"
   ]
  },
  {
   "cell_type": "code",
   "execution_count": 28,
   "id": "b6bdf858-2a16-42ea-a632-f1a2fb9cc259",
   "metadata": {},
   "outputs": [
    {
     "name": "stdout",
     "output_type": "stream",
     "text": [
      "           end          val                  accn    fy  fp    form  \\\n",
      "0   2009-06-27    895816758  0001193125-09-153165  2009  Q3    10-Q   \n",
      "1   2009-10-16    900678473  0001193125-09-214859  2009  FY    10-K   \n",
      "2   2009-10-16    900678473  0001193125-10-012091  2009  FY  10-K/A   \n",
      "3   2010-01-15    906794589  0001193125-10-012085  2010  Q1    10-Q   \n",
      "4   2010-04-09    909938383  0001193125-10-088957  2010  Q2    10-Q   \n",
      "5   2010-07-09    913562880  0001193125-10-162840  2010  Q3    10-Q   \n",
      "6   2010-10-15    917307099  0001193125-10-238044  2010  FY    10-K   \n",
      "7   2011-01-07    921278012  0001193125-11-010144  2011  Q1    10-Q   \n",
      "8   2011-04-08    924754561  0001193125-11-104388  2011  Q2    10-Q   \n",
      "9   2011-07-08    927090886  0001193125-11-192493  2011  Q3    10-Q   \n",
      "10  2011-10-14    929409000  0001193125-11-282113  2011  FY    10-K   \n",
      "11  2012-01-13    932370000  0001193125-12-023398  2012  Q1    10-Q   \n",
      "12  2012-04-13    935062000  0001193125-12-182321  2012  Q2    10-Q   \n",
      "13  2012-07-13    937406000  0001193125-12-314552  2012  Q3    10-Q   \n",
      "14  2012-10-19    940692000  0001193125-12-444068  2012  FY    10-K   \n",
      "15  2013-01-11    939058000  0001193125-13-022339  2013  Q1    10-Q   \n",
      "16  2013-04-12    938649000  0001193125-13-168288  2013  Q2    10-Q   \n",
      "17  2013-07-12    908497000  0001193125-13-300670  2013  Q3    10-Q   \n",
      "18  2013-10-18    899738000  0001193125-13-416534  2013  FY    10-K   \n",
      "19  2014-01-10    891989000  0001193125-14-024487  2014  Q1    10-Q   \n",
      "20  2014-04-11    861381000  0001193125-14-157311  2014  Q2    10-Q   \n",
      "21  2014-07-11   5987867000  0001193125-14-277160  2014  Q3    10-Q   \n",
      "22  2014-10-10   5864840000  0001193125-14-383437  2014  FY    10-K   \n",
      "23  2015-01-09   5824748000  0001193125-15-023697  2015  Q1    10-Q   \n",
      "24  2015-04-10   5761030000  0001193125-15-153166  2015  Q2    10-Q   \n",
      "25  2015-07-10   5702722000  0001193125-15-259935  2015  Q3    10-Q   \n",
      "26  2015-10-09   5575331000  0001193125-15-356351  2015  FY    10-K   \n",
      "27  2016-01-08   5544583000  0001193125-16-439878  2016  Q1    10-Q   \n",
      "28  2016-04-08   5477425000  0001193125-16-559625  2016  Q2    10-Q   \n",
      "29  2016-07-15   5388443000  0001628280-16-017809  2016  Q3    10-Q   \n",
      "30  2016-10-14   5332313000  0001628280-16-020309  2016  FY    10-K   \n",
      "31  2017-01-20   5246540000  0001628280-17-000717  2017  Q1    10-Q   \n",
      "32  2017-04-21   5213840000  0001628280-17-004790  2017  Q2    10-Q   \n",
      "33  2017-07-21   5165228000  0000320193-17-000009  2017  Q3    10-Q   \n",
      "34  2017-10-20   5134312000  0000320193-17-000070  2017  FY    10-K   \n",
      "35  2018-01-19   5074013000  0000320193-18-000007  2018  Q1    10-Q   \n",
      "36  2018-04-20   4915138000  0000320193-18-000070  2018  Q2    10-Q   \n",
      "37  2018-07-20   4829926000  0000320193-18-000100  2018  Q3    10-Q   \n",
      "38  2018-10-26   4745398000  0000320193-18-000145  2018  FY    10-K   \n",
      "39  2019-01-18   4715280000  0000320193-19-000010  2019  Q1    10-Q   \n",
      "40  2019-04-22   4601075000  0000320193-19-000066  2019  Q2    10-Q   \n",
      "41  2019-07-19   4519180000  0000320193-19-000076  2019  Q3    10-Q   \n",
      "42  2019-10-18   4443265000  0000320193-19-000119  2019  FY    10-K   \n",
      "43  2020-01-17   4375480000  0000320193-20-000010  2020  Q1    10-Q   \n",
      "44  2020-04-17   4334335000  0000320193-20-000052  2020  Q2    10-Q   \n",
      "45  2020-07-17   4275634000  0000320193-20-000062  2020  Q3    10-Q   \n",
      "46  2020-10-16  17001802000  0000320193-20-000096  2020  FY    10-K   \n",
      "47  2021-01-15  16788096000  0000320193-21-000010  2021  Q1    10-Q   \n",
      "48  2021-04-16  16687631000  0000320193-21-000056  2021  Q2    10-Q   \n",
      "49  2021-07-16  16530166000  0000320193-21-000065  2021  Q3    10-Q   \n",
      "\n",
      "         filed      frame  \n",
      "0   2009-07-22  CY2009Q2I  \n",
      "1   2009-10-27        NaN  \n",
      "2   2010-01-25  CY2009Q3I  \n",
      "3   2010-01-25  CY2009Q4I  \n",
      "4   2010-04-21  CY2010Q1I  \n",
      "5   2010-07-21  CY2010Q2I  \n",
      "6   2010-10-27  CY2010Q3I  \n",
      "7   2011-01-19  CY2010Q4I  \n",
      "8   2011-04-21  CY2011Q1I  \n",
      "9   2011-07-20  CY2011Q2I  \n",
      "10  2011-10-26  CY2011Q3I  \n",
      "11  2012-01-25  CY2011Q4I  \n",
      "12  2012-04-25  CY2012Q1I  \n",
      "13  2012-07-25  CY2012Q2I  \n",
      "14  2012-10-31  CY2012Q3I  \n",
      "15  2013-01-24  CY2012Q4I  \n",
      "16  2013-04-24  CY2013Q1I  \n",
      "17  2013-07-24  CY2013Q2I  \n",
      "18  2013-10-30  CY2013Q3I  \n",
      "19  2014-01-28  CY2013Q4I  \n",
      "20  2014-04-24  CY2014Q1I  \n",
      "21  2014-07-23  CY2014Q2I  \n",
      "22  2014-10-27  CY2014Q3I  \n",
      "23  2015-01-28  CY2014Q4I  \n",
      "24  2015-04-28  CY2015Q1I  \n",
      "25  2015-07-22  CY2015Q2I  \n",
      "26  2015-10-28  CY2015Q3I  \n",
      "27  2016-01-27  CY2015Q4I  \n",
      "28  2016-04-27  CY2016Q1I  \n",
      "29  2016-07-27  CY2016Q2I  \n",
      "30  2016-10-26  CY2016Q3I  \n",
      "31  2017-02-01  CY2016Q4I  \n",
      "32  2017-05-03  CY2017Q1I  \n",
      "33  2017-08-02  CY2017Q2I  \n",
      "34  2017-11-03  CY2017Q3I  \n",
      "35  2018-02-02  CY2017Q4I  \n",
      "36  2018-05-02  CY2018Q1I  \n",
      "37  2018-08-01  CY2018Q2I  \n",
      "38  2018-11-05  CY2018Q3I  \n",
      "39  2019-01-30  CY2018Q4I  \n",
      "40  2019-05-01  CY2019Q1I  \n",
      "41  2019-07-31  CY2019Q2I  \n",
      "42  2019-10-31  CY2019Q3I  \n",
      "43  2020-01-29  CY2019Q4I  \n",
      "44  2020-05-01  CY2020Q1I  \n",
      "45  2020-07-31  CY2020Q2I  \n",
      "46  2020-10-30  CY2020Q3I  \n",
      "47  2021-01-28  CY2020Q4I  \n",
      "48  2021-04-29  CY2021Q1I  \n",
      "49  2021-07-28  CY2021Q2I  \n"
     ]
    }
   ],
   "source": [
    "df = json_normalize(\n",
    "    resp_json[\"facts\"][\"dei\"][\"EntityCommonStockSharesOutstanding\"][\"units\"][\"shares\"]\n",
    ")\n",
    "print(df)"
   ]
  },
  {
   "cell_type": "code",
   "execution_count": 29,
   "id": "e8a53e81-bb77-4f10-ac36-3be61dccf8de",
   "metadata": {},
   "outputs": [],
   "source": [
    "gaap = resp_json[\"facts\"][\"us-gaap\"]"
   ]
  },
  {
   "cell_type": "code",
   "execution_count": 30,
   "id": "a4e3d621-dfe4-4c89-9ca0-65c96f5dc6f9",
   "metadata": {
    "collapsed": true,
    "jupyter": {
     "outputs_hidden": true
    },
    "tags": []
   },
   "outputs": [
    {
     "data": {
      "text/plain": [
       "dict_keys(['AccountsPayable', 'AccountsPayableCurrent', 'AccountsReceivableNetCurrent', 'AccruedIncomeTaxesCurrent', 'AccruedIncomeTaxesNoncurrent', 'AccruedLiabilities', 'AccruedLiabilitiesCurrent', 'AccruedMarketingCostsCurrent', 'AccumulatedDepreciationDepletionAndAmortizationPropertyPlantAndEquipment', 'AccumulatedOtherComprehensiveIncomeLossAvailableForSaleSecuritiesAdjustmentNetOfTax', 'AccumulatedOtherComprehensiveIncomeLossCumulativeChangesInNetGainLossFromCashFlowHedgesEffectNetOfTax', 'AccumulatedOtherComprehensiveIncomeLossForeignCurrencyTranslationAdjustmentNetOfTax', 'AccumulatedOtherComprehensiveIncomeLossNetOfTax', 'AdjustmentsToAdditionalPaidInCapitalSharebasedCompensationRequisiteServicePeriodRecognitionValue', 'AdjustmentsToAdditionalPaidInCapitalTaxEffectFromShareBasedCompensation', 'AdvertisingExpense', 'AllocatedShareBasedCompensationExpense', 'AllowanceForDoubtfulAccountsReceivableCurrent', 'AmortizationOfIntangibleAssets', 'AntidilutiveSecuritiesExcludedFromComputationOfEarningsPerShareAmount', 'Assets', 'AssetsCurrent', 'AssetsNoncurrent', 'AvailableForSaleDebtSecuritiesAccumulatedGrossUnrealizedGainBeforeTax', 'AvailableForSaleDebtSecuritiesAccumulatedGrossUnrealizedLossBeforeTax', 'AvailableForSaleDebtSecuritiesAmortizedCostBasis', 'AvailableForSaleSecurities', 'AvailableForSaleSecuritiesAccumulatedGrossUnrealizedGainBeforeTax', 'AvailableForSaleSecuritiesAccumulatedGrossUnrealizedLossBeforeTax', 'AvailableForSaleSecuritiesAmortizedCost', 'AvailableForSaleSecuritiesContinuousUnrealizedLossPosition12MonthsOrLongerAccumulatedLoss', 'AvailableForSaleSecuritiesContinuousUnrealizedLossPositionAccumulatedLoss', 'AvailableForSaleSecuritiesContinuousUnrealizedLossPositionFairValue', 'AvailableForSaleSecuritiesContinuousUnrealizedLossPositionLessThan12MonthsAccumulatedLoss', 'AvailableForSaleSecuritiesContinuousUnrealizedLossPositionLessThanTwelveMonthsFairValue', 'AvailableForSaleSecuritiesContinuousUnrealizedLossPositionTwelveMonthsOrLongerFairValue', 'AvailableForSaleSecuritiesCurrent', 'AvailableForSaleSecuritiesDebtMaturitiesRollingAfterYearTenFairValue', 'AvailableForSaleSecuritiesDebtMaturitiesRollingYearSixThroughTenFairValue', 'AvailableForSaleSecuritiesDebtMaturitiesRollingYearTwoThroughFiveFairValue', 'AvailableForSaleSecuritiesDebtMaturitiesSingleMaturityDate', 'AvailableForSaleSecuritiesDebtSecurities', 'AvailableForSaleSecuritiesDebtSecuritiesCurrent', 'AvailableForSaleSecuritiesDebtSecuritiesNoncurrent', 'AvailableForSaleSecuritiesFairValueDisclosure', 'AvailableForSaleSecuritiesGrossUnrealizedLosses1', 'AvailableForSaleSecuritiesNoncurrent', 'AvailableforsaleSecuritiesGrossUnrealizedGain', 'BusinessAcquisitionCostOfAcquiredEntityPurchasePrice', 'BusinessAcquisitionPurchasePriceAllocationAmortizableIntangibleAssets', 'BusinessAcquisitionPurchasePriceAllocationGoodwillAmount', 'BusinessAcquisitionPurchasePriceAllocationLiabilitiesAssumed', 'BusinessCombinationRecognizedIdentifiableAssetsAcquiredAndLiabilitiesAssumedIntangibleAssetsOtherThanGoodwill', 'BusinessCombinationRecognizedIdentifiableAssetsAcquiredAndLiabilitiesAssumedLiabilities', 'CapitalExpendituresIncurredButNotYetPaid', 'CapitalizedComputerSoftwareAdditions', 'CapitalizedComputerSoftwareAmortization', 'Cash', 'CashAndCashEquivalentsAtCarryingValue', 'CashAndCashEquivalentsPeriodIncreaseDecrease', 'CashCashEquivalentsRestrictedCashAndRestrictedCashEquivalents', 'CashCashEquivalentsRestrictedCashAndRestrictedCashEquivalentsPeriodIncreaseDecreaseIncludingExchangeRateEffect', 'CashEquivalentsAtCarryingValue', 'ChangeInUnrealizedGainLossOnFairValueHedgingInstruments', 'CollateralAlreadyPostedAggregateFairValue', 'CommercialPaper', 'CommitmentsAndContingencies', 'CommonStockDividendsPerShareDeclared', 'CommonStockNoParValue', 'CommonStockParOrStatedValuePerShare', 'CommonStockSharesAuthorized', 'CommonStockSharesIssued', 'CommonStockSharesOutstanding', 'CommonStocksIncludingAdditionalPaidInCapital', 'CommonStockValue', 'ComprehensiveIncomeNetOfTax', 'ContractWithCustomerLiability', 'ContractWithCustomerLiabilityCurrent', 'ContractWithCustomerLiabilityRevenueRecognized', 'CostOfGoodsAndServicesSold', 'CostOfGoodsAndServicesSoldDepreciation', 'CostOfReimbursableExpense', 'CumulativeEffectOfInitialAdoptionOfFIN48', 'CumulativeEffectOfInitialAdoptionOfNewAccountingPrinciple', 'CurrentFederalTaxExpenseBenefit', 'CurrentForeignTaxExpenseBenefit', 'CurrentStateAndLocalTaxExpenseBenefit', 'DebtInstrumentCarryingAmount', 'DebtInstrumentUnamortizedDiscount', 'DebtInstrumentUnamortizedDiscountPremiumAndDebtIssuanceCostsNet', 'DebtInstrumentUnamortizedDiscountPremiumNet', 'DebtSecuritiesAvailableForSaleContinuousUnrealizedLossPosition12MonthsOrLonger', 'DebtSecuritiesAvailableForSaleContinuousUnrealizedLossPosition12MonthsOrLongerAccumulatedLoss', 'DebtSecuritiesAvailableForSaleContinuousUnrealizedLossPositionLessThan12Months', 'DebtSecuritiesAvailableForSaleContinuousUnrealizedLossPositionLessThan12MonthsAccumulatedLoss', 'DebtSecuritiesAvailableForSaleUnrealizedLossPosition', 'DebtSecuritiesAvailableForSaleUnrealizedLossPositionAccumulatedLoss', 'DecreaseInUnrecognizedTaxBenefitsIsReasonablyPossible', 'DeferredFederalIncomeTaxExpenseBenefit', 'DeferredForeignIncomeTaxExpenseBenefit', 'DeferredIncomeTaxExpenseBenefit', 'DeferredIncomeTaxLiabilities', 'DeferredIncomeTaxLiabilitiesNet', 'DeferredRevenueCurrent', 'DeferredRevenueNoncurrent', 'DeferredStateAndLocalIncomeTaxExpenseBenefit', 'DeferredTaxAssetsDeferredIncome', 'DeferredTaxAssetsGoodwillAndIntangibleAssets', 'DeferredTaxAssetsGross', 'DeferredTaxAssetsLiabilitiesNet', 'DeferredTaxAssetsLiabilitiesNetCurrent', 'DeferredTaxAssetsNet', 'DeferredTaxAssetsNetCurrent', 'DeferredTaxAssetsOther', 'DeferredTaxAssetsPropertyPlantAndEquipment', 'DeferredTaxAssetsTaxDeferredExpenseCompensationAndBenefitsShareBasedCompensationCost', 'DeferredTaxAssetsTaxDeferredExpenseReservesAndAccruals', 'DeferredTaxAssetsUnrealizedLossesOnAvailableforSaleSecuritiesGross', 'DeferredTaxAssetsValuationAllowance', 'DeferredTaxLiabilities', 'DeferredTaxLiabilitiesLeasingArrangements', 'DeferredTaxLiabilitiesNoncurrent', 'DeferredTaxLiabilitiesOther', 'DeferredTaxLiabilitiesOtherComprehensiveIncome', 'DeferredTaxLiabilitiesUndistributedForeignEarnings', 'DeferredTaxLiabilityNotRecognizedAmountOfUnrecognizedDeferredTaxLiabilityUndistributedEarningsOfForeignSubsidiaries', 'DefinedContributionPlanCostRecognized', 'DefinedContributionPlanMaximumAnnualContributionPerEmployeeAmount', 'DefinedContributionPlanMaximumAnnualContributionsPerEmployeeAmount', 'Depreciation', 'DepreciationAmortizationAndAccretionNet', 'DepreciationAndAmortization', 'DepreciationDepletionAndAmortization', 'DerivativeCollateralObligationToReturnCash', 'DerivativeFairValueOfDerivativeNet', 'DerivativeInstrumentsGainLossReclassifiedFromAccumulatedOCIIntoIncomeEffectivePortionNet', 'DerivativeInstrumentsGainLossRecognizedInIncomeIneffectivePortionAndAmountExcludedFromEffectivenessTestingNet', 'DerivativeInstrumentsGainLossRecognizedInOtherComprehensiveIncomeEffectivePortionNet', 'DerivativeInstrumentsNotDesignatedAsHedgingInstrumentsGainLossNet', 'Dividends', 'EarningsPerShareBasic', 'EarningsPerShareDiluted', 'EffectiveIncomeTaxRateContinuingOperations', 'EffectiveIncomeTaxRateReconciliationAtFederalStatutoryIncomeTaxRate', 'EffectiveIncomeTaxRateReconciliationForeignIncomeTaxRateDifferential', 'EffectiveIncomeTaxRateReconciliationShareBasedCompensationExcessTaxBenefitAmount', 'EffectiveIncomeTaxRateReconciliationTaxCutsAndJobsActOf2017Amount', 'EmployeeRelatedLiabilitiesCurrent', 'EmployeeServiceShareBasedCompensationCashFlowEffectCashUsedToSettleAwards', 'EmployeeServiceShareBasedCompensationNonvestedAwardsTotalCompensationCostNotYetRecognized', 'EmployeeServiceShareBasedCompensationNonvestedAwardsTotalCompensationCostNotYetRecognizedPeriodForRecognition', 'EmployeeServiceShareBasedCompensationTaxBenefitFromCompensationExpense', 'EmployeeServiceShareBasedCompensationUnrecognizedCompensationCostsOnNonvestedAwards', 'EmployeeServiceShareBasedCompensationUnrecognizedCompensationCostsOnNonvestedAwardsWeightedAveragePeriodOfRecognition', 'EquitySecuritiesWithoutReadilyDeterminableFairValueAmount', 'ExcessTaxBenefitFromShareBasedCompensationFinancingActivities', 'FairValueAssetsMeasuredOnRecurringBasisCashAndCashEquivalents', 'FairValueAssetsMeasuredOnRecurringBasisDerivativeFinancialInstrumentsAssets', 'FairValueHedgesAtFairValueNet', 'FairValueLiabilitiesMeasuredOnRecurringBasisDerivativeFinancialInstrumentsLiabilities', 'FederalIncomeTaxExpenseBenefitContinuingOperations', 'FinanceLeaseLiability', 'FinanceLeaseLiabilityCurrent', 'FinanceLeaseLiabilityNoncurrent', 'FinanceLeaseLiabilityPaymentsDue', 'FinanceLeaseLiabilityPaymentsDueAfterYearFive', 'FinanceLeaseLiabilityPaymentsDueNextTwelveMonths', 'FinanceLeaseLiabilityPaymentsDueYearFive', 'FinanceLeaseLiabilityPaymentsDueYearFour', 'FinanceLeaseLiabilityPaymentsDueYearThree', 'FinanceLeaseLiabilityPaymentsDueYearTwo', 'FinanceLeaseLiabilityPaymentsRemainderOfFiscalYear', 'FinanceLeaseLiabilityUndiscountedExcessAmount', 'FinanceLeaseRightOfUseAsset', 'FiniteLivedIntangibleAssetsAccumulatedAmortization', 'FiniteLivedIntangibleAssetsAmortizationExpense', 'FiniteLivedIntangibleAssetsAmortizationExpenseAfterYearFive', 'FiniteLivedIntangibleAssetsAmortizationExpenseNextTwelveMonths', 'FiniteLivedIntangibleAssetsAmortizationExpenseYearFive', 'FiniteLivedIntangibleAssetsAmortizationExpenseYearFour', 'FiniteLivedIntangibleAssetsAmortizationExpenseYearThree', 'FiniteLivedIntangibleAssetsAmortizationExpenseYearTwo', 'FiniteLivedIntangibleAssetsGross', 'FiniteLivedIntangibleAssetsNet', 'FiniteLivedIntangibleAssetsUsefulLifeMaximum', 'FiniteLivedIntangibleAssetsUsefulLifeMinimum', 'ForeignCurrencyDerivativeAssetsAtFairValue', 'ForeignCurrencyDerivativeInstrumentsNotDesignatedAsHedgingInstrumentsAssetAtFairValue', 'ForeignCurrencyDerivativeInstrumentsNotDesignatedAsHedgingInstrumentsLiabilityAtFairValue', 'ForeignCurrencyDerivativeLiabilitiesAtFairValue', 'ForeignIncomeTaxExpenseBenefitContinuingOperations', 'FurnitureAndFixturesGross', 'FutureAmortizationExpenseYearFive', 'FutureAmortizationExpenseYearFour', 'FutureAmortizationExpenseYearOne', 'FutureAmortizationExpenseYearThree', 'FutureAmortizationExpenseYearTwo', 'GainLossFromComponentsExcludedFromAssessmentOfFairValueHedgeEffectivenessNet', 'GainLossOnSaleOfPropertyPlantEquipment', 'Goodwill', 'GoodwillAcquiredDuringPeriod', 'GoodwillImpairmentLoss', 'GrossProfit', 'HeldToMaturitySecurities', 'ImpairmentOfIntangibleAssetsExcludingGoodwill', 'ImpairmentOfIntangibleAssetsIndefinitelivedExcludingGoodwill', 'IncomeLossFromContinuingOperationsBeforeIncomeTaxesExtraordinaryItemsNoncontrollingInterest', 'IncomeLossFromContinuingOperationsBeforeIncomeTaxesForeign', 'IncomeLossFromContinuingOperationsBeforeIncomeTaxesMinorityInterestAndIncomeLossFromEquityMethodInvestments', 'IncomeTaxExaminationInterestExpense', 'IncomeTaxExpenseBenefit', 'IncomeTaxesPaidNet', 'IncomeTaxReconciliationDeductionsQualifiedProductionActivities', 'IncomeTaxReconciliationForeignIncomeTaxRateDifferential', 'IncomeTaxReconciliationIncomeTaxExpenseBenefitAtFederalStatutoryIncomeTaxRate', 'IncomeTaxReconciliationNondeductibleExpenseShareBasedCompensationCost', 'IncomeTaxReconciliationOtherAdjustments', 'IncomeTaxReconciliationOtherReconcilingItems', 'IncomeTaxReconciliationStateAndLocalIncomeTaxes', 'IncomeTaxReconciliationTaxContingenciesDomestic', 'IncomeTaxReconciliationTaxCreditsResearch', 'IncomeTaxReconciliationTaxSettlementsDomestic', 'IncreaseDecreaseInAccountsPayable', 'IncreaseDecreaseInAccountsReceivable', 'IncreaseDecreaseInContractWithCustomerLiability', 'IncreaseDecreaseInDeferredRevenue', 'IncreaseDecreaseInInventories', 'IncreaseDecreaseInOtherOperatingAssets', 'IncreaseDecreaseInOtherOperatingLiabilities', 'IncreaseDecreaseInOtherReceivables', 'IndefiniteLivedIntangibleAssetsExcludingGoodwill', 'IntangibleAssetsGrossExcludingGoodwill', 'IntangibleAssetsNetExcludingGoodwill', 'InterestCostsIncurred', 'InterestExpense', 'InterestExpenseDebt', 'InterestPaid', 'InterestPaidNet', 'InventoryFinishedGoodsNetOfReserves', 'InventoryNet', 'InventoryPartsAndComponentsNetOfReserves', 'InvestmentIncomeInterestAndDividend', 'LeaseAndRentalExpense', 'LeaseholdImprovementsGross', 'LesseeOperatingLeaseLiabilityPaymentsDue', 'LesseeOperatingLeaseLiabilityPaymentsDueAfterYearFive', 'LesseeOperatingLeaseLiabilityPaymentsDueNextTwelveMonths', 'LesseeOperatingLeaseLiabilityPaymentsDueYearFive', 'LesseeOperatingLeaseLiabilityPaymentsDueYearFour', 'LesseeOperatingLeaseLiabilityPaymentsDueYearThree', 'LesseeOperatingLeaseLiabilityPaymentsDueYearTwo', 'LesseeOperatingLeaseLiabilityPaymentsRemainderOfFiscalYear', 'LesseeOperatingLeaseLiabilityUndiscountedExcessAmount', 'Liabilities', 'LiabilitiesAndStockholdersEquity', 'LiabilitiesCurrent', 'LiabilitiesNoncurrent', 'LongTermDebt', 'LongTermDebtCurrent', 'LongTermDebtMaturitiesRepaymentsOfPrincipalAfterYearFive', 'LongTermDebtMaturitiesRepaymentsOfPrincipalInNextTwelveMonths', 'LongTermDebtMaturitiesRepaymentsOfPrincipalInYearFive', 'LongTermDebtMaturitiesRepaymentsOfPrincipalInYearFour', 'LongTermDebtMaturitiesRepaymentsOfPrincipalInYearThree', 'LongTermDebtMaturitiesRepaymentsOfPrincipalInYearTwo', 'LongTermDebtMaturitiesRepaymentsOfPrincipalRemainderOfFiscalYear', 'LongTermDebtNoncurrent', 'LongTermPurchaseCommitmentAmount', 'MarketableSecuritiesCurrent', 'MarketableSecuritiesNoncurrent', 'MarketableSecuritiesRealizedGainLoss', 'MarketingExpense', 'NetCashProvidedByUsedInFinancingActivities', 'NetCashProvidedByUsedInFinancingActivitiesContinuingOperations', 'NetCashProvidedByUsedInInvestingActivities', 'NetCashProvidedByUsedInInvestingActivitiesContinuingOperations', 'NetCashProvidedByUsedInOperatingActivities', 'NetCashProvidedByUsedInOperatingActivitiesContinuingOperations', 'NetIncomeLoss', 'NoncurrentAssets', 'NonoperatingIncomeExpense', 'NontradeReceivablesCurrent', 'NotionalAmountOfForeignCurrencyDerivativeInstrumentsNotDesignatedAsHedgingInstruments', 'NumberOfStores', 'OciBeforeReclassificationsBeforeTaxAttributableToParent', 'OperatingExpenses', 'OperatingIncomeLoss', 'OperatingLeaseCost', 'OperatingLeaseLiability', 'OperatingLeaseLiabilityCurrent', 'OperatingLeaseLiabilityNoncurrent', 'OperatingLeasePayments', 'OperatingLeaseRightOfUseAsset', 'OperatingLeasesFutureMinimumPaymentsDue', 'OperatingLeasesFutureMinimumPaymentsDueCurrent', 'OperatingLeasesFutureMinimumPaymentsDueInFiveYears', 'OperatingLeasesFutureMinimumPaymentsDueInFourYears', 'OperatingLeasesFutureMinimumPaymentsDueInThreeYears', 'OperatingLeasesFutureMinimumPaymentsDueInTwoYears', 'OperatingLeasesFutureMinimumPaymentsDueThereafter', 'OperatingLeasesRentExpenseNet', 'OtherAccruedLiabilitiesCurrent', 'OtherAccruedLiabilitiesNoncurrent', 'OtherAssetsCurrent', 'OtherAssetsNoncurrent', 'OtherComprehensiveIncomeAvailableForSaleSecuritiesAdjustmentNetOfTaxPeriodIncreaseDecrease', 'OtherComprehensiveIncomeDerivativesQualifyingAsHedgesNetOfTaxPeriodIncreaseDecrease', 'OtherComprehensiveIncomeForeignCurrencyTransactionAndTranslationAdjustmentNetOfTaxPeriodIncreaseDecrease', 'OtherComprehensiveIncomeLossAvailableForSaleSecuritiesAdjustmentNetOfTax', 'OtherComprehensiveIncomeLossBeforeReclassificationsBeforeTax', 'OtherComprehensiveIncomeLossBeforeReclassificationsNetOfTax', 'OtherComprehensiveIncomeLossCashFlowHedgeGainLossBeforeReclassificationAndTax', 'OtherComprehensiveIncomeLossCashFlowHedgeGainLossReclassificationAfterTax', 'OtherComprehensiveIncomeLossCashFlowHedgeGainLossReclassificationBeforeTax', 'OtherComprehensiveIncomeLossDerivativeExcludedComponentIncreaseDecreaseBeforeAdjustmentsAndTax', 'OtherComprehensiveIncomeLossDerivativesQualifyingAsHedgesNetOfTax', 'OtherComprehensiveIncomeLossForeignCurrencyTransactionAndTranslationAdjustmentNetOfTax', 'OtherComprehensiveIncomeLossForeignCurrencyTranslationAdjustmentTax', 'OtherComprehensiveIncomeLossNetOfTax', 'OtherComprehensiveIncomeLossNetOfTaxPortionAttributableToParent', 'OtherComprehensiveIncomeLossReclassificationAdjustmentForSaleOfSecuritiesIncludedInNetIncomeNetOfTax', 'OtherComprehensiveIncomeLossReclassificationAdjustmentFromAOCIForSaleOfSecuritiesBeforeTax', 'OtherComprehensiveIncomeLossReclassificationAdjustmentFromAOCIForSaleOfSecuritiesNetOfTax', 'OtherComprehensiveIncomeLossReclassificationAdjustmentFromAOCIForSaleOfSecuritiesTax', 'OtherComprehensiveIncomeLossReclassificationAdjustmentFromAOCIOnDerivativesBeforeTax', 'OtherComprehensiveIncomeLossReclassificationAdjustmentFromAOCIOnDerivativesNetOfTax', 'OtherComprehensiveIncomeLossReclassificationAdjustmentFromAOCIOnDerivativesTax', 'OtherComprehensiveIncomeLossReclassificationAdjustmentOnDerivativesIncludedInNetIncomeNetOfTax', 'OtherComprehensiveIncomeLossReclassificationAdjustmentOnDerivativesIncludedInNetIncomeTax', 'OtherComprehensiveIncomeLossTax', 'OtherComprehensiveIncomeLossTaxPortionAttributableToParent1', 'OtherComprehensiveIncomeReclassificationAdjustmentOnDerivativesIncludedInNetIncomeNetOfTax', 'OtherComprehensiveIncomeReclassificationAdjustmentOnDerivativesIncludedInNetIncomeTax', 'OtherComprehensiveIncomeUnrealizedGainLossOnDerivativesArisingDuringPeriodNetOfTax', 'OtherComprehensiveIncomeUnrealizedGainLossOnDerivativesArisingDuringPeriodTax', 'OtherComprehensiveIncomeUnrealizedHoldingGainLossOnSecuritiesArisingDuringPeriodNetOfTax', 'OtherComprehensiveIncomeUnrealizedHoldingGainLossOnSecuritiesArisingDuringPeriodTax', 'OtherDeferredCreditsCurrent', 'OtherLiabilitiesCurrent', 'OtherLiabilitiesNoncurrent', 'OtherNoncashIncomeExpense', 'OtherNonoperatingIncomeExpense', 'OtherPrepaidExpenseCurrent', 'OtherShortTermBorrowings', 'PaymentsForProceedsFromOtherInvestingActivities', 'PaymentsForRepurchaseOfCommonStock', 'PaymentsOfDividends', 'PaymentsOfDividendsCommonStock', 'PaymentsRelatedToTaxWithholdingForShareBasedCompensation', 'PaymentsToAcquireAvailableForSaleSecurities', 'PaymentsToAcquireAvailableForSaleSecuritiesDebt', 'PaymentsToAcquireBusinessesNetOfCashAcquired', 'PaymentsToAcquireIntangibleAssets', 'PaymentsToAcquireOtherInvestments', 'PaymentsToAcquireProductiveAssets', 'PaymentsToAcquirePropertyPlantAndEquipment', 'PreferredStockSharesAuthorized', 'PrepaidExpenseOtherNoncurrent', 'ProceedsFromIssuanceOfCommonStock', 'ProceedsFromIssuanceOfLongTermDebt', 'ProceedsFromMaturitiesPrepaymentsAndCallsOfAvailableForSaleSecurities', 'ProceedsFromOtherShortTermDebt', 'ProceedsFromPaymentsForOtherFinancingActivities', 'ProceedsFromRepaymentsOfCommercialPaper', 'ProceedsFromRepaymentsOfShortTermDebt', 'ProceedsFromRepaymentsOfShortTermDebtMaturingInMoreThanThreeMonths', 'ProceedsFromRepaymentsOfShortTermDebtMaturingInThreeMonthsOrLess', 'ProceedsFromSaleAndMaturityOfOtherInvestments', 'ProceedsFromSaleOfAvailableForSaleSecurities', 'ProceedsFromSaleOfAvailableForSaleSecuritiesDebt', 'ProceedsFromShortTermDebtMaturingInMoreThanThreeMonths', 'ProductWarrantyAccrualClassifiedCurrent', 'ProductWarrantyAccrualPayments', 'ProductWarrantyAccrualWarrantiesIssued', 'ProductWarrantyExpense', 'PropertyPlantAndEquipmentGross', 'PropertyPlantAndEquipmentNet', 'ReclassificationFromAccumulatedOtherComprehensiveIncomeCurrentPeriodBeforeTax', 'ReclassificationFromAccumulatedOtherComprehensiveIncomeCurrentPeriodNetOfTax', 'ReclassificationFromAociCurrentPeriodBeforeTaxAttributableToParent', 'RepaymentsOfLongTermDebt', 'RepaymentsOfOtherShortTermDebt', 'RepaymentsOfShortTermDebtMaturingInMoreThanThreeMonths', 'ResearchAndDevelopmentExpense', 'RestrictedCash', 'RestrictedCashAndCashEquivalentsAtCarryingValue', 'RestrictedCashAndCashEquivalentsNoncurrent', 'RestrictedInvestments', 'RetainedEarningsAccumulatedDeficit', 'RevenueFromContractWithCustomerExcludingAssessedTax', 'Revenues', 'SalesRevenueNet', 'SalesRevenueServicesGross', 'SecuritiesSoldUnderAgreementsToRepurchaseFairValueOfCollateral', 'SegmentReportingInformationOperatingIncomeLoss', 'SegmentReportingReconcilingItemsAssets', 'SegmentReportingSegmentAssets', 'SellingGeneralAndAdministrativeExpense', 'ShareBasedCompensation', 'ShareBasedCompensationArrangementByShareBasedPaymentAwardEquityInstrumentsOtherThanOptionsForfeitedInPeriod', 'ShareBasedCompensationArrangementByShareBasedPaymentAwardEquityInstrumentsOtherThanOptionsForfeitedInPeriodWeightedAverageGrantDateFairValue', 'ShareBasedCompensationArrangementByShareBasedPaymentAwardEquityInstrumentsOtherThanOptionsForfeituresWeightedAverageGrantDateFairValue', 'ShareBasedCompensationArrangementByShareBasedPaymentAwardEquityInstrumentsOtherThanOptionsGrantsInPeriod', 'ShareBasedCompensationArrangementByShareBasedPaymentAwardEquityInstrumentsOtherThanOptionsGrantsInPeriodWeightedAverageGrantDateFairValue', 'ShareBasedCompensationArrangementByShareBasedPaymentAwardEquityInstrumentsOtherThanOptionsNonvestedIntrinsicValue', 'ShareBasedCompensationArrangementByShareBasedPaymentAwardEquityInstrumentsOtherThanOptionsNonvestedNumber', 'ShareBasedCompensationArrangementByShareBasedPaymentAwardEquityInstrumentsOtherThanOptionsNonvestedWeightedAverageGrantDateFairValue', 'ShareBasedCompensationArrangementByShareBasedPaymentAwardEquityInstrumentsOtherThanOptionsVestedInPeriod', 'ShareBasedCompensationArrangementByShareBasedPaymentAwardEquityInstrumentsOtherThanOptionsVestedInPeriodTotalFairValue', 'ShareBasedCompensationArrangementByShareBasedPaymentAwardEquityInstrumentsOtherThanOptionsVestedInPeriodWeightedAverageGrantDateFairValue', 'ShareBasedCompensationArrangementByShareBasedPaymentAwardFairValueAssumptionsExpectedDividendRate', 'ShareBasedCompensationArrangementByShareBasedPaymentAwardFairValueAssumptionsExpectedTerm', 'ShareBasedCompensationArrangementByShareBasedPaymentAwardFairValueAssumptionsRiskFreeInterestRate', 'ShareBasedCompensationArrangementByShareBasedPaymentAwardFairValueAssumptionsWeightedAverageVolatilityRate', 'ShareBasedCompensationArrangementByShareBasedPaymentAwardNumberOfSharesAvailableForGrant', 'ShareBasedCompensationArrangementByShareBasedPaymentAwardOptionsExercisableIntrinsicValue', 'ShareBasedCompensationArrangementByShareBasedPaymentAwardOptionsExercisableNumber', 'ShareBasedCompensationArrangementByShareBasedPaymentAwardOptionsExercisableWeightedAverageExercisePrice', 'ShareBasedCompensationArrangementByShareBasedPaymentAwardOptionsExercisableWeightedAverageRemainingContractualTerm', 'ShareBasedCompensationArrangementByShareBasedPaymentAwardOptionsExercisesInPeriod', 'ShareBasedCompensationArrangementByShareBasedPaymentAwardOptionsExercisesInPeriodTotalIntrinsicValue', 'ShareBasedCompensationArrangementByShareBasedPaymentAwardOptionsExercisesInPeriodWeightedAverageExercisePrice', 'ShareBasedCompensationArrangementByShareBasedPaymentAwardOptionsForfeituresInPeriod', 'ShareBasedCompensationArrangementByShareBasedPaymentAwardOptionsForfeituresInPeriodWeightedAverageExercisePrice', 'ShareBasedCompensationArrangementByShareBasedPaymentAwardOptionsGrantsInPeriod', 'ShareBasedCompensationArrangementByShareBasedPaymentAwardOptionsGrantsInPeriodWeightedAverageExercisePrice', 'ShareBasedCompensationArrangementByShareBasedPaymentAwardOptionsGrantsInPeriodWeightedAverageGrantDateFairValue', 'ShareBasedCompensationArrangementByShareBasedPaymentAwardOptionsOtherIncreasesDecreasesInPeriod', 'ShareBasedCompensationArrangementByShareBasedPaymentAwardOptionsOutstandingIntrinsicValue', 'ShareBasedCompensationArrangementByShareBasedPaymentAwardOptionsOutstandingNumber', 'ShareBasedCompensationArrangementByShareBasedPaymentAwardOptionsOutstandingWeightedAverageExercisePrice', 'ShareBasedCompensationArrangementByShareBasedPaymentAwardOptionsOutstandingWeightedAverageRemainingContractualTerm', 'ShareBasedCompensationArrangementByShareBasedPaymentAwardOptionsVestedAndExpectedToVestOutstandingNumber', 'ShareBasedCompensationArrangementsByShareBasedPaymentAwardOptionsExercisesInPeriodWeightedAverageExercisePrice', 'ShareBasedCompensationArrangementsByShareBasedPaymentAwardOptionsForfeituresInPeriodWeightedAverageExercisePrice', 'ShareBasedCompensationArrangementsByShareBasedPaymentAwardOptionsGrantsInPeriodWeightedAverageExercisePrice', 'SharebasedCompensationArrangementBySharebasedPaymentAwardEquityInstrumentsOtherThanOptionsAggregateIntrinsicValueNonvested', 'SharebasedCompensationArrangementBySharebasedPaymentAwardOptionsExercisableIntrinsicValue1', 'SharebasedCompensationArrangementBySharebasedPaymentAwardOptionsOutstandingWeightedAverageRemainingContractualTerm1', 'SharesPaidForTaxWithholdingForShareBasedCompensation', 'ShortTermDebtWeightedAverageInterestRate', 'SignificantChangeInUnrecognizedTaxBenefitsIsReasonablyPossibleEstimatedRangeOfChangeLowerBound', 'SignificantChangeInUnrecognizedTaxBenefitsIsReasonablyPossibleEstimatedRangeOfChangeUpperBound', 'StandardProductWarrantyAccrual', 'StandardProductWarrantyAccrualPayments', 'StandardProductWarrantyAccrualWarrantiesIssued', 'StateAndLocalIncomeTaxExpenseBenefitContinuingOperations', 'StockholdersEquity', 'StockholdersEquityNoteStockSplitConversionRatio1', 'StockIssuedDuringPeriodSharesStockOptionsExercised', 'StockIssuedDuringPeriodValueAcquisitions', 'StockIssuedDuringPeriodValueShareBasedCompensation', 'StockRepurchasedAndRetiredDuringPeriodShares', 'StockRepurchasedAndRetiredDuringPeriodValue', 'StockRepurchaseProgramAuthorizedAmount', 'StockRepurchaseProgramAuthorizedAmount1', 'TaxAdjustmentsSettlementsAndUnusualProvisions', 'TaxesPayableCurrent', 'TranslationAdjustmentForNetInvestmentHedgeNetOfTax', 'TreasuryStockValueAcquiredCostMethod', 'UndistributedEarningsOfForeignSubsidiaries', 'UnrecognizedTaxBenefits', 'UnrecognizedTaxBenefitsDecreasesResultingFromPriorPeriodTaxPositions', 'UnrecognizedTaxBenefitsDecreasesResultingFromSettlementsWithTaxingAuthorities', 'UnrecognizedTaxBenefitsIncomeTaxPenaltiesAndInterestAccrued', 'UnrecognizedTaxBenefitsIncomeTaxPenaltiesAndInterestExpense', 'UnrecognizedTaxBenefitsIncreasesResultingFromCurrentPeriodTaxPositions', 'UnrecognizedTaxBenefitsIncreasesResultingFromPriorPeriodTaxPositions', 'UnrecognizedTaxBenefitsPeriodIncreaseDecrease', 'UnrecognizedTaxBenefitsReductionsResultingFromLapseOfApplicableStatuteOfLimitations', 'UnrecognizedTaxBenefitsThatWouldImpactEffectiveTaxRate', 'UnrecordedUnconditionalPurchaseObligationBalanceOnFifthAnniversary', 'UnrecordedUnconditionalPurchaseObligationBalanceOnFirstAnniversary', 'UnrecordedUnconditionalPurchaseObligationBalanceOnFourthAnniversary', 'UnrecordedUnconditionalPurchaseObligationBalanceOnSecondAnniversary', 'UnrecordedUnconditionalPurchaseObligationBalanceOnThirdAnniversary', 'UnrecordedUnconditionalPurchaseObligationBalanceSheetAmount', 'UnrecordedUnconditionalPurchaseObligationDueAfterFiveYears', 'VariableLeaseCost', 'WeightedAverageNumberDilutedSharesOutstandingAdjustment', 'WeightedAverageNumberOfDilutedSharesOutstanding', 'WeightedAverageNumberOfSharesOutstandingBasic'])"
      ]
     },
     "execution_count": 30,
     "metadata": {},
     "output_type": "execute_result"
    }
   ],
   "source": [
    "gaap.keys()"
   ]
  },
  {
   "cell_type": "code",
   "execution_count": 35,
   "id": "c91bcfd8-8029-4ff9-b9a9-ad180d0ee59c",
   "metadata": {},
   "outputs": [
    {
     "data": {
      "text/plain": [
       "{'label': 'Revenues',\n",
       " 'description': 'Amount of revenue recognized from goods sold, services rendered, insurance premiums, or other activities that constitute an earning process. Includes, but is not limited to, investment and interest income before deduction of interest expense when recognized as a component of revenue, and sales and trading gain (loss).',\n",
       " 'units': {'USD': [{'start': '2015-09-27',\n",
       "    'end': '2016-09-24',\n",
       "    'val': 215639000000,\n",
       "    'accn': '0000320193-18-000145',\n",
       "    'fy': 2018,\n",
       "    'fp': 'FY',\n",
       "    'form': '10-K',\n",
       "    'filed': '2018-11-05',\n",
       "    'frame': 'CY2016'},\n",
       "   {'start': '2016-09-25',\n",
       "    'end': '2016-12-31',\n",
       "    'val': 78351000000,\n",
       "    'accn': '0000320193-18-000145',\n",
       "    'fy': 2018,\n",
       "    'fp': 'FY',\n",
       "    'form': '10-K',\n",
       "    'filed': '2018-11-05',\n",
       "    'frame': 'CY2016Q4'},\n",
       "   {'start': '2017-01-01',\n",
       "    'end': '2017-04-01',\n",
       "    'val': 52896000000,\n",
       "    'accn': '0000320193-18-000145',\n",
       "    'fy': 2018,\n",
       "    'fp': 'FY',\n",
       "    'form': '10-K',\n",
       "    'filed': '2018-11-05',\n",
       "    'frame': 'CY2017Q1'},\n",
       "   {'start': '2017-04-02',\n",
       "    'end': '2017-07-01',\n",
       "    'val': 45408000000,\n",
       "    'accn': '0000320193-18-000145',\n",
       "    'fy': 2018,\n",
       "    'fp': 'FY',\n",
       "    'form': '10-K',\n",
       "    'filed': '2018-11-05',\n",
       "    'frame': 'CY2017Q2'},\n",
       "   {'start': '2016-09-25',\n",
       "    'end': '2017-09-30',\n",
       "    'val': 229234000000,\n",
       "    'accn': '0000320193-18-000145',\n",
       "    'fy': 2018,\n",
       "    'fp': 'FY',\n",
       "    'form': '10-K',\n",
       "    'filed': '2018-11-05',\n",
       "    'frame': 'CY2017'},\n",
       "   {'start': '2017-07-02',\n",
       "    'end': '2017-09-30',\n",
       "    'val': 52579000000,\n",
       "    'accn': '0000320193-18-000145',\n",
       "    'fy': 2018,\n",
       "    'fp': 'FY',\n",
       "    'form': '10-K',\n",
       "    'filed': '2018-11-05',\n",
       "    'frame': 'CY2017Q3'},\n",
       "   {'start': '2017-10-01',\n",
       "    'end': '2017-12-30',\n",
       "    'val': 88293000000,\n",
       "    'accn': '0000320193-18-000145',\n",
       "    'fy': 2018,\n",
       "    'fp': 'FY',\n",
       "    'form': '10-K',\n",
       "    'filed': '2018-11-05',\n",
       "    'frame': 'CY2017Q4'},\n",
       "   {'start': '2017-12-31',\n",
       "    'end': '2018-03-31',\n",
       "    'val': 61137000000,\n",
       "    'accn': '0000320193-18-000145',\n",
       "    'fy': 2018,\n",
       "    'fp': 'FY',\n",
       "    'form': '10-K',\n",
       "    'filed': '2018-11-05',\n",
       "    'frame': 'CY2018Q1'},\n",
       "   {'start': '2018-04-01',\n",
       "    'end': '2018-06-30',\n",
       "    'val': 53265000000,\n",
       "    'accn': '0000320193-18-000145',\n",
       "    'fy': 2018,\n",
       "    'fp': 'FY',\n",
       "    'form': '10-K',\n",
       "    'filed': '2018-11-05',\n",
       "    'frame': 'CY2018Q2'},\n",
       "   {'start': '2017-10-01',\n",
       "    'end': '2018-09-29',\n",
       "    'val': 265595000000,\n",
       "    'accn': '0000320193-18-000145',\n",
       "    'fy': 2018,\n",
       "    'fp': 'FY',\n",
       "    'form': '10-K',\n",
       "    'filed': '2018-11-05',\n",
       "    'frame': 'CY2018'},\n",
       "   {'start': '2018-07-01',\n",
       "    'end': '2018-09-29',\n",
       "    'val': 62900000000,\n",
       "    'accn': '0000320193-18-000145',\n",
       "    'fy': 2018,\n",
       "    'fp': 'FY',\n",
       "    'form': '10-K',\n",
       "    'filed': '2018-11-05',\n",
       "    'frame': 'CY2018Q3'}]}}"
      ]
     },
     "execution_count": 35,
     "metadata": {},
     "output_type": "execute_result"
    }
   ],
   "source": [
    "gaap[\"Revenues\"]"
   ]
  },
  {
   "cell_type": "code",
   "execution_count": 38,
   "id": "bc02825d-1937-4ef3-8a42-e3b8a580efaf",
   "metadata": {},
   "outputs": [
    {
     "name": "stdout",
     "output_type": "stream",
     "text": [
      "         start         end           val                  accn    fy  fp  \\\n",
      "0   2015-09-27  2016-09-24  215639000000  0000320193-18-000145  2018  FY   \n",
      "1   2016-09-25  2016-12-31   78351000000  0000320193-18-000145  2018  FY   \n",
      "2   2017-01-01  2017-04-01   52896000000  0000320193-18-000145  2018  FY   \n",
      "3   2017-04-02  2017-07-01   45408000000  0000320193-18-000145  2018  FY   \n",
      "4   2016-09-25  2017-09-30  229234000000  0000320193-18-000145  2018  FY   \n",
      "5   2017-07-02  2017-09-30   52579000000  0000320193-18-000145  2018  FY   \n",
      "6   2017-10-01  2017-12-30   88293000000  0000320193-18-000145  2018  FY   \n",
      "7   2017-12-31  2018-03-31   61137000000  0000320193-18-000145  2018  FY   \n",
      "8   2018-04-01  2018-06-30   53265000000  0000320193-18-000145  2018  FY   \n",
      "9   2017-10-01  2018-09-29  265595000000  0000320193-18-000145  2018  FY   \n",
      "10  2018-07-01  2018-09-29   62900000000  0000320193-18-000145  2018  FY   \n",
      "\n",
      "    form       filed     frame  \n",
      "0   10-K  2018-11-05    CY2016  \n",
      "1   10-K  2018-11-05  CY2016Q4  \n",
      "2   10-K  2018-11-05  CY2017Q1  \n",
      "3   10-K  2018-11-05  CY2017Q2  \n",
      "4   10-K  2018-11-05    CY2017  \n",
      "5   10-K  2018-11-05  CY2017Q3  \n",
      "6   10-K  2018-11-05  CY2017Q4  \n",
      "7   10-K  2018-11-05  CY2018Q1  \n",
      "8   10-K  2018-11-05  CY2018Q2  \n",
      "9   10-K  2018-11-05    CY2018  \n",
      "10  10-K  2018-11-05  CY2018Q3  \n"
     ]
    }
   ],
   "source": [
    "revenues = json_normalize(gaap[\"Revenues\"][\"units\"][\"USD\"])\n",
    "print(revenues)"
   ]
  },
  {
   "cell_type": "code",
   "execution_count": 39,
   "id": "42912176-3ee9-4862-9269-9bc689f26f3d",
   "metadata": {},
   "outputs": [
    {
     "name": "stdout",
     "output_type": "stream",
     "text": [
      "            end           val                  accn    fy  fp    form  \\\n",
      "0    2008-09-27   39572000000  0001193125-09-153165  2009  Q3    10-Q   \n",
      "1    2008-09-27   39572000000  0001193125-09-214859  2009  FY    10-K   \n",
      "2    2008-09-27   36171000000  0001193125-10-012091  2009  FY  10-K/A   \n",
      "3    2008-09-27   36171000000  0001193125-10-238044  2010  FY    10-K   \n",
      "4    2009-06-27   48140000000  0001193125-09-153165  2009  Q3    10-Q   \n",
      "..          ...           ...                   ...   ...  ..     ...   \n",
      "101  2020-09-26  323888000000  0000320193-21-000056  2021  Q2    10-Q   \n",
      "102  2020-09-26  323888000000  0000320193-21-000065  2021  Q3    10-Q   \n",
      "103  2020-12-26  354054000000  0000320193-21-000010  2021  Q1    10-Q   \n",
      "104  2021-03-27  337158000000  0000320193-21-000056  2021  Q2    10-Q   \n",
      "105  2021-06-26  329840000000  0000320193-21-000065  2021  Q3    10-Q   \n",
      "\n",
      "          filed      frame  \n",
      "0    2009-07-22        NaN  \n",
      "1    2009-10-27        NaN  \n",
      "2    2010-01-25        NaN  \n",
      "3    2010-10-27  CY2008Q3I  \n",
      "4    2009-07-22  CY2009Q2I  \n",
      "..          ...        ...  \n",
      "101  2021-04-29        NaN  \n",
      "102  2021-07-28  CY2020Q3I  \n",
      "103  2021-01-28  CY2020Q4I  \n",
      "104  2021-04-29  CY2021Q1I  \n",
      "105  2021-07-28  CY2021Q2I  \n",
      "\n",
      "[106 rows x 8 columns]\n"
     ]
    }
   ],
   "source": [
    "assets = json_normalize(gaap[\"Assets\"][\"units\"][\"USD\"])\n",
    "print(assets)"
   ]
  },
  {
   "cell_type": "code",
   "execution_count": 40,
   "id": "e21c87cc-aa70-4b5a-be88-9a05526047a8",
   "metadata": {},
   "outputs": [
    {
     "name": "stdout",
     "output_type": "stream",
     "text": [
      "            end           val                  accn    fy  fp    form  \\\n",
      "0    2008-09-27   39572000000  0001193125-09-153165  2009  Q3    10-Q   \n",
      "1    2008-09-27   39572000000  0001193125-09-214859  2009  FY    10-K   \n",
      "2    2008-09-27   36171000000  0001193125-10-012091  2009  FY  10-K/A   \n",
      "3    2008-09-27   36171000000  0001193125-10-238044  2010  FY    10-K   \n",
      "4    2009-06-27   48140000000  0001193125-09-153165  2009  Q3    10-Q   \n",
      "..          ...           ...                   ...   ...  ..     ...   \n",
      "101  2020-09-26  323888000000  0000320193-21-000056  2021  Q2    10-Q   \n",
      "102  2020-09-26  323888000000  0000320193-21-000065  2021  Q3    10-Q   \n",
      "103  2020-12-26  354054000000  0000320193-21-000010  2021  Q1    10-Q   \n",
      "104  2021-03-27  337158000000  0000320193-21-000056  2021  Q2    10-Q   \n",
      "105  2021-06-26  329840000000  0000320193-21-000065  2021  Q3    10-Q   \n",
      "\n",
      "          filed      frame  \n",
      "0    2009-07-22        NaN  \n",
      "1    2009-10-27        NaN  \n",
      "2    2010-01-25        NaN  \n",
      "3    2010-10-27  CY2008Q3I  \n",
      "4    2009-07-22  CY2009Q2I  \n",
      "..          ...        ...  \n",
      "101  2021-04-29        NaN  \n",
      "102  2021-07-28  CY2020Q3I  \n",
      "103  2021-01-28  CY2020Q4I  \n",
      "104  2021-04-29  CY2021Q1I  \n",
      "105  2021-07-28  CY2021Q2I  \n",
      "\n",
      "[106 rows x 8 columns]\n"
     ]
    }
   ],
   "source": [
    "cash = json_normalize(gaap[\"Assets\"][\"units\"][\"USD\"])\n",
    "print(cash)"
   ]
  },
  {
   "cell_type": "code",
   "execution_count": 41,
   "id": "855c915f-5696-4b55-b737-2ce60b7a235c",
   "metadata": {},
   "outputs": [
    {
     "name": "stdout",
     "output_type": "stream",
     "text": [
      "        start         end          val                  accn    fy  fp  form  \\\n",
      "0  2014-09-28  2015-09-26  11627000000  0000320193-17-000070  2017  FY  10-K   \n",
      "1  2015-09-27  2016-09-24  12188000000  0000320193-18-000145  2018  FY  10-K   \n",
      "2  2015-09-27  2016-09-24  12188000000  0000320193-17-000070  2017  FY  10-K   \n",
      "3  2016-09-25  2017-09-30  12803000000  0000320193-18-000145  2018  FY  10-K   \n",
      "4  2016-09-25  2017-09-30  12803000000  0000320193-17-000070  2017  FY  10-K   \n",
      "5  2017-10-01  2018-09-29  13735000000  0000320193-18-000145  2018  FY  10-K   \n",
      "\n",
      "        filed   frame  \n",
      "0  2017-11-03  CY2015  \n",
      "1  2018-11-05  CY2016  \n",
      "2  2017-11-03     NaN  \n",
      "3  2018-11-05  CY2017  \n",
      "4  2017-11-03     NaN  \n",
      "5  2018-11-05  CY2018  \n"
     ]
    }
   ],
   "source": [
    "dividends = json_normalize(gaap[\"Dividends\"][\"units\"][\"USD\"])\n",
    "print(dividends)"
   ]
  },
  {
   "cell_type": "code",
   "execution_count": 43,
   "id": "ca731e4a-1865-4eb0-8b38-f40f0d03a81e",
   "metadata": {},
   "outputs": [
    {
     "name": "stdout",
     "output_type": "stream",
     "text": [
      "           end          val                  accn    fy  fp  form       filed  \\\n",
      "0   2012-09-29            0  0001193125-13-416534  2013  FY  10-K  2013-10-30   \n",
      "1   2012-09-29            0  0001193125-13-300670  2013  Q3  10-Q  2013-07-24   \n",
      "2   2013-06-29  16958000000  0001193125-13-300670  2013  Q3  10-Q  2013-07-24   \n",
      "3   2013-09-28  16960000000  0001193125-15-023732  2014  FY   8-K  2015-01-28   \n",
      "4   2013-09-28  16960000000  0001193125-14-383437  2014  FY  10-K  2014-10-27   \n",
      "5   2013-09-28  16960000000  0001193125-14-277160  2014  Q3  10-Q  2014-07-23   \n",
      "6   2013-09-28  16960000000  0001193125-14-157311  2014  Q2  10-Q  2014-04-24   \n",
      "7   2013-09-28  16960000000  0001193125-14-024487  2014  Q1  10-Q  2014-01-28   \n",
      "8   2013-09-28  16960000000  0001193125-13-416534  2013  FY  10-K  2013-10-30   \n",
      "9   2013-12-28  16961000000  0001193125-14-024487  2014  Q1  10-Q  2014-01-28   \n",
      "10  2014-03-29  16962000000  0001193125-14-157311  2014  Q2  10-Q  2014-04-24   \n",
      "11  2014-06-28  29030000000  0001193125-14-277160  2014  Q3  10-Q  2014-07-23   \n",
      "12  2014-09-27  28987000000  0001193125-15-153166  2015  Q2  10-Q  2015-04-28   \n",
      "13  2014-09-27  28987000000  0001193125-15-023732  2014  FY   8-K  2015-01-28   \n",
      "14  2014-09-27  28987000000  0001193125-15-023697  2015  Q1  10-Q  2015-01-28   \n",
      "15  2014-09-27  28987000000  0001193125-14-383437  2014  FY  10-K  2014-10-27   \n",
      "16  2014-12-27  32504000000  0001193125-15-023697  2015  Q1  10-Q  2015-01-28   \n",
      "17  2015-03-28  40072000000  0001193125-15-153166  2015  Q2  10-Q  2015-04-28   \n",
      "\n",
      "        frame  \n",
      "0   CY2012Q3I  \n",
      "1         NaN  \n",
      "2   CY2013Q2I  \n",
      "3   CY2013Q3I  \n",
      "4         NaN  \n",
      "5         NaN  \n",
      "6         NaN  \n",
      "7         NaN  \n",
      "8         NaN  \n",
      "9   CY2013Q4I  \n",
      "10  CY2014Q1I  \n",
      "11  CY2014Q2I  \n",
      "12  CY2014Q3I  \n",
      "13        NaN  \n",
      "14        NaN  \n",
      "15        NaN  \n",
      "16  CY2014Q4I  \n",
      "17  CY2015Q1I  \n"
     ]
    }
   ],
   "source": [
    "debt = json_normalize(gaap[\"LongTermDebt\"][\"units\"][\"USD\"])\n",
    "print(debt)"
   ]
  },
  {
   "cell_type": "code",
   "execution_count": 45,
   "id": "dfe88a6a-4ed0-419b-8e94-5e73466bee59",
   "metadata": {},
   "outputs": [
    {
     "name": "stdout",
     "output_type": "stream",
     "text": [
      "        start         end        val                  accn    fy  fp  form  \\\n",
      "0  2009-09-27  2010-09-25   75000000  0001193125-13-170623  2012  FY   8-K   \n",
      "1  2009-09-27  2010-09-25   75000000  0001193125-12-444068  2012  FY  10-K   \n",
      "2  2010-12-26  2011-03-26   25000000  0001193125-12-182321  2012  Q2  10-Q   \n",
      "3  2011-03-27  2011-06-25   26000000  0001193125-12-314552  2012  Q3  10-Q   \n",
      "4  2010-09-26  2011-09-24  102000000  0001193125-13-170623  2012  FY   8-K   \n",
      "5  2010-09-26  2011-09-24  102000000  0001193125-12-444068  2012  FY  10-K   \n",
      "\n",
      "        filed     frame  \n",
      "0  2013-04-24    CY2010  \n",
      "1  2012-10-31       NaN  \n",
      "2  2012-04-25  CY2011Q1  \n",
      "3  2012-07-25  CY2011Q2  \n",
      "4  2013-04-24    CY2011  \n",
      "5  2012-10-31       NaN  \n"
     ]
    }
   ],
   "source": [
    "marketing = json_normalize(gaap[\"MarketingExpense\"][\"units\"][\"USD\"])\n",
    "print(marketing)"
   ]
  },
  {
   "cell_type": "code",
   "execution_count": 48,
   "id": "0337d029-c6b7-4a8e-92cd-f12fae7e411e",
   "metadata": {},
   "outputs": [
    {
     "name": "stdout",
     "output_type": "stream",
     "text": [
      "          end  val                  accn    fy  fp  form       filed  \\\n",
      "0  2014-12-27  447  0001193125-15-023697  2015  Q1  10-Q  2015-01-28   \n",
      "1  2015-03-28  453  0001193125-15-153166  2015  Q2  10-Q  2015-04-28   \n",
      "2  2015-06-27  456  0001193125-15-259935  2015  Q3  10-Q  2015-07-22   \n",
      "3  2015-09-26  463  0001193125-15-356351  2015  FY  10-K  2015-10-28   \n",
      "4  2015-12-26  469  0001193125-16-439878  2016  Q1  10-Q  2016-01-27   \n",
      "5  2016-03-26  475  0001193125-16-559625  2016  Q2  10-Q  2016-04-27   \n",
      "\n",
      "       frame  \n",
      "0  CY2014Q4I  \n",
      "1  CY2015Q1I  \n",
      "2  CY2015Q2I  \n",
      "3  CY2015Q3I  \n",
      "4  CY2015Q4I  \n",
      "5  CY2016Q1I  \n"
     ]
    }
   ],
   "source": [
    "gaap[\"NumberOfStores\"][\"units\"].keys()\n",
    "nb_stores = json_normalize(gaap[\"NumberOfStores\"][\"units\"][\"Store\"])\n",
    "print(nb_stores)"
   ]
  },
  {
   "cell_type": "code",
   "execution_count": 50,
   "id": "b757b1f9-e64f-49ed-99e3-d6bf813a27c2",
   "metadata": {},
   "outputs": [
    {
     "name": "stdout",
     "output_type": "stream",
     "text": [
      "          start         end          val                  accn    fy  fp  \\\n",
      "0    2011-09-25  2011-12-31            0  0001193125-12-444068  2012  FY   \n",
      "1    2011-09-25  2011-12-31            0  0001193125-13-300670  2013  Q3   \n",
      "2    2011-09-25  2012-03-31            0  0001193125-13-168288  2013  Q2   \n",
      "3    2012-01-01  2012-03-31            0  0001193125-12-444068  2012  FY   \n",
      "4    2012-01-01  2012-03-31            0  0001193125-13-300670  2013  Q3   \n",
      "..          ...         ...          ...                   ...   ...  ..   \n",
      "178  2019-09-29  2020-06-27  10570000000  0000320193-21-000065  2021  Q3   \n",
      "179  2019-09-29  2020-09-26  14081000000  0000320193-20-000096  2020  FY   \n",
      "180  2020-09-27  2020-12-26   3613000000  0000320193-21-000010  2021  Q1   \n",
      "181  2020-09-27  2021-03-27   7060000000  0000320193-21-000056  2021  Q2   \n",
      "182  2020-09-27  2021-06-26  10827000000  0000320193-21-000065  2021  Q3   \n",
      "\n",
      "     form       filed     frame  \n",
      "0    10-K  2012-10-31       NaN  \n",
      "1    10-Q  2013-07-24  CY2011Q4  \n",
      "2    10-Q  2013-04-24       NaN  \n",
      "3    10-K  2012-10-31       NaN  \n",
      "4    10-Q  2013-07-24  CY2012Q1  \n",
      "..    ...         ...       ...  \n",
      "178  10-Q  2021-07-28       NaN  \n",
      "179  10-K  2020-10-30    CY2020  \n",
      "180  10-Q  2021-01-28  CY2020Q4  \n",
      "181  10-Q  2021-04-29       NaN  \n",
      "182  10-Q  2021-07-28       NaN  \n",
      "\n",
      "[183 rows x 9 columns]\n"
     ]
    }
   ],
   "source": [
    "dividend_payments = json_normalize(gaap[\"PaymentsOfDividends\"][\"units\"][\"USD\"])\n",
    "print(dividend_payments)"
   ]
  },
  {
   "cell_type": "code",
   "execution_count": 51,
   "id": "2b595604-93d5-4241-aeec-38ff8df9e728",
   "metadata": {},
   "outputs": [
    {
     "name": "stdout",
     "output_type": "stream",
     "text": [
      "          start         end          val                  accn    fy  fp  \\\n",
      "0    2006-10-01  2007-09-29    782000000  0001193125-09-214859  2009  FY   \n",
      "1    2006-10-01  2007-09-29    782000000  0001193125-10-012091  2009  FY   \n",
      "2    2007-09-30  2008-06-28    811000000  0001193125-09-153165  2009  Q3   \n",
      "3    2008-03-30  2008-06-28    292000000  0001193125-09-153165  2009  Q3   \n",
      "4    2007-09-30  2008-09-27   1109000000  0001193125-09-214859  2009  FY   \n",
      "..          ...         ...          ...                   ...   ...  ..   \n",
      "164  2020-09-27  2020-12-26   5163000000  0000320193-21-000010  2021  Q1   \n",
      "165  2020-09-27  2021-03-27  10425000000  0000320193-21-000056  2021  Q2   \n",
      "166  2020-12-27  2021-03-27   5262000000  0000320193-21-000056  2021  Q2   \n",
      "167  2020-09-27  2021-06-26  16142000000  0000320193-21-000065  2021  Q3   \n",
      "168  2021-03-28  2021-06-26   5717000000  0000320193-21-000065  2021  Q3   \n",
      "\n",
      "       form       filed     frame  \n",
      "0      10-K  2009-10-27       NaN  \n",
      "1    10-K/A  2010-01-25    CY2007  \n",
      "2      10-Q  2009-07-22       NaN  \n",
      "3      10-Q  2009-07-22  CY2008Q2  \n",
      "4      10-K  2009-10-27       NaN  \n",
      "..      ...         ...       ...  \n",
      "164    10-Q  2021-01-28  CY2020Q4  \n",
      "165    10-Q  2021-04-29       NaN  \n",
      "166    10-Q  2021-04-29  CY2021Q1  \n",
      "167    10-Q  2021-07-28       NaN  \n",
      "168    10-Q  2021-07-28  CY2021Q2  \n",
      "\n",
      "[169 rows x 9 columns]\n"
     ]
    }
   ],
   "source": [
    "research_expenses = json_normalize(\n",
    "    gaap[\"ResearchAndDevelopmentExpense\"][\"units\"][\"USD\"]\n",
    ")\n",
    "print(research_expenses)"
   ]
  },
  {
   "cell_type": "markdown",
   "id": "ee893954-27c4-45d7-b581-87831c1ea056",
   "metadata": {},
   "source": [
    "## Looking at frames now"
   ]
  },
  {
   "cell_type": "code",
   "execution_count": 59,
   "id": "35c12135-1b25-4334-82d5-63dec3a2fdfb",
   "metadata": {},
   "outputs": [
    {
     "name": "stdout",
     "output_type": "stream",
     "text": [
      "https://data.sec.gov/api/xbrl/frames/\n"
     ]
    },
    {
     "ename": "JSONDecodeError",
     "evalue": "Expecting value: line 1 column 1 (char 0)",
     "output_type": "error",
     "traceback": [
      "\u001b[0;31m---------------------------------------------------------------------------\u001b[0m",
      "\u001b[0;31mJSONDecodeError\u001b[0m                           Traceback (most recent call last)",
      "\u001b[0;32m/tmp/ipykernel_10086/65947846.py\u001b[0m in \u001b[0;36m<module>\u001b[0;34m\u001b[0m\n\u001b[1;32m     14\u001b[0m     \u001b[0;32mreturn\u001b[0m \u001b[0mresp_json\u001b[0m\u001b[0;34m\u001b[0m\u001b[0;34m\u001b[0m\u001b[0m\n\u001b[1;32m     15\u001b[0m \u001b[0;34m\u001b[0m\u001b[0m\n\u001b[0;32m---> 16\u001b[0;31m \u001b[0mget_frames\u001b[0m\u001b[0;34m(\u001b[0m\u001b[0mapple_cik\u001b[0m\u001b[0;34m,\u001b[0m \u001b[0mheaders\u001b[0m\u001b[0;34m)\u001b[0m\u001b[0;34m\u001b[0m\u001b[0;34m\u001b[0m\u001b[0m\n\u001b[0m",
      "\u001b[0;32m/tmp/ipykernel_10086/65947846.py\u001b[0m in \u001b[0;36mget_frames\u001b[0;34m(cik, headers)\u001b[0m\n\u001b[1;32m     11\u001b[0m     \u001b[0mresp_json\u001b[0m \u001b[0;34m=\u001b[0m \u001b[0;32mNone\u001b[0m\u001b[0;34m\u001b[0m\u001b[0;34m\u001b[0m\u001b[0m\n\u001b[1;32m     12\u001b[0m     \u001b[0;32mif\u001b[0m \u001b[0mresp\u001b[0m\u001b[0;34m.\u001b[0m\u001b[0mstatus_code\u001b[0m \u001b[0;34m<\u001b[0m \u001b[0;36m400\u001b[0m\u001b[0;34m:\u001b[0m\u001b[0;34m\u001b[0m\u001b[0;34m\u001b[0m\u001b[0m\n\u001b[0;32m---> 13\u001b[0;31m         \u001b[0mresp_json\u001b[0m \u001b[0;34m=\u001b[0m \u001b[0mresp\u001b[0m\u001b[0;34m.\u001b[0m\u001b[0mjson\u001b[0m\u001b[0;34m(\u001b[0m\u001b[0;34m)\u001b[0m\u001b[0;34m\u001b[0m\u001b[0;34m\u001b[0m\u001b[0m\n\u001b[0m\u001b[1;32m     14\u001b[0m     \u001b[0;32mreturn\u001b[0m \u001b[0mresp_json\u001b[0m\u001b[0;34m\u001b[0m\u001b[0;34m\u001b[0m\u001b[0m\n\u001b[1;32m     15\u001b[0m \u001b[0;34m\u001b[0m\u001b[0m\n",
      "\u001b[0;32m~/anaconda3/envs/dst/lib/python3.9/site-packages/requests/models.py\u001b[0m in \u001b[0;36mjson\u001b[0;34m(self, **kwargs)\u001b[0m\n\u001b[1;32m    908\u001b[0m                     \u001b[0;31m# used.\u001b[0m\u001b[0;34m\u001b[0m\u001b[0;34m\u001b[0m\u001b[0;34m\u001b[0m\u001b[0m\n\u001b[1;32m    909\u001b[0m                     \u001b[0;32mpass\u001b[0m\u001b[0;34m\u001b[0m\u001b[0;34m\u001b[0m\u001b[0m\n\u001b[0;32m--> 910\u001b[0;31m         \u001b[0;32mreturn\u001b[0m \u001b[0mcomplexjson\u001b[0m\u001b[0;34m.\u001b[0m\u001b[0mloads\u001b[0m\u001b[0;34m(\u001b[0m\u001b[0mself\u001b[0m\u001b[0;34m.\u001b[0m\u001b[0mtext\u001b[0m\u001b[0;34m,\u001b[0m \u001b[0;34m**\u001b[0m\u001b[0mkwargs\u001b[0m\u001b[0;34m)\u001b[0m\u001b[0;34m\u001b[0m\u001b[0;34m\u001b[0m\u001b[0m\n\u001b[0m\u001b[1;32m    911\u001b[0m \u001b[0;34m\u001b[0m\u001b[0m\n\u001b[1;32m    912\u001b[0m     \u001b[0;34m@\u001b[0m\u001b[0mproperty\u001b[0m\u001b[0;34m\u001b[0m\u001b[0;34m\u001b[0m\u001b[0m\n",
      "\u001b[0;32m~/anaconda3/envs/dst/lib/python3.9/json/__init__.py\u001b[0m in \u001b[0;36mloads\u001b[0;34m(s, cls, object_hook, parse_float, parse_int, parse_constant, object_pairs_hook, **kw)\u001b[0m\n\u001b[1;32m    344\u001b[0m             \u001b[0mparse_int\u001b[0m \u001b[0;32mis\u001b[0m \u001b[0;32mNone\u001b[0m \u001b[0;32mand\u001b[0m \u001b[0mparse_float\u001b[0m \u001b[0;32mis\u001b[0m \u001b[0;32mNone\u001b[0m \u001b[0;32mand\u001b[0m\u001b[0;34m\u001b[0m\u001b[0;34m\u001b[0m\u001b[0m\n\u001b[1;32m    345\u001b[0m             parse_constant is None and object_pairs_hook is None and not kw):\n\u001b[0;32m--> 346\u001b[0;31m         \u001b[0;32mreturn\u001b[0m \u001b[0m_default_decoder\u001b[0m\u001b[0;34m.\u001b[0m\u001b[0mdecode\u001b[0m\u001b[0;34m(\u001b[0m\u001b[0ms\u001b[0m\u001b[0;34m)\u001b[0m\u001b[0;34m\u001b[0m\u001b[0;34m\u001b[0m\u001b[0m\n\u001b[0m\u001b[1;32m    347\u001b[0m     \u001b[0;32mif\u001b[0m \u001b[0mcls\u001b[0m \u001b[0;32mis\u001b[0m \u001b[0;32mNone\u001b[0m\u001b[0;34m:\u001b[0m\u001b[0;34m\u001b[0m\u001b[0;34m\u001b[0m\u001b[0m\n\u001b[1;32m    348\u001b[0m         \u001b[0mcls\u001b[0m \u001b[0;34m=\u001b[0m \u001b[0mJSONDecoder\u001b[0m\u001b[0;34m\u001b[0m\u001b[0;34m\u001b[0m\u001b[0m\n",
      "\u001b[0;32m~/anaconda3/envs/dst/lib/python3.9/json/decoder.py\u001b[0m in \u001b[0;36mdecode\u001b[0;34m(self, s, _w)\u001b[0m\n\u001b[1;32m    335\u001b[0m \u001b[0;34m\u001b[0m\u001b[0m\n\u001b[1;32m    336\u001b[0m         \"\"\"\n\u001b[0;32m--> 337\u001b[0;31m         \u001b[0mobj\u001b[0m\u001b[0;34m,\u001b[0m \u001b[0mend\u001b[0m \u001b[0;34m=\u001b[0m \u001b[0mself\u001b[0m\u001b[0;34m.\u001b[0m\u001b[0mraw_decode\u001b[0m\u001b[0;34m(\u001b[0m\u001b[0ms\u001b[0m\u001b[0;34m,\u001b[0m \u001b[0midx\u001b[0m\u001b[0;34m=\u001b[0m\u001b[0m_w\u001b[0m\u001b[0;34m(\u001b[0m\u001b[0ms\u001b[0m\u001b[0;34m,\u001b[0m \u001b[0;36m0\u001b[0m\u001b[0;34m)\u001b[0m\u001b[0;34m.\u001b[0m\u001b[0mend\u001b[0m\u001b[0;34m(\u001b[0m\u001b[0;34m)\u001b[0m\u001b[0;34m)\u001b[0m\u001b[0;34m\u001b[0m\u001b[0;34m\u001b[0m\u001b[0m\n\u001b[0m\u001b[1;32m    338\u001b[0m         \u001b[0mend\u001b[0m \u001b[0;34m=\u001b[0m \u001b[0m_w\u001b[0m\u001b[0;34m(\u001b[0m\u001b[0ms\u001b[0m\u001b[0;34m,\u001b[0m \u001b[0mend\u001b[0m\u001b[0;34m)\u001b[0m\u001b[0;34m.\u001b[0m\u001b[0mend\u001b[0m\u001b[0;34m(\u001b[0m\u001b[0;34m)\u001b[0m\u001b[0;34m\u001b[0m\u001b[0;34m\u001b[0m\u001b[0m\n\u001b[1;32m    339\u001b[0m         \u001b[0;32mif\u001b[0m \u001b[0mend\u001b[0m \u001b[0;34m!=\u001b[0m \u001b[0mlen\u001b[0m\u001b[0;34m(\u001b[0m\u001b[0ms\u001b[0m\u001b[0;34m)\u001b[0m\u001b[0;34m:\u001b[0m\u001b[0;34m\u001b[0m\u001b[0;34m\u001b[0m\u001b[0m\n",
      "\u001b[0;32m~/anaconda3/envs/dst/lib/python3.9/json/decoder.py\u001b[0m in \u001b[0;36mraw_decode\u001b[0;34m(self, s, idx)\u001b[0m\n\u001b[1;32m    353\u001b[0m             \u001b[0mobj\u001b[0m\u001b[0;34m,\u001b[0m \u001b[0mend\u001b[0m \u001b[0;34m=\u001b[0m \u001b[0mself\u001b[0m\u001b[0;34m.\u001b[0m\u001b[0mscan_once\u001b[0m\u001b[0;34m(\u001b[0m\u001b[0ms\u001b[0m\u001b[0;34m,\u001b[0m \u001b[0midx\u001b[0m\u001b[0;34m)\u001b[0m\u001b[0;34m\u001b[0m\u001b[0;34m\u001b[0m\u001b[0m\n\u001b[1;32m    354\u001b[0m         \u001b[0;32mexcept\u001b[0m \u001b[0mStopIteration\u001b[0m \u001b[0;32mas\u001b[0m \u001b[0merr\u001b[0m\u001b[0;34m:\u001b[0m\u001b[0;34m\u001b[0m\u001b[0;34m\u001b[0m\u001b[0m\n\u001b[0;32m--> 355\u001b[0;31m             \u001b[0;32mraise\u001b[0m \u001b[0mJSONDecodeError\u001b[0m\u001b[0;34m(\u001b[0m\u001b[0;34m\"Expecting value\"\u001b[0m\u001b[0;34m,\u001b[0m \u001b[0ms\u001b[0m\u001b[0;34m,\u001b[0m \u001b[0merr\u001b[0m\u001b[0;34m.\u001b[0m\u001b[0mvalue\u001b[0m\u001b[0;34m)\u001b[0m \u001b[0;32mfrom\u001b[0m \u001b[0;32mNone\u001b[0m\u001b[0;34m\u001b[0m\u001b[0;34m\u001b[0m\u001b[0m\n\u001b[0m\u001b[1;32m    356\u001b[0m         \u001b[0;32mreturn\u001b[0m \u001b[0mobj\u001b[0m\u001b[0;34m,\u001b[0m \u001b[0mend\u001b[0m\u001b[0;34m\u001b[0m\u001b[0;34m\u001b[0m\u001b[0m\n",
      "\u001b[0;31mJSONDecodeError\u001b[0m: Expecting value: line 1 column 1 (char 0)"
     ]
    }
   ],
   "source": [
    "\n",
    "\n",
    "def get_frames(cik: str, headers) -> dict:\n",
    "    assert len(cik) == 10\n",
    "    resp = requests.get(\n",
    "        url_frames + \"CIK\" + cik + \".json\", headers=headers, timeout=10\n",
    "    )\n",
    "    resp_json = None\n",
    "    if resp.status_code < 400:\n",
    "        resp_json = resp.json()\n",
    "    return resp_json\n",
    "\n",
    "get_frames(apple_cik, headers)"
   ]
  },
  {
   "cell_type": "code",
   "execution_count": 71,
   "id": "ffb6658d-e6df-4f63-aec7-b288529892ad",
   "metadata": {},
   "outputs": [
    {
     "name": "stdout",
     "output_type": "stream",
     "text": [
      "https://data.sec.gov/api/xbrl/frames/\n",
      "b'<?xml version=\"1.0\" encoding=\"UTF-8\"?>\\n<Error><Code>NoSuchKey</Code><Message>The specified key does not exist.</Message><Key>api/xbrl/frames/CIK0000320193.json</Key><RequestId>QJTNWG8XZ8CVFSQF</RequestId><HostId>sHtONm0Td298pVwuXQF1c3NX52lAN2inMIf/OGMNi6ZuamrhGO5BSaId3p0DY9Pzi/rH01s3+Es=</HostId></Error>'\n"
     ]
    },
    {
     "data": {
      "text/plain": [
       "bytes"
      ]
     },
     "execution_count": 71,
     "metadata": {},
     "output_type": "execute_result"
    }
   ],
   "source": [
    "print(url_frames)\n",
    "resp = requests.get(\n",
    "    url_frames + \"CIK\" + apple_cik + \".json\", headers=headers, timeout=10\n",
    ")\n",
    "type(resp)\n",
    "print(resp.content)\n",
    "type(resp.content)\n",
    "# resp_json = json.load(resp.content)"
   ]
  },
  {
   "cell_type": "code",
   "execution_count": null,
   "id": "edcbc502-aff5-48e5-b11d-6543fdba6c7e",
   "metadata": {},
   "outputs": [],
   "source": [
    "# resp_json = get_frames(apple_cik, headers)\n",
    "resp_json = get_frames(apple_cik, headers)\n",
    "resp_json.keys()"
   ]
  },
  {
   "cell_type": "markdown",
   "id": "67999bba-027a-40f6-b6c8-5495b56c3baa",
   "metadata": {},
   "source": [
    "## get submissions"
   ]
  },
  {
   "cell_type": "code",
   "execution_count": 72,
   "id": "f9341bd8-e98a-4adc-ac92-d313f02a50fb",
   "metadata": {},
   "outputs": [],
   "source": [
    "def get_submissions(cik: str, headers) -> dict:\n",
    "    assert len(cik) == 10\n",
    "    resp = requests.get(\n",
    "        url_submissions + \"CIK\" + cik + \".json\", headers=headers, timeout=10\n",
    "    )\n",
    "    resp_json = None\n",
    "    if resp.status_code < 400:\n",
    "        resp_json = resp.json()\n",
    "    return resp_json"
   ]
  },
  {
   "cell_type": "code",
   "execution_count": 73,
   "id": "e4a271b9-c8e6-4475-8a83-de409c490a91",
   "metadata": {},
   "outputs": [],
   "source": [
    "resp = get_submissions(apple_cik, headers)"
   ]
  },
  {
   "cell_type": "code",
   "execution_count": null,
   "id": "1d9f917e-eb8c-4586-9d9f-8260528f270f",
   "metadata": {},
   "outputs": [],
   "source": []
  }
 ],
 "metadata": {
  "kernelspec": {
   "display_name": "dst",
   "language": "python",
   "name": "dst"
  },
  "language_info": {
   "codemirror_mode": {
    "name": "ipython",
    "version": 3
   },
   "file_extension": ".py",
   "mimetype": "text/x-python",
   "name": "python",
   "nbconvert_exporter": "python",
   "pygments_lexer": "ipython3",
   "version": "3.9.6"
  }
 },
 "nbformat": 4,
 "nbformat_minor": 5
}
