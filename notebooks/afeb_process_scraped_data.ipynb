{
 "cells": [
  {
   "cell_type": "code",
   "execution_count": 1,
   "id": "3a311aff-b963-4344-82c0-67d2781c0895",
   "metadata": {},
   "outputs": [],
   "source": [
    "%load_ext lab_black"
   ]
  },
  {
   "cell_type": "code",
   "execution_count": 2,
   "id": "0be36a88-c7aa-48dd-856e-b7265eafe020",
   "metadata": {},
   "outputs": [],
   "source": [
    "import pickle\n",
    "import pandas as pd\n",
    "from collections import defaultdict\n",
    "import re\n",
    "import numpy as np\n",
    "import os\n",
    "import matplotlib.pyplot as plt\n",
    "import datetime"
   ]
  },
  {
   "cell_type": "code",
   "execution_count": 4,
   "id": "1de6702b-b4fc-40a5-b75a-e90bc6d311d4",
   "metadata": {},
   "outputs": [],
   "source": [
    "files = [\n",
    "    \"scraped_financials2.csv\",\n",
    "    \"scraped_financials.csv\",\n",
    "    \"scraped_financials31.csv\",\n",
    "    \"scraped_financials32.csv\",\n",
    "    \"scraped_financials33.csv\",\n",
    "    \"scraped_financials34.csv\",\n",
    "    \"scraped_financials1631271189650785000.csv\",\n",
    "]\n",
    "\n",
    "dfs = [\n",
    "    pd.read_csv(os.path.join(\"../data/intermediate\", file), index_col=0)\n",
    "    for file in files\n",
    "]\n",
    "\n",
    "companies = pd.concat(dfs).reset_index(drop=True)"
   ]
  },
  {
   "cell_type": "code",
   "execution_count": 5,
   "id": "dfa74637-77e2-403c-b755-0b75569a0bfa",
   "metadata": {},
   "outputs": [
    {
     "name": "stdout",
     "output_type": "stream",
     "text": [
      "<class 'pandas.core.frame.DataFrame'>\n",
      "RangeIndex: 7391 entries, 0 to 7390\n",
      "Data columns (total 5 columns):\n",
      " #   Column                     Non-Null Count  Dtype  \n",
      "---  ------                     --------------  -----  \n",
      " 0   total_current_assets       3411 non-null   float64\n",
      " 1   total_current_liabilities  3362 non-null   float64\n",
      " 2   CIK                        7391 non-null   int64  \n",
      " 3   date_filled                7391 non-null   object \n",
      " 4   url                        7391 non-null   object \n",
      "dtypes: float64(2), int64(1), object(2)\n",
      "memory usage: 288.8+ KB\n"
     ]
    }
   ],
   "source": [
    "companies.info()"
   ]
  },
  {
   "cell_type": "code",
   "execution_count": 6,
   "id": "373209cf-158d-4d76-af3c-6d494101b2f8",
   "metadata": {},
   "outputs": [
    {
     "data": {
      "text/html": [
       "<div>\n",
       "<style scoped>\n",
       "    .dataframe tbody tr th:only-of-type {\n",
       "        vertical-align: middle;\n",
       "    }\n",
       "\n",
       "    .dataframe tbody tr th {\n",
       "        vertical-align: top;\n",
       "    }\n",
       "\n",
       "    .dataframe thead th {\n",
       "        text-align: right;\n",
       "    }\n",
       "</style>\n",
       "<table border=\"1\" class=\"dataframe\">\n",
       "  <thead>\n",
       "    <tr style=\"text-align: right;\">\n",
       "      <th></th>\n",
       "      <th>total_current_assets</th>\n",
       "      <th>total_current_liabilities</th>\n",
       "      <th>CIK</th>\n",
       "      <th>date_filled</th>\n",
       "      <th>url</th>\n",
       "    </tr>\n",
       "  </thead>\n",
       "  <tbody>\n",
       "    <tr>\n",
       "      <th>0</th>\n",
       "      <td>486380.0</td>\n",
       "      <td>185896.0</td>\n",
       "      <td>816159</td>\n",
       "      <td>2016-12-31</td>\n",
       "      <td>https://www.sec.gov/Archives/edgar/data/000081...</td>\n",
       "    </tr>\n",
       "    <tr>\n",
       "      <th>1</th>\n",
       "      <td>473359.0</td>\n",
       "      <td>149664.0</td>\n",
       "      <td>816159</td>\n",
       "      <td>2015-12-31</td>\n",
       "      <td>https://www.sec.gov/Archives/edgar/data/000081...</td>\n",
       "    </tr>\n",
       "    <tr>\n",
       "      <th>2</th>\n",
       "      <td>399841.0</td>\n",
       "      <td>180267.0</td>\n",
       "      <td>816159</td>\n",
       "      <td>2014-12-31</td>\n",
       "      <td>https://www.sec.gov/Archives/edgar/data/000081...</td>\n",
       "    </tr>\n",
       "    <tr>\n",
       "      <th>3</th>\n",
       "      <td>340550.0</td>\n",
       "      <td>162318.0</td>\n",
       "      <td>816159</td>\n",
       "      <td>2013-12-31</td>\n",
       "      <td>https://www.sec.gov/Archives/edgar/data/000081...</td>\n",
       "    </tr>\n",
       "    <tr>\n",
       "      <th>4</th>\n",
       "      <td>306805.0</td>\n",
       "      <td>143452.0</td>\n",
       "      <td>816159</td>\n",
       "      <td>2012-12-31</td>\n",
       "      <td>https://www.sec.gov/Archives/edgar/data/000081...</td>\n",
       "    </tr>\n",
       "  </tbody>\n",
       "</table>\n",
       "</div>"
      ],
      "text/plain": [
       "   total_current_assets  total_current_liabilities     CIK date_filled  \\\n",
       "0              486380.0                   185896.0  816159  2016-12-31   \n",
       "1              473359.0                   149664.0  816159  2015-12-31   \n",
       "2              399841.0                   180267.0  816159  2014-12-31   \n",
       "3              340550.0                   162318.0  816159  2013-12-31   \n",
       "4              306805.0                   143452.0  816159  2012-12-31   \n",
       "\n",
       "                                                 url  \n",
       "0  https://www.sec.gov/Archives/edgar/data/000081...  \n",
       "1  https://www.sec.gov/Archives/edgar/data/000081...  \n",
       "2  https://www.sec.gov/Archives/edgar/data/000081...  \n",
       "3  https://www.sec.gov/Archives/edgar/data/000081...  \n",
       "4  https://www.sec.gov/Archives/edgar/data/000081...  "
      ]
     },
     "execution_count": 6,
     "metadata": {},
     "output_type": "execute_result"
    }
   ],
   "source": [
    "companies.head()"
   ]
  },
  {
   "cell_type": "code",
   "execution_count": 7,
   "id": "3fea0949-e308-4c24-8d34-b6daee8659da",
   "metadata": {},
   "outputs": [
    {
     "data": {
      "text/plain": [
       "552"
      ]
     },
     "execution_count": 7,
     "metadata": {},
     "output_type": "execute_result"
    }
   ],
   "source": [
    "len(companies[\"CIK\"].unique())"
   ]
  },
  {
   "cell_type": "code",
   "execution_count": 8,
   "id": "81537214-20fe-4619-a9f4-dc8cd2e85f92",
   "metadata": {},
   "outputs": [
    {
     "name": "stdout",
     "output_type": "stream",
     "text": [
      "(7391, 5)\n"
     ]
    },
    {
     "data": {
      "text/plain": [
       "(6903, 5)"
      ]
     },
     "execution_count": 8,
     "metadata": {},
     "output_type": "execute_result"
    }
   ],
   "source": [
    "# FIXME some companies have duplicate entries for date_filled. Amendments?\n",
    "print(companies.shape)\n",
    "companies.drop_duplicates(subset=[\"CIK\", \"date_filled\"], inplace=True)\n",
    "companies.shape"
   ]
  },
  {
   "cell_type": "code",
   "execution_count": 9,
   "id": "4456428e-dffc-4cc8-a16f-8abf4bb48fa4",
   "metadata": {},
   "outputs": [],
   "source": [
    "companies[\"date_filled\"] = pd.to_datetime(companies[\"date_filled\"])\n",
    "companies[\"CIK\"] = companies[\"CIK\"].astype(\"category\")\n",
    "companies[\"current_ratio\"] = (\n",
    "    companies[\"total_current_assets\"] / companies[\"total_current_liabilities\"]\n",
    ")"
   ]
  },
  {
   "cell_type": "code",
   "execution_count": 10,
   "id": "288da8c8-365a-401e-aeba-223089841b02",
   "metadata": {},
   "outputs": [
    {
     "data": {
      "text/html": [
       "<div>\n",
       "<style scoped>\n",
       "    .dataframe tbody tr th:only-of-type {\n",
       "        vertical-align: middle;\n",
       "    }\n",
       "\n",
       "    .dataframe tbody tr th {\n",
       "        vertical-align: top;\n",
       "    }\n",
       "\n",
       "    .dataframe thead th {\n",
       "        text-align: right;\n",
       "    }\n",
       "</style>\n",
       "<table border=\"1\" class=\"dataframe\">\n",
       "  <thead>\n",
       "    <tr style=\"text-align: right;\">\n",
       "      <th></th>\n",
       "      <th>total_current_assets</th>\n",
       "      <th>total_current_liabilities</th>\n",
       "      <th>url</th>\n",
       "      <th>fiscal_year</th>\n",
       "    </tr>\n",
       "  </thead>\n",
       "  <tbody>\n",
       "    <tr>\n",
       "      <th>0</th>\n",
       "      <td>486380.0</td>\n",
       "      <td>185896.0</td>\n",
       "      <td>https://www.sec.gov/Archives/edgar/data/0000816159/000157104917001894/t1700128_10k.htm</td>\n",
       "      <td>2016</td>\n",
       "    </tr>\n",
       "    <tr>\n",
       "      <th>1</th>\n",
       "      <td>473359.0</td>\n",
       "      <td>149664.0</td>\n",
       "      <td>https://www.sec.gov/Archives/edgar/data/0000816159/000157104916012144/t1600089_10k.htm</td>\n",
       "      <td>2015</td>\n",
       "    </tr>\n",
       "    <tr>\n",
       "      <th>2</th>\n",
       "      <td>399841.0</td>\n",
       "      <td>180267.0</td>\n",
       "      <td>https://www.sec.gov/Archives/edgar/data/0000816159/000157104915001464/t81389_10k.htm</td>\n",
       "      <td>2014</td>\n",
       "    </tr>\n",
       "    <tr>\n",
       "      <th>3</th>\n",
       "      <td>340550.0</td>\n",
       "      <td>162318.0</td>\n",
       "      <td>https://www.sec.gov/Archives/edgar/data/0000816159/000118811214000551/t78398_10k.htm</td>\n",
       "      <td>2013</td>\n",
       "    </tr>\n",
       "    <tr>\n",
       "      <th>4</th>\n",
       "      <td>306805.0</td>\n",
       "      <td>143452.0</td>\n",
       "      <td>https://www.sec.gov/Archives/edgar/data/0000816159/000114036113009925/form10k.htm</td>\n",
       "      <td>2012</td>\n",
       "    </tr>\n",
       "  </tbody>\n",
       "</table>\n",
       "</div>"
      ],
      "text/plain": [
       "   total_current_assets  total_current_liabilities  \\\n",
       "0              486380.0                   185896.0   \n",
       "1              473359.0                   149664.0   \n",
       "2              399841.0                   180267.0   \n",
       "3              340550.0                   162318.0   \n",
       "4              306805.0                   143452.0   \n",
       "\n",
       "                                                                                      url  \\\n",
       "0  https://www.sec.gov/Archives/edgar/data/0000816159/000157104917001894/t1700128_10k.htm   \n",
       "1  https://www.sec.gov/Archives/edgar/data/0000816159/000157104916012144/t1600089_10k.htm   \n",
       "2    https://www.sec.gov/Archives/edgar/data/0000816159/000157104915001464/t81389_10k.htm   \n",
       "3    https://www.sec.gov/Archives/edgar/data/0000816159/000118811214000551/t78398_10k.htm   \n",
       "4       https://www.sec.gov/Archives/edgar/data/0000816159/000114036113009925/form10k.htm   \n",
       "\n",
       "   fiscal_year  \n",
       "0         2016  \n",
       "1         2015  \n",
       "2         2014  \n",
       "3         2013  \n",
       "4         2012  "
      ]
     },
     "execution_count": 10,
     "metadata": {},
     "output_type": "execute_result"
    }
   ],
   "source": [
    "pd.set_option(\"max_colwidth\", 400)\n",
    "\n",
    "\n",
    "def get_fiscal_year(dt):\n",
    "    if dt.month < 6:\n",
    "        return dt.year - 1\n",
    "    else:\n",
    "        return dt.year\n",
    "\n",
    "\n",
    "companies[\"fiscal_year\"] = companies[\"date_filled\"].apply(lambda x: get_fiscal_year(x))\n",
    "companies[\n",
    "    [\"total_current_assets\", \"total_current_liabilities\", \"url\", \"fiscal_year\"]\n",
    "].head()"
   ]
  },
  {
   "cell_type": "code",
   "execution_count": 11,
   "id": "c8be221b-a6de-4348-9d09-a11f0e5a2fe9",
   "metadata": {},
   "outputs": [],
   "source": [
    "# save processed company dataset\n",
    "companies.to_csv(\"../data/processed/scraped_companies_added.csv\")"
   ]
  },
  {
   "cell_type": "code",
   "execution_count": null,
   "id": "6b754ebe-6036-40e3-8867-128dc76907b0",
   "metadata": {},
   "outputs": [],
   "source": []
  }
 ],
 "metadata": {
  "kernelspec": {
   "display_name": "propulsion",
   "language": "python",
   "name": "propulsion"
  },
  "language_info": {
   "codemirror_mode": {
    "name": "ipython",
    "version": 3
   },
   "file_extension": ".py",
   "mimetype": "text/x-python",
   "name": "python",
   "nbconvert_exporter": "python",
   "pygments_lexer": "ipython3",
   "version": "3.9.7"
  }
 },
 "nbformat": 4,
 "nbformat_minor": 5
}
