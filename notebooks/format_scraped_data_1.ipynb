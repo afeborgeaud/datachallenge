{
 "cells": [
  {
   "cell_type": "code",
   "execution_count": 295,
   "id": "4a5e4861-57dd-434a-8ddc-3677c2c417d9",
   "metadata": {},
   "outputs": [],
   "source": [
    "import pickle\n",
    "import pandas as pd\n",
    "from collections import defaultdict\n",
    "import re\n",
    "import numpy as np"
   ]
  },
  {
   "cell_type": "code",
   "execution_count": 294,
   "id": "8d170485-9bec-4d58-a9bb-b10034b0de77",
   "metadata": {},
   "outputs": [
    {
     "name": "stdout",
     "output_type": "stream",
     "text": [
      "-rw-r--r--  1 navy  staff    23K Sep  8 22:54 report_urls1631134491406206000.pickle\n",
      "-rw-r--r--  1 navy  staff    30K Sep  8 22:54 scraped_financials1631134491406206000.csv\n",
      "-rw-r--r--  1 navy  staff    25K Sep  8 22:59 report_urls1631134788788960000.pickle\n",
      "-rw-r--r--  1 navy  staff    33K Sep  8 22:59 scraped_financials1631134788788960000.csv\n",
      "-rw-r--r--  1 navy  staff    28K Sep  8 23:04 report_urls1631135091248067000.pickle\n",
      "-rw-r--r--  1 navy  staff    37K Sep  8 23:04 scraped_financials1631135091248067000.csv\n",
      "-rw-r--r--  1 navy  staff    29K Sep  8 23:09 report_urls1631135362098646000.pickle\n",
      "-rw-r--r--  1 navy  staff    37K Sep  8 23:09 scraped_financials1631135362098646000.csv\n",
      "-rw-r--r--  1 navy  staff    30K Sep  8 23:14 report_urls1631135657289499000.pickle\n",
      "-rw-r--r--  1 navy  staff    40K Sep  8 23:14 scraped_financials1631135657289499000.csv\n"
     ]
    }
   ],
   "source": [
    "!ls -lhrt ../data/intermediate |tail"
   ]
  },
  {
   "cell_type": "code",
   "execution_count": 271,
   "id": "6b4d4809-beb7-4995-9efb-f6ee031a890a",
   "metadata": {},
   "outputs": [],
   "source": [
    "with open('../data/intermediate/df_parsed1631115677836174000.pickle', 'rb') as f:\n",
    "    dfs = pickle.load(f)\n",
    "    \n",
    "with open('../data/intermediate/report_urls1631111629105075000.pickle', 'rb') as f:\n",
    "    urls = pickle.load(f)"
   ]
  },
  {
   "cell_type": "code",
   "execution_count": 272,
   "id": "228a5c3e-b346-41c7-a8a3-7e8ef16bc4de",
   "metadata": {},
   "outputs": [
    {
     "data": {
      "text/plain": [
       "357"
      ]
     },
     "execution_count": 272,
     "metadata": {},
     "output_type": "execute_result"
    }
   ],
   "source": [
    "len(dfs)"
   ]
  },
  {
   "cell_type": "code",
   "execution_count": 273,
   "id": "fa09ad94-1167-47ca-8d1a-34317fbc3fb2",
   "metadata": {},
   "outputs": [
    {
     "data": {
      "text/plain": [
       "357"
      ]
     },
     "execution_count": 273,
     "metadata": {},
     "output_type": "execute_result"
    }
   ],
   "source": [
    "dfs = [df for df in dfs if df is not None]\n",
    "len(dfs)"
   ]
  },
  {
   "cell_type": "code",
   "execution_count": 274,
   "id": "6f0918f3-41dd-4118-a49b-0050489f7c9f",
   "metadata": {},
   "outputs": [],
   "source": [
    "for i, df in enumerate(dfs):\n",
    "    cik = df.loc[0, 'CIK']\n",
    "    dfs[i] = dfs[i].loc[0:0, ~dfs[i].columns.isna()]\n",
    "    dfs[i] = dfs[i].loc[:, ~dfs[i].columns.duplicated()]\n",
    "#     dfs[i].dropna(axis=1, inplace=True)"
   ]
  },
  {
   "cell_type": "code",
   "execution_count": 275,
   "id": "f72034d1-7fde-4c5c-a994-10d5dec8883f",
   "metadata": {},
   "outputs": [
    {
     "data": {
      "text/html": [
       "<div>\n",
       "<style scoped>\n",
       "    .dataframe tbody tr th:only-of-type {\n",
       "        vertical-align: middle;\n",
       "    }\n",
       "\n",
       "    .dataframe tbody tr th {\n",
       "        vertical-align: top;\n",
       "    }\n",
       "\n",
       "    .dataframe thead th {\n",
       "        text-align: right;\n",
       "    }\n",
       "</style>\n",
       "<table border=\"1\" class=\"dataframe\">\n",
       "  <thead>\n",
       "    <tr style=\"text-align: right;\">\n",
       "      <th></th>\n",
       "      <th>ASSETS</th>\n",
       "      <th>Current assets:</th>\n",
       "      <th>Cash and equivalents</th>\n",
       "      <th>Short-term investments</th>\n",
       "      <th>Notes receivable</th>\n",
       "      <th>Accounts receivable, less allowance for doubtful accounts of  $9,645 and $12,253, respectively</th>\n",
       "      <th>Inventories</th>\n",
       "      <th>Other current assets</th>\n",
       "      <th>Total current assets</th>\n",
       "      <th>Property and equipment, less accumulated depreciation and  amortization of $172,717 and $205,835, respectively</th>\n",
       "      <th>...</th>\n",
       "      <th>Stockholders equity:</th>\n",
       "      <th>Preferred stock, $0.01 par value, 10,000 shares  authorized; none outstanding</th>\n",
       "      <th>Common stock, $0.01 par value, 990,000 shares  authorized; shares issued and outstanding: 389,284 and 405,656,  respectively</th>\n",
       "      <th>Retained deficit</th>\n",
       "      <th>Accumulated other comprehensive income</th>\n",
       "      <th>Total stockholders equity</th>\n",
       "      <th>Total liabilities and stockholders equity</th>\n",
       "      <th>date_filled</th>\n",
       "      <th>CIK</th>\n",
       "      <th>url</th>\n",
       "    </tr>\n",
       "  </thead>\n",
       "  <tbody>\n",
       "    <tr>\n",
       "      <th>0</th>\n",
       "      <td>None</td>\n",
       "      <td>None</td>\n",
       "      <td>545818000.0</td>\n",
       "      <td>98357000.0</td>\n",
       "      <td>40590000.0</td>\n",
       "      <td>112771000.0</td>\n",
       "      <td>90395000.0</td>\n",
       "      <td>56982000.0</td>\n",
       "      <td>944913000.0</td>\n",
       "      <td>40012000.0</td>\n",
       "      <td>...</td>\n",
       "      <td>None</td>\n",
       "      <td>None</td>\n",
       "      <td>2336961000.0</td>\n",
       "      <td>None</td>\n",
       "      <td>65736000.0</td>\n",
       "      <td>1112175000.0</td>\n",
       "      <td>1815357000.0</td>\n",
       "      <td>2009-05-29</td>\n",
       "      <td>738076</td>\n",
       "      <td>https://www.sec.gov/Archives/edgar/data/0000738076/000095012309025431/b76396cce10vk.htm</td>\n",
       "    </tr>\n",
       "  </tbody>\n",
       "</table>\n",
       "<p>1 rows × 32 columns</p>\n",
       "</div>"
      ],
      "text/plain": [
       "  ASSETS Current assets: Cash and equivalents Short-term investments  \\\n",
       "0   None            None          545818000.0             98357000.0   \n",
       "\n",
       "  Notes receivable  \\\n",
       "0       40590000.0   \n",
       "\n",
       "  Accounts receivable, less allowance for doubtful accounts of  $9,645 and $12,253, respectively  \\\n",
       "0                                                                                    112771000.0   \n",
       "\n",
       "  Inventories Other current assets Total current assets  \\\n",
       "0  90395000.0           56982000.0          944913000.0   \n",
       "\n",
       "  Property and equipment, less accumulated depreciation and  amortization of $172,717 and $205,835, respectively  \\\n",
       "0                                                                                                     40012000.0   \n",
       "\n",
       "   ... Stockholders equity:  \\\n",
       "0  ...                  None   \n",
       "\n",
       "  Preferred stock, $0.01 par value, 10,000 shares  authorized; none outstanding  \\\n",
       "0                                                                          None   \n",
       "\n",
       "  Common stock, $0.01 par value, 990,000 shares  authorized; shares issued and outstanding: 389,284 and 405,656,  respectively  \\\n",
       "0                                                                                                                 2336961000.0   \n",
       "\n",
       "  Retained deficit Accumulated other comprehensive income  \\\n",
       "0             None                             65736000.0   \n",
       "\n",
       "  Total stockholders equity Total liabilities and stockholders equity  \\\n",
       "0               1112175000.0                               1815357000.0   \n",
       "\n",
       "  date_filled     CIK  \\\n",
       "0  2009-05-29  738076   \n",
       "\n",
       "                                                                                       url  \n",
       "0  https://www.sec.gov/Archives/edgar/data/0000738076/000095012309025431/b76396cce10vk.htm  \n",
       "\n",
       "[1 rows x 32 columns]"
      ]
     },
     "execution_count": 275,
     "metadata": {},
     "output_type": "execute_result"
    }
   ],
   "source": [
    "dfs[0].head()"
   ]
  },
  {
   "cell_type": "code",
   "execution_count": 276,
   "id": "06084fbb-455b-410c-a818-1307eba303d1",
   "metadata": {},
   "outputs": [],
   "source": [
    "column_sets = []\n",
    "\n",
    "for i, df in enumerate(dfs):\n",
    "    try:\n",
    "        column_sets.append(set(df.columns))\n",
    "    except TypeError:\n",
    "        print(i)"
   ]
  },
  {
   "cell_type": "code",
   "execution_count": 277,
   "id": "083d7d0e-1991-4c44-997b-5429cf6d8ee8",
   "metadata": {},
   "outputs": [
    {
     "data": {
      "text/plain": [
       "{'ASSETS',\n",
       " 'Accounts payable',\n",
       " 'Accounts receivable, less allowance for doubtful accounts of  $9,645 and $12,253, respectively',\n",
       " 'Accrued liabilities and other',\n",
       " 'Accumulated other comprehensive income',\n",
       " 'CIK',\n",
       " 'Cash and equivalents',\n",
       " 'Common stock, $0.01\\xa0par value, 990,000\\xa0shares  authorized; shares issued and outstanding: 389,284 and 405,656,  respectively',\n",
       " 'Current assets:',\n",
       " 'Current liabilities:',\n",
       " 'Current portion of long-term debt',\n",
       " 'Deferred taxes and long-term obligations',\n",
       " 'Deposits and other assets',\n",
       " 'Goodwill',\n",
       " 'Intangible assets, net',\n",
       " 'Inventories',\n",
       " 'LIABILITIES AND STOCKHOLDERS\\x92 EQUITY',\n",
       " 'Long-term debt',\n",
       " 'Notes receivable',\n",
       " 'Other current assets',\n",
       " 'Preferred stock, $0.01\\xa0par value, 10,000\\xa0shares  authorized; none outstanding',\n",
       " 'Property and equipment, less accumulated depreciation and  amortization of $172,717 and $205,835, respectively',\n",
       " 'Retained deficit',\n",
       " 'Short-term investments',\n",
       " 'Stockholders\\x92 equity:',\n",
       " 'Total assets',\n",
       " 'Total current assets',\n",
       " 'Total current liabilities',\n",
       " 'Total liabilities and stockholders\\x92 equity',\n",
       " 'Total stockholders\\x92 equity',\n",
       " 'date_filled',\n",
       " 'url'}"
      ]
     },
     "execution_count": 277,
     "metadata": {},
     "output_type": "execute_result"
    }
   ],
   "source": [
    "column_sets[0]"
   ]
  },
  {
   "cell_type": "code",
   "execution_count": 278,
   "id": "46cc284d-dc45-4c37-b0a1-43625dc9f4b3",
   "metadata": {},
   "outputs": [],
   "source": [
    "renames = {\n",
    "        r'Total stockholders.*equity': 'total_stockholders_equity',\n",
    "        r'Total assets': 'total_assets',\n",
    "        r'Total current assets': 'total_current_assets',\n",
    "        r'Current assets': 'current_assets',\n",
    "        r'Long-term debt': 'long_term_debt',\n",
    "        r'Current liabilities': 'current_liabilities',\n",
    "        r'Total liabilities': 'total_liabilities',\n",
    "        r'Total current liabilities': 'total_current_liabilities',\n",
    "        'Date filled': 'date_filled',\n",
    "        'CIK': 'CIK',\n",
    "        'url': 'url'\n",
    "    }\n",
    "\n",
    "def rename_col(col):\n",
    "    for old_name, new_name in renames.items():\n",
    "        matches = re.findall(old_name, col)\n",
    "        if len(matches) == 1:\n",
    "            return new_name\n",
    "    return col\n",
    "\n",
    "for i, df in enumerate(dfs):\n",
    "    dfs[i].rename(columns=rename_col, inplace=True)"
   ]
  },
  {
   "cell_type": "code",
   "execution_count": 279,
   "id": "b60c507b-3d74-45b3-a80c-ead1b4c4c982",
   "metadata": {},
   "outputs": [
    {
     "name": "stdout",
     "output_type": "stream",
     "text": [
      "ASSETS\n",
      "current_assets\n",
      "Cash and equivalents\n",
      "Short-term investments\n",
      "Notes receivable\n",
      "Accounts receivable, less allowance for doubtful accounts of  $9,645 and $12,253, respectively\n",
      "Inventories\n",
      "Other current assets\n",
      "total_current_assets\n",
      "Property and equipment, less accumulated depreciation and  amortization of $172,717 and $205,835, respectively\n",
      "Goodwill\n",
      "Intangible assets, net\n",
      "Deposits and other assets\n",
      "total_assets\n",
      "LIABILITIES AND STOCKHOLDERS EQUITY\n",
      "current_liabilities\n",
      "Accounts payable\n",
      "Current portion of long-term debt\n",
      "Accrued liabilities and other\n",
      "total_current_liabilities\n",
      "Deferred taxes and long-term obligations\n",
      "long_term_debt\n",
      "Stockholders equity:\n",
      "Preferred stock, $0.01 par value, 10,000 shares  authorized; none outstanding\n",
      "Common stock, $0.01 par value, 990,000 shares  authorized; shares issued and outstanding: 389,284 and 405,656,  respectively\n",
      "Retained deficit\n",
      "Accumulated other comprehensive income\n",
      "total_stockholders_equity\n",
      "total_liabilities\n",
      "date_filled\n",
      "CIK\n",
      "url\n"
     ]
    }
   ],
   "source": [
    "for col in dfs[0].columns:\n",
    "    print(col)"
   ]
  },
  {
   "cell_type": "code",
   "execution_count": 280,
   "id": "85b6bc5a-0ba6-4b15-bcbc-a4603b3c273f",
   "metadata": {},
   "outputs": [],
   "source": [
    "common_data = defaultdict(list)\n",
    "for col in renames.values():\n",
    "    for df in dfs:\n",
    "        try:\n",
    "            value = df.loc[0, col]\n",
    "        except KeyError:\n",
    "            value = None\n",
    "        if (col not in ['date_filled', 'CIK', 'url']) and (type(value) != float):\n",
    "            value = None\n",
    "        common_data[col].append(value)"
   ]
  },
  {
   "cell_type": "code",
   "execution_count": 281,
   "id": "be9422a8-bf6c-47df-aad6-3257be1c00ac",
   "metadata": {},
   "outputs": [
    {
     "name": "stdout",
     "output_type": "stream",
     "text": [
      "total_stockholders_equity 357\n",
      "total_assets 357\n",
      "total_current_assets 357\n",
      "current_assets 357\n",
      "long_term_debt 357\n",
      "current_liabilities 357\n",
      "total_liabilities 357\n",
      "total_current_liabilities 357\n",
      "date_filled 357\n",
      "CIK 357\n",
      "url 357\n"
     ]
    }
   ],
   "source": [
    "for col in renames.values():\n",
    "    print(col, len(common_data[col]))"
   ]
  },
  {
   "cell_type": "code",
   "execution_count": 282,
   "id": "e6715e28-5700-4e73-bea1-ec7c71cbc85a",
   "metadata": {},
   "outputs": [],
   "source": [
    "companies = pd.DataFrame(data=common_data)\n",
    "companies['CIK'] = companies['CIK'].astype('category')"
   ]
  },
  {
   "cell_type": "code",
   "execution_count": 283,
   "id": "fd282733-8fdd-4220-9d26-8f92d8cf5df9",
   "metadata": {},
   "outputs": [
    {
     "name": "stdout",
     "output_type": "stream",
     "text": [
      "<class 'pandas.core.frame.DataFrame'>\n",
      "RangeIndex: 357 entries, 0 to 356\n",
      "Data columns (total 11 columns):\n",
      " #   Column                     Non-Null Count  Dtype         \n",
      "---  ------                     --------------  -----         \n",
      " 0   total_stockholders_equity  111 non-null    float64       \n",
      " 1   total_assets               160 non-null    float64       \n",
      " 2   total_current_assets       166 non-null    float64       \n",
      " 3   current_assets             3 non-null      float64       \n",
      " 4   long_term_debt             64 non-null     float64       \n",
      " 5   current_liabilities        1 non-null      float64       \n",
      " 6   total_liabilities          61 non-null     float64       \n",
      " 7   total_current_liabilities  166 non-null    float64       \n",
      " 8   date_filled                357 non-null    datetime64[ns]\n",
      " 9   CIK                        357 non-null    category      \n",
      " 10  url                        357 non-null    object        \n",
      "dtypes: category(1), datetime64[ns](1), float64(8), object(1)\n",
      "memory usage: 30.9+ KB\n"
     ]
    }
   ],
   "source": [
    "companies.info()"
   ]
  },
  {
   "cell_type": "code",
   "execution_count": 284,
   "id": "e8ddac26-6fd6-436b-a597-b09869fa293e",
   "metadata": {},
   "outputs": [
    {
     "data": {
      "text/html": [
       "<div>\n",
       "<style scoped>\n",
       "    .dataframe tbody tr th:only-of-type {\n",
       "        vertical-align: middle;\n",
       "    }\n",
       "\n",
       "    .dataframe tbody tr th {\n",
       "        vertical-align: top;\n",
       "    }\n",
       "\n",
       "    .dataframe thead th {\n",
       "        text-align: right;\n",
       "    }\n",
       "</style>\n",
       "<table border=\"1\" class=\"dataframe\">\n",
       "  <thead>\n",
       "    <tr style=\"text-align: right;\">\n",
       "      <th></th>\n",
       "      <th>total_current_assets</th>\n",
       "      <th>total_current_liabilities</th>\n",
       "      <th>url</th>\n",
       "      <th>fiscal_year</th>\n",
       "    </tr>\n",
       "  </thead>\n",
       "  <tbody>\n",
       "    <tr>\n",
       "      <th>0</th>\n",
       "      <td>9.449130e+08</td>\n",
       "      <td>510453000.0</td>\n",
       "      <td>https://www.sec.gov/Archives/edgar/data/0000738076/000095012309025431/b76396cce10vk.htm</td>\n",
       "      <td>2008</td>\n",
       "    </tr>\n",
       "    <tr>\n",
       "      <th>1</th>\n",
       "      <td>8.099050e+08</td>\n",
       "      <td>504461000.0</td>\n",
       "      <td>https://www.sec.gov/Archives/edgar/data/0000738076/000095013508005146/b711153ce10vk.htm</td>\n",
       "      <td>2007</td>\n",
       "    </tr>\n",
       "    <tr>\n",
       "      <th>2</th>\n",
       "      <td>8.976820e+08</td>\n",
       "      <td>640068000.0</td>\n",
       "      <td>https://www.sec.gov/Archives/edgar/data/0000738076/000095013507004539/b659553ce10vk.htm</td>\n",
       "      <td>2007</td>\n",
       "    </tr>\n",
       "    <tr>\n",
       "      <th>3</th>\n",
       "      <td>1.249345e+09</td>\n",
       "      <td>471281000.0</td>\n",
       "      <td>https://www.sec.gov/Archives/edgar/data/0000738076/000095013506004986/b61877cce10vk.htm</td>\n",
       "      <td>2006</td>\n",
       "    </tr>\n",
       "    <tr>\n",
       "      <th>4</th>\n",
       "      <td>9.775090e+08</td>\n",
       "      <td>309560000.0</td>\n",
       "      <td>https://www.sec.gov/Archives/edgar/data/0000738076/000073807605000011/edgar.htm</td>\n",
       "      <td>2005</td>\n",
       "    </tr>\n",
       "    <tr>\n",
       "      <th>...</th>\n",
       "      <td>...</td>\n",
       "      <td>...</td>\n",
       "      <td>...</td>\n",
       "      <td>...</td>\n",
       "    </tr>\n",
       "    <tr>\n",
       "      <th>352</th>\n",
       "      <td>NaN</td>\n",
       "      <td>NaN</td>\n",
       "      <td>https://www.sec.gov/Archives/edgar/data/0000921768/000095014408002009/g12314e10vk.htm</td>\n",
       "      <td>2007</td>\n",
       "    </tr>\n",
       "    <tr>\n",
       "      <th>353</th>\n",
       "      <td>NaN</td>\n",
       "      <td>NaN</td>\n",
       "      <td>https://www.sec.gov/Archives/edgar/data/0000921768/000095014407001788/g05652e10vk.htm</td>\n",
       "      <td>2006</td>\n",
       "    </tr>\n",
       "    <tr>\n",
       "      <th>354</th>\n",
       "      <td>NaN</td>\n",
       "      <td>NaN</td>\n",
       "      <td>https://www.sec.gov/Archives/edgar/data/0000921768/000095014406002400/g00205e10vk.htm</td>\n",
       "      <td>2004</td>\n",
       "    </tr>\n",
       "    <tr>\n",
       "      <th>355</th>\n",
       "      <td>NaN</td>\n",
       "      <td>NaN</td>\n",
       "      <td>https://www.sec.gov/Archives/edgar/data/0000921768/000095014405002626/g93817e10vk.htm</td>\n",
       "      <td>2004</td>\n",
       "    </tr>\n",
       "    <tr>\n",
       "      <th>356</th>\n",
       "      <td>NaN</td>\n",
       "      <td>NaN</td>\n",
       "      <td>https://www.sec.gov/Archives/edgar/data/0000921768/000095014404001913/g87532e10vk.htm</td>\n",
       "      <td>2003</td>\n",
       "    </tr>\n",
       "  </tbody>\n",
       "</table>\n",
       "<p>357 rows × 4 columns</p>\n",
       "</div>"
      ],
      "text/plain": [
       "     total_current_assets  total_current_liabilities  \\\n",
       "0            9.449130e+08                510453000.0   \n",
       "1            8.099050e+08                504461000.0   \n",
       "2            8.976820e+08                640068000.0   \n",
       "3            1.249345e+09                471281000.0   \n",
       "4            9.775090e+08                309560000.0   \n",
       "..                    ...                        ...   \n",
       "352                   NaN                        NaN   \n",
       "353                   NaN                        NaN   \n",
       "354                   NaN                        NaN   \n",
       "355                   NaN                        NaN   \n",
       "356                   NaN                        NaN   \n",
       "\n",
       "                                                                                         url  \\\n",
       "0    https://www.sec.gov/Archives/edgar/data/0000738076/000095012309025431/b76396cce10vk.htm   \n",
       "1    https://www.sec.gov/Archives/edgar/data/0000738076/000095013508005146/b711153ce10vk.htm   \n",
       "2    https://www.sec.gov/Archives/edgar/data/0000738076/000095013507004539/b659553ce10vk.htm   \n",
       "3    https://www.sec.gov/Archives/edgar/data/0000738076/000095013506004986/b61877cce10vk.htm   \n",
       "4            https://www.sec.gov/Archives/edgar/data/0000738076/000073807605000011/edgar.htm   \n",
       "..                                                                                       ...   \n",
       "352    https://www.sec.gov/Archives/edgar/data/0000921768/000095014408002009/g12314e10vk.htm   \n",
       "353    https://www.sec.gov/Archives/edgar/data/0000921768/000095014407001788/g05652e10vk.htm   \n",
       "354    https://www.sec.gov/Archives/edgar/data/0000921768/000095014406002400/g00205e10vk.htm   \n",
       "355    https://www.sec.gov/Archives/edgar/data/0000921768/000095014405002626/g93817e10vk.htm   \n",
       "356    https://www.sec.gov/Archives/edgar/data/0000921768/000095014404001913/g87532e10vk.htm   \n",
       "\n",
       "     fiscal_year  \n",
       "0           2008  \n",
       "1           2007  \n",
       "2           2007  \n",
       "3           2006  \n",
       "4           2005  \n",
       "..           ...  \n",
       "352         2007  \n",
       "353         2006  \n",
       "354         2004  \n",
       "355         2004  \n",
       "356         2003  \n",
       "\n",
       "[357 rows x 4 columns]"
      ]
     },
     "execution_count": 284,
     "metadata": {},
     "output_type": "execute_result"
    }
   ],
   "source": [
    "pd.set_option('max_colwidth', 400)\n",
    "\n",
    "def get_fiscal_year(dt):\n",
    "    if dt.month < 6:\n",
    "        return dt.year - 1\n",
    "    else:\n",
    "        return dt.year\n",
    "\n",
    "companies['fiscal_year'] = companies['date_filled'].apply(lambda x: get_fiscal_year(x))\n",
    "companies[['total_current_assets', 'total_current_liabilities', 'url', 'fiscal_year']]"
   ]
  },
  {
   "cell_type": "code",
   "execution_count": 285,
   "id": "ffd8ada7-d4da-4148-b8b2-22ce3b549e6c",
   "metadata": {},
   "outputs": [
    {
     "data": {
      "image/png": "[encoded data removed]",
      "text/plain": [
       "<Figure size 432x288 with 1 Axes>"
      ]
     },
     "metadata": {
      "needs_background": "light"
     },
     "output_type": "display_data"
    }
   ],
   "source": [
    "import seaborn as sns\n",
    "import matplotlib.pyplot as plt\n",
    "\n",
    "fig, ax = plt.subplots()\n",
    "sns.lineplot(data=companies, x='fiscal_year', y='total_current_assets', hue='CIK', ax=ax, legend=False)\n",
    "ax.set(yscale='log')\n",
    "plt.show()"
   ]
  },
  {
   "cell_type": "code",
   "execution_count": 286,
   "id": "f205901c-fe25-4c6c-b143-7567b9da4c97",
   "metadata": {},
   "outputs": [
    {
     "data": {
      "image/png": "[encoded data removed]",
      "text/plain": [
       "<Figure size 432x288 with 1 Axes>"
      ]
     },
     "metadata": {
      "needs_background": "light"
     },
     "output_type": "display_data"
    }
   ],
   "source": [
    "fig, ax = plt.subplots()\n",
    "sns.lineplot(data=companies, x='fiscal_year', y='total_current_liabilities', hue='CIK', ax=ax, legend=False)\n",
    "ax.set(yscale='log')\n",
    "plt.show()"
   ]
  },
  {
   "cell_type": "code",
   "execution_count": 287,
   "id": "ad893097-a600-4c15-9e99-1ee57261edc0",
   "metadata": {},
   "outputs": [],
   "source": [
    "companies['gearing'] = companies['long_term_debt'] / companies['total_stockholders_equity']\n",
    "companies['debt_to_assets'] = companies['long_term_debt'] / companies['total_assets']\n",
    "companies['current_ratio'] = companies['total_current_assets'] / companies['total_current_liabilities']"
   ]
  },
  {
   "cell_type": "code",
   "execution_count": 288,
   "id": "4835690c-92d7-4c9f-acb8-ecefd3a63bf5",
   "metadata": {},
   "outputs": [
    {
     "data": {
      "image/png": "[encoded data removed]",
      "text/plain": [
       "<Figure size 432x288 with 1 Axes>"
      ]
     },
     "metadata": {
      "needs_background": "light"
     },
     "output_type": "display_data"
    }
   ],
   "source": [
    "sns.lineplot(data=companies, x='fiscal_year', y='gearing', hue='CIK', legend=False)\n",
    "plt.show()"
   ]
  },
  {
   "cell_type": "code",
   "execution_count": 289,
   "id": "008cbed5-1075-4011-b466-f2a232f2e0ec",
   "metadata": {},
   "outputs": [
    {
     "data": {
      "image/png": "[encoded data removed]",
      "text/plain": [
       "<Figure size 432x288 with 1 Axes>"
      ]
     },
     "metadata": {
      "needs_background": "light"
     },
     "output_type": "display_data"
    }
   ],
   "source": [
    "sns.lineplot(data=companies, x='fiscal_year', y='current_ratio', hue='CIK', legend=False)\n",
    "plt.show()"
   ]
  },
  {
   "cell_type": "code",
   "execution_count": null,
   "id": "b36758dc-a4ac-45c8-ad04-0a5da6e0d189",
   "metadata": {},
   "outputs": [],
   "source": []
  },
  {
   "cell_type": "code",
   "execution_count": 214,
   "id": "d581f76b-49c6-4c43-ae93-6088de6e6d24",
   "metadata": {},
   "outputs": [
    {
     "data": {
      "text/plain": [
       "313"
      ]
     },
     "execution_count": 214,
     "metadata": {},
     "output_type": "execute_result"
    }
   ],
   "source": [
    "len(urls)"
   ]
  },
  {
   "cell_type": "code",
   "execution_count": null,
   "id": "d4d1abb2-5518-4c71-a7fa-cc8e787588c6",
   "metadata": {},
   "outputs": [],
   "source": []
  }
 ],
 "metadata": {
  "kernelspec": {
   "display_name": "propulsion",
   "language": "python",
   "name": "propulsion"
  },
  "language_info": {
   "codemirror_mode": {
    "name": "ipython",
    "version": 3
   },
   "file_extension": ".py",
   "mimetype": "text/x-python",
   "name": "python",
   "nbconvert_exporter": "python",
   "pygments_lexer": "ipython3",
   "version": "3.9.7"
  }
 },
 "nbformat": 4,
 "nbformat_minor": 5
}
