{
 "cells": [
  {
   "cell_type": "code",
   "execution_count": 7,
   "id": "79b43071-eb97-4337-b32f-064fa1497966",
   "metadata": {},
   "outputs": [],
   "source": [
    "# Read Mevlet data file\n",
    "\n",
    "from zipfile import ZipFile\n",
    "import pandas as pd"
   ]
  },
  {
   "cell_type": "code",
   "execution_count": 38,
   "id": "e4b70629-dcfa-49c0-9ed1-0fefd257915f",
   "metadata": {},
   "outputs": [],
   "source": [
    "with ZipFile('../collection_csv.zip') as myzip:\n",
    "    with myzip.open('collection_csv/us-balance-annual.csv') as f:\n",
    "        df_balance = pd.read_csv(f, sep=';')\n",
    "    with myzip.open('collection_csv/us-income-annual.csv') as f:\n",
    "        df_income = pd.read_csv(f, sep=';')\n",
    "    with myzip.open('collection_csv/us-companies.csv') as f:\n",
    "        df_companies = pd.read_csv(f, sep=';')\n",
    "    with myzip.open('collection_csv/us-cashflow-annual.csv') as f:\n",
    "        df_cashflow = pd.read_csv(f, sep=';')\n",
    "    with myzip.open('collection_csv/industries.csv') as f:\n",
    "        df_industry = pd.read_csv(f, sep=';')\n",
    "    with myzip.open('collection_csv/industries.csv') as f:\n",
    "        df_industry = pd.read_csv(f, sep=';')\n",
    "    with myzip.open('collection_csv/markets.csv') as f:\n",
    "        df_market = pd.read_csv(f, sep=';')"
   ]
  },
  {
   "cell_type": "code",
   "execution_count": 28,
   "id": "de1f0299-8c0d-43f0-8bbe-4feaa1cd42d9",
   "metadata": {},
   "outputs": [
    {
     "data": {
      "text/plain": [
       "Index(['Ticker', 'SimFinId', 'Currency', 'Fiscal Year', 'Fiscal Period',\n",
       "       'Report Date', 'Publish Date', 'Restated Date', 'Shares (Basic)',\n",
       "       'Shares (Diluted)', 'Cash, Cash Equivalents & Short Term Investments',\n",
       "       'Accounts & Notes Receivable', 'Inventories', 'Total Current Assets',\n",
       "       'Property, Plant & Equipment, Net',\n",
       "       'Long Term Investments & Receivables', 'Other Long Term Assets',\n",
       "       'Total Noncurrent Assets', 'Total Assets', 'Payables & Accruals',\n",
       "       'Short Term Debt', 'Total Current Liabilities', 'Long Term Debt',\n",
       "       'Total Noncurrent Liabilities', 'Total Liabilities',\n",
       "       'Share Capital & Additional Paid-In Capital', 'Treasury Stock',\n",
       "       'Retained Earnings', 'Total Equity', 'Total Liabilities & Equity'],\n",
       "      dtype='object')"
      ]
     },
     "execution_count": 28,
     "metadata": {},
     "output_type": "execute_result"
    }
   ],
   "source": [
    "df_balance.columns"
   ]
  },
  {
   "cell_type": "code",
   "execution_count": 29,
   "id": "bdd55ea0-8afd-40fb-9d63-8a638aad4c83",
   "metadata": {},
   "outputs": [
    {
     "data": {
      "text/plain": [
       "Index(['Ticker', 'SimFinId', 'Currency', 'Fiscal Year', 'Fiscal Period',\n",
       "       'Report Date', 'Publish Date', 'Restated Date', 'Shares (Basic)',\n",
       "       'Shares (Diluted)', 'Revenue', 'Cost of Revenue', 'Gross Profit',\n",
       "       'Operating Expenses', 'Selling, General & Administrative',\n",
       "       'Research & Development', 'Depreciation & Amortization',\n",
       "       'Operating Income (Loss)', 'Non-Operating Income (Loss)',\n",
       "       'Interest Expense, Net', 'Pretax Income (Loss), Adj.',\n",
       "       'Abnormal Gains (Losses)', 'Pretax Income (Loss)',\n",
       "       'Income Tax (Expense) Benefit, Net',\n",
       "       'Income (Loss) from Continuing Operations',\n",
       "       'Net Extraordinary Gains (Losses)', 'Net Income',\n",
       "       'Net Income (Common)'],\n",
       "      dtype='object')"
      ]
     },
     "execution_count": 29,
     "metadata": {},
     "output_type": "execute_result"
    }
   ],
   "source": [
    "df_income.columns"
   ]
  },
  {
   "cell_type": "code",
   "execution_count": 32,
   "id": "5cae55c6-7710-476d-a276-056d6df78a33",
   "metadata": {},
   "outputs": [
    {
     "data": {
      "text/html": [
       "<div>\n",
       "<style scoped>\n",
       "    .dataframe tbody tr th:only-of-type {\n",
       "        vertical-align: middle;\n",
       "    }\n",
       "\n",
       "    .dataframe tbody tr th {\n",
       "        vertical-align: top;\n",
       "    }\n",
       "\n",
       "    .dataframe thead th {\n",
       "        text-align: right;\n",
       "    }\n",
       "</style>\n",
       "<table border=\"1\" class=\"dataframe\">\n",
       "  <thead>\n",
       "    <tr style=\"text-align: right;\">\n",
       "      <th></th>\n",
       "      <th>Ticker</th>\n",
       "      <th>SimFinId</th>\n",
       "      <th>Company Name</th>\n",
       "      <th>IndustryId</th>\n",
       "    </tr>\n",
       "  </thead>\n",
       "  <tbody>\n",
       "    <tr>\n",
       "      <th>0</th>\n",
       "      <td>A</td>\n",
       "      <td>45846</td>\n",
       "      <td>AGILENT TECHNOLOGIES INC</td>\n",
       "      <td>106001.0</td>\n",
       "    </tr>\n",
       "    <tr>\n",
       "      <th>1</th>\n",
       "      <td>AA</td>\n",
       "      <td>367153</td>\n",
       "      <td>Alcoa Corp</td>\n",
       "      <td>110004.0</td>\n",
       "    </tr>\n",
       "    <tr>\n",
       "      <th>2</th>\n",
       "      <td>AAC_delist</td>\n",
       "      <td>939324</td>\n",
       "      <td>AAC Holdings, Inc.</td>\n",
       "      <td>106011.0</td>\n",
       "    </tr>\n",
       "    <tr>\n",
       "      <th>3</th>\n",
       "      <td>AAL</td>\n",
       "      <td>68568</td>\n",
       "      <td>American Airlines Group Inc.</td>\n",
       "      <td>100006.0</td>\n",
       "    </tr>\n",
       "    <tr>\n",
       "      <th>4</th>\n",
       "      <td>AAMC</td>\n",
       "      <td>847094</td>\n",
       "      <td>Altisource Asset Management Corp</td>\n",
       "      <td>104001.0</td>\n",
       "    </tr>\n",
       "  </tbody>\n",
       "</table>\n",
       "</div>"
      ],
      "text/plain": [
       "       Ticker  SimFinId                      Company Name  IndustryId\n",
       "0           A     45846          AGILENT TECHNOLOGIES INC    106001.0\n",
       "1          AA    367153                        Alcoa Corp    110004.0\n",
       "2  AAC_delist    939324                AAC Holdings, Inc.    106011.0\n",
       "3         AAL     68568      American Airlines Group Inc.    100006.0\n",
       "4        AAMC    847094  Altisource Asset Management Corp    104001.0"
      ]
     },
     "execution_count": 32,
     "metadata": {},
     "output_type": "execute_result"
    }
   ],
   "source": [
    "df_companies.head()"
   ]
  },
  {
   "cell_type": "code",
   "execution_count": 31,
   "id": "df4a3ac3-929a-4888-a1d2-82e21d2b3f64",
   "metadata": {},
   "outputs": [
    {
     "data": {
      "text/plain": [
       "Index(['Ticker', 'SimFinId', 'Company Name', 'IndustryId'], dtype='object')"
      ]
     },
     "execution_count": 31,
     "metadata": {},
     "output_type": "execute_result"
    }
   ],
   "source": [
    "df_companies.columns"
   ]
  },
  {
   "cell_type": "code",
   "execution_count": 35,
   "id": "3366ac3c-8dd8-41bd-9cf3-eb608a299cd3",
   "metadata": {},
   "outputs": [
    {
     "data": {
      "text/html": [
       "<div>\n",
       "<style scoped>\n",
       "    .dataframe tbody tr th:only-of-type {\n",
       "        vertical-align: middle;\n",
       "    }\n",
       "\n",
       "    .dataframe tbody tr th {\n",
       "        vertical-align: top;\n",
       "    }\n",
       "\n",
       "    .dataframe thead th {\n",
       "        text-align: right;\n",
       "    }\n",
       "</style>\n",
       "<table border=\"1\" class=\"dataframe\">\n",
       "  <thead>\n",
       "    <tr style=\"text-align: right;\">\n",
       "      <th></th>\n",
       "      <th>IndustryId</th>\n",
       "      <th>Sector</th>\n",
       "      <th>Industry</th>\n",
       "    </tr>\n",
       "  </thead>\n",
       "  <tbody>\n",
       "    <tr>\n",
       "      <th>0</th>\n",
       "      <td>100001</td>\n",
       "      <td>Industrials</td>\n",
       "      <td>Industrial Products</td>\n",
       "    </tr>\n",
       "    <tr>\n",
       "      <th>1</th>\n",
       "      <td>100002</td>\n",
       "      <td>Industrials</td>\n",
       "      <td>Business Services</td>\n",
       "    </tr>\n",
       "    <tr>\n",
       "      <th>2</th>\n",
       "      <td>100003</td>\n",
       "      <td>Industrials</td>\n",
       "      <td>Engineering &amp; Construction</td>\n",
       "    </tr>\n",
       "    <tr>\n",
       "      <th>3</th>\n",
       "      <td>100004</td>\n",
       "      <td>Industrials</td>\n",
       "      <td>Waste Management</td>\n",
       "    </tr>\n",
       "    <tr>\n",
       "      <th>4</th>\n",
       "      <td>100005</td>\n",
       "      <td>Industrials</td>\n",
       "      <td>Industrial Distribution</td>\n",
       "    </tr>\n",
       "  </tbody>\n",
       "</table>\n",
       "</div>"
      ],
      "text/plain": [
       "   IndustryId       Sector                    Industry\n",
       "0      100001  Industrials         Industrial Products\n",
       "1      100002  Industrials           Business Services\n",
       "2      100003  Industrials  Engineering & Construction\n",
       "3      100004  Industrials            Waste Management\n",
       "4      100005  Industrials     Industrial Distribution"
      ]
     },
     "execution_count": 35,
     "metadata": {},
     "output_type": "execute_result"
    }
   ],
   "source": [
    "df_industry.head()"
   ]
  },
  {
   "cell_type": "code",
   "execution_count": null,
   "id": "dad2a9eb-ebee-4f01-b937-d604ab8ee010",
   "metadata": {},
   "outputs": [],
   "source": []
  }
 ],
 "metadata": {
  "kernelspec": {
   "display_name": "propulsion",
   "language": "python",
   "name": "propulsion"
  },
  "language_info": {
   "codemirror_mode": {
    "name": "ipython",
    "version": 3
   },
   "file_extension": ".py",
   "mimetype": "text/x-python",
   "name": "python",
   "nbconvert_exporter": "python",
   "pygments_lexer": "ipython3",
   "version": "3.9.5"
  }
 },
 "nbformat": 4,
 "nbformat_minor": 5
}
