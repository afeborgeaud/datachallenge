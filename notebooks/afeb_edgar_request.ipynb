{
 "cells": [
  {
   "cell_type": "code",
   "execution_count": 2,
   "id": "89000de3-5891-4381-b02f-de87a9423f77",
   "metadata": {},
   "outputs": [],
   "source": [
    "%load_ext lab_black"
   ]
  },
  {
   "cell_type": "code",
   "execution_count": 21,
   "id": "76e4cc79-ad64-434d-9b25-4d77941501ac",
   "metadata": {},
   "outputs": [],
   "source": [
    "import requests\n",
    "import pandas as pd\n",
    "from pandas import json_normalize\n",
    "import json\n",
    "import matplotlib.pyplot as plt\n",
    "from bs4 import BeautifulSoup\n",
    "import io"
   ]
  },
  {
   "cell_type": "code",
   "execution_count": 5,
   "id": "276c461c-593e-43e7-ab07-259d12c45860",
   "metadata": {},
   "outputs": [],
   "source": [
    "# Request data from the Edgar database\n",
    "\n",
    "# SEC Edgar database API\n",
    "# https://www.sec.gov/edgar/sec-api-documentation"
   ]
  },
  {
   "cell_type": "code",
   "execution_count": 6,
   "id": "26030b3f-84f0-4aae-8960-b89fe9dd195e",
   "metadata": {},
   "outputs": [],
   "source": [
    "def get_facts(cik: str, user_agent: str) -> dict:\n",
    "    \"\"\"A few quarters of financial reports.\"\"\"\n",
    "    assert len(cik) == 10\n",
    "    url_facts = \"https://data.sec.gov/api/xbrl/companyfacts/\"\n",
    "    headers = {\"User-Agent\": user_agent}\n",
    "    resp = requests.get(\n",
    "        url_facts + \"CIK\" + apple_cik + \".json\", headers=headers, timeout=5\n",
    "    )\n",
    "    resp_json = None\n",
    "    if resp.status_code < 400:\n",
    "        resp_json = resp.json()\n",
    "    return resp_json\n",
    "\n",
    "\n",
    "def get_submissions(cik: str, user_agent: str) -> dict:\n",
    "    \"\"\"History of submissions of financial report fillings.\"\"\"\n",
    "    assert len(cik) == 10\n",
    "    url_submissions = \"https://data.sec.gov/submissions/\"\n",
    "    headers = {\"User-Agent\": user_agent}\n",
    "    resp = requests.get(\n",
    "        url_submissions + \"CIK\" + apple_cik + \".json\", headers=headers, timeout=5\n",
    "    )\n",
    "    resp_json = None\n",
    "    if resp.status_code < 400:\n",
    "        resp_json = resp.json()\n",
    "    return resp_json\n",
    "\n",
    "\n",
    "def get_concepts(cik: str, entry: str, user_agent: str, taxonomy=\"us-gaap\") -> dict:\n",
    "    \"\"\"hisotry of values for a specific financial report entry (e.g. Revenues)\n",
    "    for a specific company.\n",
    "    \"\"\"\n",
    "    assert len(cik) == 10\n",
    "    url_concepts = \"https://data.sec.gov/api/xbrl/companyconcepts/\"\n",
    "    headers = {\"User-Agent\": user_agent}\n",
    "    resp = requests.get(\n",
    "        url_concepts + \"CIK\" + cik + \"/\" + taxonomy + \"/\" + entry + \".json\",\n",
    "        headers=headers,\n",
    "        timeout=5,\n",
    "    )\n",
    "\n",
    "\n",
    "def get_frames(\n",
    "    cik: str,\n",
    "    entry: str,\n",
    "    period: str,\n",
    "    currency: str,\n",
    "    user_agent: str,\n",
    "    taxonomy=\"us-gaap\",\n",
    ") -> dict:\n",
    "    \"\"\"\"\"\"\n",
    "    assert len(cik) == 10\n",
    "    url_frames = \"https://data.sec.gov/api/xbrl/frames\"\n",
    "    headers = {\"User-Agent\": user_agent}\n",
    "    resp = requests.get(\n",
    "        f\"{url_frames}/CIK{cik}/{taxonomy}/{entry}/{currency}/CY{period}.json\",\n",
    "        headers=headers,\n",
    "        timeout=5,\n",
    "    )"
   ]
  },
  {
   "cell_type": "code",
   "execution_count": 9,
   "id": "13fdd078-65a9-43f0-a554-47851cd9e5c9",
   "metadata": {},
   "outputs": [],
   "source": [
    "apple_cik = \"0000320193\"\n",
    "user_agent = \"Anselme F.E. Borgeaud (aborgeaud@gmail.com)\""
   ]
  },
  {
   "cell_type": "code",
   "execution_count": 14,
   "id": "608b9f8d-02d7-461a-8a82-e8d9e3067334",
   "metadata": {},
   "outputs": [],
   "source": [
    "subm_json = get_submissions(apple_cik, user_agent)"
   ]
  },
  {
   "cell_type": "code",
   "execution_count": 15,
   "id": "d0358c74-1543-4463-8c34-3c35d9553474",
   "metadata": {},
   "outputs": [
    {
     "data": {
      "text/plain": [
       "dict_keys(['cik', 'entityType', 'sic', 'sicDescription', 'insiderTransactionForOwnerExists', 'insiderTransactionForIssuerExists', 'name', 'tickers', 'exchanges', 'ein', 'description', 'website', 'investorWebsite', 'category', 'fiscalYearEnd', 'stateOfIncorporation', 'stateOfIncorporationDescription', 'addresses', 'phone', 'flags', 'formerNames', 'filings'])"
      ]
     },
     "execution_count": 15,
     "metadata": {},
     "output_type": "execute_result"
    }
   ],
   "source": [
    "subm_json.keys()"
   ]
  },
  {
   "cell_type": "code",
   "execution_count": null,
   "id": "ecf2137f-ad99-4b5d-96ad-8c78abb97f5e",
   "metadata": {},
   "outputs": [],
   "source": []
  },
  {
   "cell_type": "code",
   "execution_count": null,
   "id": "096ee0ee-a6d0-4d9c-aeab-9c2624ca9da8",
   "metadata": {},
   "outputs": [],
   "source": []
  },
  {
   "cell_type": "code",
   "execution_count": 16,
   "id": "23a8a08e-dae4-407d-865e-f19783fc8716",
   "metadata": {},
   "outputs": [
    {
     "data": {
      "text/plain": [
       "[{'name': 'APPLE INC',\n",
       "  'from': '2007-01-10T00:00:00.000Z',\n",
       "  'to': '2019-08-05T00:00:00.000Z'},\n",
       " {'name': 'APPLE COMPUTER INC',\n",
       "  'from': '1994-01-26T00:00:00.000Z',\n",
       "  'to': '2007-01-04T00:00:00.000Z'},\n",
       " {'name': 'APPLE COMPUTER INC/ FA',\n",
       "  'from': '1997-07-28T00:00:00.000Z',\n",
       "  'to': '1997-07-28T00:00:00.000Z'}]"
      ]
     },
     "execution_count": 16,
     "metadata": {},
     "output_type": "execute_result"
    }
   ],
   "source": [
    "subm_json[\"formerNames\"]"
   ]
  },
  {
   "cell_type": "code",
   "execution_count": 20,
   "id": "b6891906-e7b8-45a8-bbd6-2f8cfc269bf4",
   "metadata": {},
   "outputs": [
    {
     "data": {
      "text/plain": [
       "'!J INC:0001438823:\\n#1 A LIFESAFER HOLDINGS, INC.:0001509607:\\n#1 ARIZONA DISCOUNT PROPERTIES LLC:0001'"
      ]
     },
     "execution_count": 20,
     "metadata": {},
     "output_type": "execute_result"
    }
   ],
   "source": [
    "# current list of all CIKs matched with entity name\n",
    "\n",
    "resp = requests.get(\n",
    "    \"https://www.sec.gov/Archives/edgar/cik-lookup-data.txt\",\n",
    "    headers={\"User-Agent\": user_agent},\n",
    ")\n",
    "# all_current_ciks\n",
    "resp_str = resp.content.decode(\"Latin-1\")"
   ]
  },
  {
   "cell_type": "code",
   "execution_count": 45,
   "id": "930fe21b-62d7-426d-8f60-8c6697c92229",
   "metadata": {},
   "outputs": [
    {
     "data": {
      "text/plain": [
       "[['11', '11 CAPITAL CORP.', '0001463262'],\n",
       " ['29', '11 PLAN LLC', '0001738803'],\n",
       " ['2I CAPITAL PCC', ' STRATEGIC FUND I', '0001508295'],\n",
       " ['3', '10 CAPITAL WPF II, LLC', '0001728252'],\n",
       " ['3', '10 CAPITAL WPF III, LLC', '0001734857'],\n",
       " ['3', '10 CAPITAL WPF IV, LLC', '0001758234'],\n",
       " ['3', '10 CAPITAL WPF V, LLC', '0001776300'],\n",
       " ['5', '01 ACQUISITION CORP.', '0001823465'],\n",
       " ['5', '01 ACQUISITION LLC', '0001826636'],\n",
       " ['5', '15 FUND, LTD.', '0001464817']]"
      ]
     },
     "execution_count": 45,
     "metadata": {},
     "output_type": "execute_result"
    }
   ],
   "source": [
    "lst = resp_str.split(\"\\n\")\n",
    "lst2 = []\n",
    "for i in range(len(lst)):\n",
    "    lst2.append(lst[i].split(\":\")[:-1])\n",
    "\n",
    "max_len = max([len(e) for e in lst2])\n",
    "\n",
    "[e for e in lst2 if len(e) == 3][:10]"
   ]
  },
  {
   "cell_type": "code",
   "execution_count": 46,
   "id": "f23a2c2e-bc08-41ba-9fa0-4938b9089d13",
   "metadata": {},
   "outputs": [
    {
     "data": {
      "text/plain": [
       "['3:10 CAPITAL WPF II, LLC:0001728252:',\n",
       " '3:10 CAPITAL WPF III, LLC:0001734857:',\n",
       " '3:10 CAPITAL WPF IV, LLC:0001758234:',\n",
       " '3:10 CAPITAL WPF V, LLC:0001776300:']"
      ]
     },
     "execution_count": 46,
     "metadata": {},
     "output_type": "execute_result"
    }
   ],
   "source": [
    "[line for line in lst if \"10 CAPITAL WPF\" in line]"
   ]
  },
  {
   "cell_type": "code",
   "execution_count": null,
   "id": "57aa7b63-6c17-4543-8d43-928f4cc58848",
   "metadata": {},
   "outputs": [],
   "source": []
  },
  {
   "cell_type": "code",
   "execution_count": null,
   "id": "9f3a12a7-7ebe-48cc-9353-e2f57e909919",
   "metadata": {},
   "outputs": [],
   "source": []
  },
  {
   "cell_type": "code",
   "execution_count": null,
   "id": "055e1403-2211-4a65-9c7d-ece439524a63",
   "metadata": {},
   "outputs": [],
   "source": []
  },
  {
   "cell_type": "code",
   "execution_count": null,
   "id": "5ea7e9d8-9803-47e5-a9c0-c1a18259b28f",
   "metadata": {},
   "outputs": [],
   "source": []
  },
  {
   "cell_type": "code",
   "execution_count": 22,
   "id": "4284ea97-1164-4a55-b0d5-4fd993f8c6f3",
   "metadata": {},
   "outputs": [
    {
     "ename": "ParserError",
     "evalue": "Error tokenizing data. C error: Expected 3 fields in line 760, saw 4\n",
     "output_type": "error",
     "traceback": [
      "\u001b[0;31m---------------------------------------------------------------------------\u001b[0m",
      "\u001b[0;31mParserError\u001b[0m                               Traceback (most recent call last)",
      "\u001b[0;32m/var/folders/57/h9v24nzx4pj9gx46p1yhvwxm0000gn/T/ipykernel_51599/2766199881.py\u001b[0m in \u001b[0;36m<module>\u001b[0;34m\u001b[0m\n\u001b[1;32m      1\u001b[0m \u001b[0mfile\u001b[0m \u001b[0;34m=\u001b[0m \u001b[0mio\u001b[0m\u001b[0;34m.\u001b[0m\u001b[0mStringIO\u001b[0m\u001b[0;34m(\u001b[0m\u001b[0mresp_str\u001b[0m\u001b[0;34m)\u001b[0m\u001b[0;34m\u001b[0m\u001b[0;34m\u001b[0m\u001b[0m\n\u001b[0;32m----> 2\u001b[0;31m \u001b[0mall_current_ciks\u001b[0m \u001b[0;34m=\u001b[0m \u001b[0mpd\u001b[0m\u001b[0;34m.\u001b[0m\u001b[0mread_csv\u001b[0m\u001b[0;34m(\u001b[0m\u001b[0mfile\u001b[0m\u001b[0;34m,\u001b[0m \u001b[0msep\u001b[0m\u001b[0;34m=\u001b[0m\u001b[0;34m':'\u001b[0m\u001b[0;34m)\u001b[0m\u001b[0;34m\u001b[0m\u001b[0;34m\u001b[0m\u001b[0m\n\u001b[0m",
      "\u001b[0;32m~/anaconda3/envs/propulsion/lib/python3.9/site-packages/pandas/util/_decorators.py\u001b[0m in \u001b[0;36mwrapper\u001b[0;34m(*args, **kwargs)\u001b[0m\n\u001b[1;32m    309\u001b[0m                     \u001b[0mstacklevel\u001b[0m\u001b[0;34m=\u001b[0m\u001b[0mstacklevel\u001b[0m\u001b[0;34m,\u001b[0m\u001b[0;34m\u001b[0m\u001b[0;34m\u001b[0m\u001b[0m\n\u001b[1;32m    310\u001b[0m                 )\n\u001b[0;32m--> 311\u001b[0;31m             \u001b[0;32mreturn\u001b[0m \u001b[0mfunc\u001b[0m\u001b[0;34m(\u001b[0m\u001b[0;34m*\u001b[0m\u001b[0margs\u001b[0m\u001b[0;34m,\u001b[0m \u001b[0;34m**\u001b[0m\u001b[0mkwargs\u001b[0m\u001b[0;34m)\u001b[0m\u001b[0;34m\u001b[0m\u001b[0;34m\u001b[0m\u001b[0m\n\u001b[0m\u001b[1;32m    312\u001b[0m \u001b[0;34m\u001b[0m\u001b[0m\n\u001b[1;32m    313\u001b[0m         \u001b[0;32mreturn\u001b[0m \u001b[0mwrapper\u001b[0m\u001b[0;34m\u001b[0m\u001b[0;34m\u001b[0m\u001b[0m\n",
      "\u001b[0;32m~/anaconda3/envs/propulsion/lib/python3.9/site-packages/pandas/io/parsers/readers.py\u001b[0m in \u001b[0;36mread_csv\u001b[0;34m(filepath_or_buffer, sep, delimiter, header, names, index_col, usecols, squeeze, prefix, mangle_dupe_cols, dtype, engine, converters, true_values, false_values, skipinitialspace, skiprows, skipfooter, nrows, na_values, keep_default_na, na_filter, verbose, skip_blank_lines, parse_dates, infer_datetime_format, keep_date_col, date_parser, dayfirst, cache_dates, iterator, chunksize, compression, thousands, decimal, lineterminator, quotechar, quoting, doublequote, escapechar, comment, encoding, encoding_errors, dialect, error_bad_lines, warn_bad_lines, on_bad_lines, delim_whitespace, low_memory, memory_map, float_precision, storage_options)\u001b[0m\n\u001b[1;32m    584\u001b[0m     \u001b[0mkwds\u001b[0m\u001b[0;34m.\u001b[0m\u001b[0mupdate\u001b[0m\u001b[0;34m(\u001b[0m\u001b[0mkwds_defaults\u001b[0m\u001b[0;34m)\u001b[0m\u001b[0;34m\u001b[0m\u001b[0;34m\u001b[0m\u001b[0m\n\u001b[1;32m    585\u001b[0m \u001b[0;34m\u001b[0m\u001b[0m\n\u001b[0;32m--> 586\u001b[0;31m     \u001b[0;32mreturn\u001b[0m \u001b[0m_read\u001b[0m\u001b[0;34m(\u001b[0m\u001b[0mfilepath_or_buffer\u001b[0m\u001b[0;34m,\u001b[0m \u001b[0mkwds\u001b[0m\u001b[0;34m)\u001b[0m\u001b[0;34m\u001b[0m\u001b[0;34m\u001b[0m\u001b[0m\n\u001b[0m\u001b[1;32m    587\u001b[0m \u001b[0;34m\u001b[0m\u001b[0m\n\u001b[1;32m    588\u001b[0m \u001b[0;34m\u001b[0m\u001b[0m\n",
      "\u001b[0;32m~/anaconda3/envs/propulsion/lib/python3.9/site-packages/pandas/io/parsers/readers.py\u001b[0m in \u001b[0;36m_read\u001b[0;34m(filepath_or_buffer, kwds)\u001b[0m\n\u001b[1;32m    486\u001b[0m \u001b[0;34m\u001b[0m\u001b[0m\n\u001b[1;32m    487\u001b[0m     \u001b[0;32mwith\u001b[0m \u001b[0mparser\u001b[0m\u001b[0;34m:\u001b[0m\u001b[0;34m\u001b[0m\u001b[0;34m\u001b[0m\u001b[0m\n\u001b[0;32m--> 488\u001b[0;31m         \u001b[0;32mreturn\u001b[0m \u001b[0mparser\u001b[0m\u001b[0;34m.\u001b[0m\u001b[0mread\u001b[0m\u001b[0;34m(\u001b[0m\u001b[0mnrows\u001b[0m\u001b[0;34m)\u001b[0m\u001b[0;34m\u001b[0m\u001b[0;34m\u001b[0m\u001b[0m\n\u001b[0m\u001b[1;32m    489\u001b[0m \u001b[0;34m\u001b[0m\u001b[0m\n\u001b[1;32m    490\u001b[0m \u001b[0;34m\u001b[0m\u001b[0m\n",
      "\u001b[0;32m~/anaconda3/envs/propulsion/lib/python3.9/site-packages/pandas/io/parsers/readers.py\u001b[0m in \u001b[0;36mread\u001b[0;34m(self, nrows)\u001b[0m\n\u001b[1;32m   1045\u001b[0m     \u001b[0;32mdef\u001b[0m \u001b[0mread\u001b[0m\u001b[0;34m(\u001b[0m\u001b[0mself\u001b[0m\u001b[0;34m,\u001b[0m \u001b[0mnrows\u001b[0m\u001b[0;34m=\u001b[0m\u001b[0;32mNone\u001b[0m\u001b[0;34m)\u001b[0m\u001b[0;34m:\u001b[0m\u001b[0;34m\u001b[0m\u001b[0;34m\u001b[0m\u001b[0m\n\u001b[1;32m   1046\u001b[0m         \u001b[0mnrows\u001b[0m \u001b[0;34m=\u001b[0m \u001b[0mvalidate_integer\u001b[0m\u001b[0;34m(\u001b[0m\u001b[0;34m\"nrows\"\u001b[0m\u001b[0;34m,\u001b[0m \u001b[0mnrows\u001b[0m\u001b[0;34m)\u001b[0m\u001b[0;34m\u001b[0m\u001b[0;34m\u001b[0m\u001b[0m\n\u001b[0;32m-> 1047\u001b[0;31m         \u001b[0mindex\u001b[0m\u001b[0;34m,\u001b[0m \u001b[0mcolumns\u001b[0m\u001b[0;34m,\u001b[0m \u001b[0mcol_dict\u001b[0m \u001b[0;34m=\u001b[0m \u001b[0mself\u001b[0m\u001b[0;34m.\u001b[0m\u001b[0m_engine\u001b[0m\u001b[0;34m.\u001b[0m\u001b[0mread\u001b[0m\u001b[0;34m(\u001b[0m\u001b[0mnrows\u001b[0m\u001b[0;34m)\u001b[0m\u001b[0;34m\u001b[0m\u001b[0;34m\u001b[0m\u001b[0m\n\u001b[0m\u001b[1;32m   1048\u001b[0m \u001b[0;34m\u001b[0m\u001b[0m\n\u001b[1;32m   1049\u001b[0m         \u001b[0;32mif\u001b[0m \u001b[0mindex\u001b[0m \u001b[0;32mis\u001b[0m \u001b[0;32mNone\u001b[0m\u001b[0;34m:\u001b[0m\u001b[0;34m\u001b[0m\u001b[0;34m\u001b[0m\u001b[0m\n",
      "\u001b[0;32m~/anaconda3/envs/propulsion/lib/python3.9/site-packages/pandas/io/parsers/c_parser_wrapper.py\u001b[0m in \u001b[0;36mread\u001b[0;34m(self, nrows)\u001b[0m\n\u001b[1;32m    221\u001b[0m         \u001b[0;32mtry\u001b[0m\u001b[0;34m:\u001b[0m\u001b[0;34m\u001b[0m\u001b[0;34m\u001b[0m\u001b[0m\n\u001b[1;32m    222\u001b[0m             \u001b[0;32mif\u001b[0m \u001b[0mself\u001b[0m\u001b[0;34m.\u001b[0m\u001b[0mlow_memory\u001b[0m\u001b[0;34m:\u001b[0m\u001b[0;34m\u001b[0m\u001b[0;34m\u001b[0m\u001b[0m\n\u001b[0;32m--> 223\u001b[0;31m                 \u001b[0mchunks\u001b[0m \u001b[0;34m=\u001b[0m \u001b[0mself\u001b[0m\u001b[0;34m.\u001b[0m\u001b[0m_reader\u001b[0m\u001b[0;34m.\u001b[0m\u001b[0mread_low_memory\u001b[0m\u001b[0;34m(\u001b[0m\u001b[0mnrows\u001b[0m\u001b[0;34m)\u001b[0m\u001b[0;34m\u001b[0m\u001b[0;34m\u001b[0m\u001b[0m\n\u001b[0m\u001b[1;32m    224\u001b[0m                 \u001b[0;31m# destructive to chunks\u001b[0m\u001b[0;34m\u001b[0m\u001b[0;34m\u001b[0m\u001b[0;34m\u001b[0m\u001b[0m\n\u001b[1;32m    225\u001b[0m                 \u001b[0mdata\u001b[0m \u001b[0;34m=\u001b[0m \u001b[0m_concatenate_chunks\u001b[0m\u001b[0;34m(\u001b[0m\u001b[0mchunks\u001b[0m\u001b[0;34m)\u001b[0m\u001b[0;34m\u001b[0m\u001b[0;34m\u001b[0m\u001b[0m\n",
      "\u001b[0;32m~/anaconda3/envs/propulsion/lib/python3.9/site-packages/pandas/_libs/parsers.pyx\u001b[0m in \u001b[0;36mpandas._libs.parsers.TextReader.read_low_memory\u001b[0;34m()\u001b[0m\n",
      "\u001b[0;32m~/anaconda3/envs/propulsion/lib/python3.9/site-packages/pandas/_libs/parsers.pyx\u001b[0m in \u001b[0;36mpandas._libs.parsers.TextReader._read_rows\u001b[0;34m()\u001b[0m\n",
      "\u001b[0;32m~/anaconda3/envs/propulsion/lib/python3.9/site-packages/pandas/_libs/parsers.pyx\u001b[0m in \u001b[0;36mpandas._libs.parsers.TextReader._tokenize_rows\u001b[0;34m()\u001b[0m\n",
      "\u001b[0;32m~/anaconda3/envs/propulsion/lib/python3.9/site-packages/pandas/_libs/parsers.pyx\u001b[0m in \u001b[0;36mpandas._libs.parsers.raise_parser_error\u001b[0;34m()\u001b[0m\n",
      "\u001b[0;31mParserError\u001b[0m: Error tokenizing data. C error: Expected 3 fields in line 760, saw 4\n"
     ]
    }
   ],
   "source": [
    "file = io.StringIO(resp_str)\n",
    "all_current_ciks = pd.read_csv(file, sep=':')"
   ]
  },
  {
   "cell_type": "code",
   "execution_count": null,
   "id": "fefec3f4-47da-409a-bfd3-c0b929f0c68a",
   "metadata": {},
   "outputs": [],
   "source": []
  }
 ],
 "metadata": {
  "kernelspec": {
   "display_name": "propulsion",
   "language": "python",
   "name": "propulsion"
  },
  "language_info": {
   "codemirror_mode": {
    "name": "ipython",
    "version": 3
   },
   "file_extension": ".py",
   "mimetype": "text/x-python",
   "name": "python",
   "nbconvert_exporter": "python",
   "pygments_lexer": "ipython3",
   "version": "3.9.5"
  }
 },
 "nbformat": 4,
 "nbformat_minor": 5
}
