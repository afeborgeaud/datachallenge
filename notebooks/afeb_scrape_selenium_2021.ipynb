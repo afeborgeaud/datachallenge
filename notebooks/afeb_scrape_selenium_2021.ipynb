{
 "cells": [
  {
   "cell_type": "code",
   "execution_count": null,
   "id": "8d98def7-c779-4f62-a733-62049f82bb9f",
   "metadata": {},
   "outputs": [],
   "source": [
    "%load_ext lab_black"
   ]
  },
  {
   "cell_type": "code",
   "execution_count": null,
   "id": "e8fe393a-f451-49e4-94d4-ab579422e45c",
   "metadata": {},
   "outputs": [],
   "source": [
    "import selenium\n",
    "import pandas as pd\n",
    "import numpy as np\n",
    "from bs4 import BeautifulSoup\n",
    "from time import sleep\n",
    "from datetime import datetime\n",
    "import requests\n",
    "import numpy as np\n",
    "import time\n",
    "import re\n",
    "from tqdm import tqdm\n",
    "import pickle\n",
    "import tempfile\n",
    "from collections import defaultdict\n",
    "import os\n",
    "\n",
    "import selenium\n",
    "from selenium import webdriver\n",
    "from selenium.webdriver.common.keys import Keys\n",
    "from selenium.webdriver.support.ui import WebDriverWait, Select\n",
    "from selenium.webdriver.common.action_chains import ActionChains\n",
    "from selenium.webdriver.support import expected_conditions as EC\n",
    "from selenium.webdriver.common.by import By\n",
    "from selenium.common.exceptions import NoSuchElementException\n",
    "\n",
    "import logging\n",
    "\n",
    "logging.basicConfig(level=logging.INFO, filename=\"../logs/scrape.log\")"
   ]
  },
  {
   "cell_type": "code",
   "execution_count": null,
   "id": "048fc4cb-4536-4759-86c9-946dbac381ec",
   "metadata": {},
   "outputs": [],
   "source": [
    "companies = pd.read_csv(\n",
    "    \"../data/intermediate/companies_filling_minimal.csv\", index_col=0\n",
    ")\n",
    "companies[\"most_recent_filling\"] = pd.to_datetime(companies[\"most_recent_filling\"])\n",
    "companies_more_2008 = companies[companies[\"most_recent_filling\"].dt.year > 2008]\n",
    "\n",
    "ciks = list(companies_more_2008[\"CIK\"])\n",
    "len(ciks)"
   ]
  },
  {
   "cell_type": "code",
   "execution_count": null,
   "id": "3fd8f1a3-51a6-4e24-8fe6-107722c41ff7",
   "metadata": {},
   "outputs": [],
   "source": [
    "ciks_2021 = companies.loc[companies[\"most_recent_filling\"].dt.year == 2021, \"CIK\"]\n",
    "len(ciks_2021)"
   ]
  },
  {
   "cell_type": "code",
   "execution_count": null,
   "id": "188a5128-1169-42b1-a18c-26b9b8718d26",
   "metadata": {},
   "outputs": [],
   "source": [
    "sp500 = pd.read_csv(\"../data/processed/sp500.csv\")\n",
    "ciks = sp500[\"CIK\"]\n",
    "len(ciks)"
   ]
  },
  {
   "cell_type": "code",
   "execution_count": null,
   "id": "1c2c3664-d616-484d-a6b5-5b6c71aef36c",
   "metadata": {},
   "outputs": [],
   "source": [
    "headers = {\"User-Agent\": \"Anselme F.E. Borgeaud (aborgeaud@gmail.com)\"}"
   ]
  },
  {
   "cell_type": "code",
   "execution_count": null,
   "id": "a1d70913-4f2e-4425-8328-6abbc9e281e9",
   "metadata": {},
   "outputs": [],
   "source": [
    "def get_date(soup) -> datetime:\n",
    "    ps = soup.findAll(\"p\")\n",
    "    bs = soup.findAll(\"b\")\n",
    "    texts = [\n",
    "        p.get_text(strip=True).replace(u\"\\xa0\", u\" \")\n",
    "        for p in ps + bs\n",
    "        if \"fiscal year ended\" in p.text\n",
    "    ]\n",
    "    if len(texts) > 0:\n",
    "        match = re.findall(r\"ended .*[0-9]{4}\", texts[0])\n",
    "        if len(match) == 1:\n",
    "            date_str = match[0].replace(\"ended \", \"\")\n",
    "            try:\n",
    "                date = datetime.strptime(date_str, \"%B %d, %Y\")\n",
    "                return date\n",
    "            except:\n",
    "                return None\n",
    "\n",
    "\n",
    "def find_value(td_elem) -> float:\n",
    "    def is_number(s):\n",
    "        return len(re.findall(r\"[0-9]+\", s)) > 0\n",
    "\n",
    "    elem = td_elem.find_next_sibling(\"td\")\n",
    "    if elem is None:\n",
    "        return None\n",
    "    i = 0\n",
    "    while elem and not is_number(elem.text) and i < 4:\n",
    "        elem = elem.find_next_sibling(\"td\")\n",
    "    if elem is None:\n",
    "        return None\n",
    "    if is_number(elem.text):\n",
    "        try:\n",
    "            return float(elem.text.replace(\",\", \"\"))\n",
    "        except ValueError:\n",
    "            return None\n",
    "\n",
    "\n",
    "def find_value_in_table(soup, key: str) -> float:\n",
    "    key_elem = None\n",
    "    key_text = key.strip().replace(\"\\n\", \"_\").replace(\" \", \"_\").lower()\n",
    "    for e in soup.findAll(\"td\"):\n",
    "        text = e.text.strip().replace(\"\\n\", \"_\").replace(\" \", \"_\").lower()\n",
    "        matches = re.findall(key_text, text)\n",
    "        if len(matches) > 0:\n",
    "            key_elem = e\n",
    "            break\n",
    "    #         if key_text == text:\n",
    "    #             key_elem = e\n",
    "    if key_elem:\n",
    "        return find_value(key_elem)\n",
    "\n",
    "\n",
    "def find_value_in_table_txt(text: str, key: str) -> float:\n",
    "    key_text = key.strip().lower().replace(\" \", \"_\")\n",
    "    text_ = text.lower().replace(\" \", \"_\")\n",
    "    occurences = [m.start() for m in re.finditer(key_text, text_)]\n",
    "    if len(occurences) > 0:\n",
    "        occurence = occurences[0]\n",
    "        line = text_[occurence : occurence + 200].replace(\",\", \"\")\n",
    "        values = re.findall(r\"[0-9]+\", line)\n",
    "        if len(values) > 0:\n",
    "            value = values[0]\n",
    "            try:\n",
    "                value = float(value)\n",
    "            except ValueError:\n",
    "                value = None"
   ]
  },
  {
   "cell_type": "code",
   "execution_count": null,
   "id": "3b5d438f-3fa7-4370-8349-2050cfd00e14",
   "metadata": {},
   "outputs": [],
   "source": [
    "def expend_10k_button(driver):\n",
    "    elem_10k = None\n",
    "    for elem in driver.find_elements_by_class_name(\"expandCollapse\"):\n",
    "        parent = elem.find_element_by_xpath(\"..\")\n",
    "        if \"10-K\" in parent.text:\n",
    "            elem_10k = parent\n",
    "            break\n",
    "    if elem_10k:\n",
    "        elem_10k.click()\n",
    "\n",
    "\n",
    "def click_view_all_10k(driver):\n",
    "    elem_view10k = driver.find_element_by_xpath(\n",
    "        '//button[@data-group=\"annualOrQuarterlyReports\"]'\n",
    "    )\n",
    "    elem_view10k.click()\n",
    "\n",
    "\n",
    "def input_search_10k(driver):\n",
    "    search_elem = driver.find_element_by_xpath('//input[@placeholder=\"Search table\"]')\n",
    "    # blank space to avoid 10-K/A (amendments)\n",
    "    search_elem.send_keys(\"10-K \")\n",
    "\n",
    "\n",
    "def html_url_from_xbrl_viewer(annual_report_elem, driver):\n",
    "    annual_report_elem.click()\n",
    "    driver.switch_to.window(driver.window_handles[1])\n",
    "    t = 1\n",
    "    time.sleep(1)\n",
    "    html_elem = None\n",
    "    url = None\n",
    "    while not html_elem and t < 10:\n",
    "        try:\n",
    "            menu_elem = driver.find_element_by_xpath('//a[@id=\"menu-dropdown-link\"]')\n",
    "            menu_elem.click()\n",
    "            time.sleep(0.2)\n",
    "            html_elem = driver.find_element_by_id(\"form-information-html\")\n",
    "        except:\n",
    "            time.sleep(1)\n",
    "            t += 1\n",
    "    if html_elem:\n",
    "        url = html_elem.get_attribute(\"href\")\n",
    "    driver.close()\n",
    "    driver.switch_to.window(driver.window_handles[0])\n",
    "    return url\n",
    "\n",
    "\n",
    "def is_xbrl(url):\n",
    "    return r\"ix?doc=\" in url"
   ]
  },
  {
   "cell_type": "code",
   "execution_count": null,
   "id": "0436d31a-add4-404a-b312-33c113483b80",
   "metadata": {},
   "outputs": [],
   "source": [
    "entries = [\n",
    "    \"total_current_assets\",\n",
    "    \"total_current_liabilities\",\n",
    "    \"long-term_debt\",\n",
    "    \"total_liabilities\",\n",
    "    \"total_equity\",\n",
    "    r\"total_stockholders.?.?equity\",\n",
    "    r\"earnings_per_share_attributable.*diluted\",\n",
    "]\n",
    "\n",
    "\n",
    "def run(ciks: list):\n",
    "    driver = webdriver.Chrome()\n",
    "    time.sleep(8)\n",
    "\n",
    "    report_urls = []\n",
    "    report_pages = defaultdict(list)\n",
    "    data_dict = defaultdict(list)\n",
    "    data_df = None\n",
    "\n",
    "    previous_file_report = None\n",
    "    previous_file_df = None\n",
    "    for i, cik in enumerate(tqdm(ciks)):\n",
    "        if (i > 0) and (i % 30 == 0):\n",
    "            timestamp = time.time_ns()\n",
    "            file_report = f\"../data/intermediate/report_urls{timestamp}.pickle\"\n",
    "            file_page = f\"../data/intermediate/report_pages_{i//30}.pickle\"\n",
    "            file_df = f\"../data/intermediate/scraped_financials{timestamp}.csv\"\n",
    "\n",
    "            with open(file_report, \"wb\") as f:\n",
    "                pickle.dump(report_urls, f)\n",
    "            d = {k: v for k, v in report_pages.items()}\n",
    "            with open(file_page, \"wb\") as f:\n",
    "                pickle.dump(d, f)\n",
    "            data_df = pd.DataFrame(data_dict)\n",
    "            data_df.to_csv(file_df)\n",
    "\n",
    "            if previous_file_report:\n",
    "                os.remove(previous_file_report)\n",
    "                os.remove(previous_file_df)\n",
    "            previous_file_report = file_report\n",
    "            previous_file_df = file_df\n",
    "\n",
    "            del report_pages\n",
    "            report_pages = defaultdict(list)\n",
    "\n",
    "        url = f\"https://www.sec.gov/edgar/browse/?CIK={cik}\"\n",
    "        try:\n",
    "            driver.get(url)\n",
    "        except:\n",
    "            logging.info(f\"{url} Did not get page\")\n",
    "            continue\n",
    "\n",
    "        # TODO in while loop to decrease wait time\n",
    "        time.sleep(4)\n",
    "\n",
    "        try:\n",
    "            input_search_10k(driver)\n",
    "        except:\n",
    "            logging.info(f\"{url} Did not input 10-K\")\n",
    "            try:\n",
    "                expend_10k_button(driver)\n",
    "                time.sleep(1.5)\n",
    "                click_view_all_10k(driver)\n",
    "                time.sleep(1.5)\n",
    "                input_search_10k(driver)\n",
    "            except:\n",
    "                logging.info(f\"{url} Did not expend and input 10-K\")\n",
    "                continue\n",
    "\n",
    "        link_elems = driver.find_elements_by_class_name(\"document-link\")\n",
    "        annual_report_elems = [\n",
    "            e\n",
    "            for e in link_elems\n",
    "            if \"Annual report\" in e.text\n",
    "            and \"right\" in e.get_attribute(\"data-placement\")\n",
    "        ]\n",
    "        annual_report_pages = []\n",
    "\n",
    "        for annual_report_elem in annual_report_elems:\n",
    "            #             try:\n",
    "            page_url = annual_report_elem.get_property(\"href\")\n",
    "            if is_xbrl(page_url):\n",
    "                page_url = html_url_from_xbrl_viewer(annual_report_elem, driver)\n",
    "            page = requests.get(page_url, headers=headers, timeout=5)\n",
    "            annual_report_pages.append(page)\n",
    "        #             except:\n",
    "        #                 href_elem = annual_report_elem.get_property(\"href\")\n",
    "        #                 logging.info(f\"{href_elem} Did not fetch report page\")\n",
    "        #                 pass\n",
    "\n",
    "        report_urls.extend([a.get_property(\"href\") for a in annual_report_elems])\n",
    "        page_texts = []\n",
    "        for a in annual_report_pages:\n",
    "            if a.url.endswith(\".txt\"):\n",
    "                text = a.text\n",
    "            else:\n",
    "                asoup = BeautifulSoup(a.content, \"html.parser\")\n",
    "                ps = asoup.findAll(\"p\")\n",
    "                text = \"\\n\".join([p.text for p in ps])\n",
    "            page_texts.append(text)\n",
    "        report_pages[cik].extend(page_texts)\n",
    "\n",
    "        for i, page in enumerate(annual_report_pages):\n",
    "            if page is None:\n",
    "                continue\n",
    "\n",
    "            try:\n",
    "                date_str = driver.find_elements_by_xpath(\n",
    "                    '//a[@data-index=\"reportDate\"]'\n",
    "                )[i].text\n",
    "                date = datetime.fromisoformat(date_str)\n",
    "            except:\n",
    "                logging.info(f\"{url} Did not read date\")\n",
    "                continue\n",
    "\n",
    "            soup = BeautifulSoup(page.content, \"html.parser\")\n",
    "\n",
    "            tmp_dict = None\n",
    "            #             try:\n",
    "            tmp_dict = dict()\n",
    "            for entry in entries:\n",
    "                if page.url.endswith(\".txt\"):\n",
    "                    tmp_dict[entry] = find_value_in_table_txt(page.text, entry)\n",
    "                else:\n",
    "                    tmp_dict[entry] = find_value_in_table(soup, entry)\n",
    "            #             except:\n",
    "            #                 logging.info(f\"{page.url} Did not read html\")\n",
    "            #                 continue\n",
    "            if (tmp_dict.keys() - set(entries)) == set():\n",
    "                for entry, value in tmp_dict.items():\n",
    "                    data_dict[entry].append(value)\n",
    "                data_dict[\"CIK\"].append(cik)\n",
    "                data_dict[\"date_filled\"].append(date)\n",
    "                data_dict[\"url\"].append(page.url)\n",
    "\n",
    "    data_df = pd.DataFrame(data_dict)\n",
    "    data_df.to_csv(\"../data/intermediate/scraped_financials.csv\")\n",
    "\n",
    "    with open(\"../data/intermediate/report_urls.pickle\", \"wb\") as f:\n",
    "        pickle.dump(report_urls, f)\n",
    "    d = {k: v for k, v in report_pages.items()}\n",
    "    with open(\"../data/intermediate/report_pages.pickle\", \"wb\") as f:\n",
    "        pickle.dump(d, f)"
   ]
  },
  {
   "cell_type": "code",
   "execution_count": null,
   "id": "4a7d696b-97d7-405c-819d-01afa9c5a211",
   "metadata": {},
   "outputs": [],
   "source": [
    "run(ciks)"
   ]
  },
  {
   "cell_type": "code",
   "execution_count": null,
   "id": "92c19594-80b7-405b-b520-cefdd875840d",
   "metadata": {},
   "outputs": [],
   "source": [
    "# TEST TEST\n",
    "\n",
    "url = \"https://www.sec.gov/edgar/browse/?CIK=351569\"\n",
    "\n",
    "driver = webdriver.Chrome()\n",
    "driver.get(url)"
   ]
  },
  {
   "cell_type": "code",
   "execution_count": null,
   "id": "5765716f-3a0f-47f2-ae3f-d11c4212bfd5",
   "metadata": {},
   "outputs": [],
   "source": [
    "expend_10k_button(driver)"
   ]
  },
  {
   "cell_type": "code",
   "execution_count": null,
   "id": "0e09c423-3ff9-4356-a5b4-4dc335a9ff74",
   "metadata": {},
   "outputs": [],
   "source": [
    "click_view_all_10k(driver)"
   ]
  },
  {
   "cell_type": "code",
   "execution_count": null,
   "id": "598c0fd8-b72f-402a-93c1-62eed04535b6",
   "metadata": {},
   "outputs": [],
   "source": [
    "input_search_10k(driver)"
   ]
  },
  {
   "cell_type": "code",
   "execution_count": null,
   "id": "920b9419-426f-42a4-a62a-fa1ce5b50d8d",
   "metadata": {},
   "outputs": [],
   "source": [
    "link_elems = driver.find_elements_by_class_name(\"document-link\")\n",
    "annual_report_elems = [\n",
    "    e\n",
    "    for e in link_elems\n",
    "    if \"Annual report\" in e.text and \"right\" in e.get_attribute(\"data-placement\")\n",
    "]\n",
    "\n",
    "for a in annual_report_elems:\n",
    "    print(a.get_property(\"href\"), a.text)\n",
    "\n",
    "annual_report_elem = annual_report_elems[0]"
   ]
  },
  {
   "cell_type": "code",
   "execution_count": null,
   "id": "95f9eed5-dce6-4208-8254-e361917ca9a1",
   "metadata": {},
   "outputs": [],
   "source": [
    "page = requests.get(\n",
    "    annual_report_elem.get_property(\"href\"), headers=headers, timeout=5\n",
    ")\n",
    "page.status_code"
   ]
  },
  {
   "cell_type": "code",
   "execution_count": null,
   "id": "54049058-881c-451a-b63a-3430ef6188ee",
   "metadata": {},
   "outputs": [],
   "source": [
    "soup = BeautifulSoup(page.content)"
   ]
  },
  {
   "cell_type": "code",
   "execution_count": null,
   "id": "3bbbb110-214e-45c1-b5fc-ba69571448d1",
   "metadata": {},
   "outputs": [],
   "source": [
    "date_str = driver.find_elements_by_xpath(\n",
    "    '//a[@data-index=\"reportDate\"]'\n",
    ")[0].text\n",
    "\n",
    "date = datetime.fromisoformat(date_str)\n",
    "date"
   ]
  },
  {
   "cell_type": "code",
   "execution_count": null,
   "id": "6fb17fc1-5e23-4b4b-ac57-21c4baef97ef",
   "metadata": {},
   "outputs": [],
   "source": [
    "annual_report_elem.click()"
   ]
  },
  {
   "cell_type": "code",
   "execution_count": null,
   "id": "f0b36340-a83f-42f2-9f05-063e19ca4daa",
   "metadata": {},
   "outputs": [],
   "source": [
    "driver.switch_to.window(driver.window_handles[1])"
   ]
  },
  {
   "cell_type": "code",
   "execution_count": null,
   "id": "b7c1473f-c846-4fbb-914a-318c23a6d10c",
   "metadata": {},
   "outputs": [],
   "source": [
    "driver.close()"
   ]
  },
  {
   "cell_type": "code",
   "execution_count": null,
   "id": "e7a68034-c5ff-4e39-8d08-4329ebfee96c",
   "metadata": {},
   "outputs": [],
   "source": [
    "menu_elem = driver.find_element_by_xpath('//a[@id=\"menu-dropdown-link\"]')\n",
    "menu_elem.click()"
   ]
  },
  {
   "cell_type": "code",
   "execution_count": null,
   "id": "078b5807-6c0d-47a7-8dac-08b7f3c52dae",
   "metadata": {},
   "outputs": [],
   "source": [
    "html_elem = driver.find_element_by_id(\"form-information-html\")\n",
    "href = html_elem.get_attribute(\"href\")"
   ]
  },
  {
   "cell_type": "code",
   "execution_count": null,
   "id": "19ac1c07-8f0b-4db2-b942-9d0cd4b8d33a",
   "metadata": {},
   "outputs": [],
   "source": [
    "href"
   ]
  },
  {
   "cell_type": "code",
   "execution_count": null,
   "id": "94c87fe3-bbfb-4907-9045-29625bb81f85",
   "metadata": {},
   "outputs": [],
   "source": [
    "page2 = requests.get(href, headers=headers)"
   ]
  },
  {
   "cell_type": "code",
   "execution_count": null,
   "id": "8b069737-4dfd-45fe-8d59-15be3d797b0d",
   "metadata": {},
   "outputs": [],
   "source": [
    "soup2 = BeautifulSoup(page2.content, \"html.parser\")"
   ]
  },
  {
   "cell_type": "code",
   "execution_count": null,
   "id": "b7dda9ac-978e-4bba-957a-a12e2cadc563",
   "metadata": {},
   "outputs": [],
   "source": [
    "print(soup.title)\n",
    "print(soup2.title)"
   ]
  },
  {
   "cell_type": "code",
   "execution_count": null,
   "id": "4e626900-3064-45e5-9b30-f56d052b7ed2",
   "metadata": {},
   "outputs": [],
   "source": [
    "soup.get_text()[-1000:]"
   ]
  },
  {
   "cell_type": "code",
   "execution_count": null,
   "id": "7756ed0b-db3d-49bc-b822-ceb0f7113a9f",
   "metadata": {},
   "outputs": [],
   "source": [
    "soup2.get_text()[-1000:]"
   ]
  },
  {
   "cell_type": "code",
   "execution_count": null,
   "id": "bd4a8fcc-2eaa-40b0-9131-2d0d0dfa3f5f",
   "metadata": {},
   "outputs": [],
   "source": [
    "find_value_in_table(soup2, 'total_current_assets')"
   ]
  },
  {
   "cell_type": "code",
   "execution_count": null,
   "id": "fbcd3f88-734a-4df0-9da1-1976a81c6d76",
   "metadata": {},
   "outputs": [],
   "source": [
    "entries = [\"total_current_assets\", \"total_current_liabilities\"]\n",
    "\n",
    "find_value_in_table(soup, entries[1])"
   ]
  },
  {
   "cell_type": "code",
   "execution_count": null,
   "id": "a65eeb54-9f34-46e6-b065-b1a8d5d45a79",
   "metadata": {
    "tags": []
   },
   "outputs": [],
   "source": [
    "key = entries[0]\n",
    "key_elem = None\n",
    "key_text = key.strip().replace(\"\\n\", \"_\").replace(\" \", \"_\").lower()\n",
    "for e in soup.findAll(\"td\"):\n",
    "    text = e.text.strip().replace(\"\\n\", \"_\").replace(\" \", \"_\").lower()\n",
    "    print(text)\n",
    "    if key_text == text:\n",
    "        key_elem = e"
   ]
  },
  {
   "cell_type": "code",
   "execution_count": null,
   "id": "e94e7182-2a57-404d-a1c6-694a4b08b179",
   "metadata": {
    "tags": []
   },
   "outputs": [],
   "source": [
    "soup"
   ]
  },
  {
   "cell_type": "code",
   "execution_count": null,
   "id": "0ee8bd41-3226-48e3-baee-02ac3965fe05",
   "metadata": {},
   "outputs": [],
   "source": [
    "annual_report_elem.get_property(\"href\")"
   ]
  },
  {
   "cell_type": "code",
   "execution_count": null,
   "id": "55a427f6-f749-45ca-bcea-7d86d3cc9fcb",
   "metadata": {},
   "outputs": [],
   "source": [
    "# TEST txt\n",
    "\n",
    "url = \"https://www.sec.gov/Archives/edgar/data/0000839759/000104746909002862/a2191671z10-k.txt\"\n",
    "page = requests.get(url, headers=headers)"
   ]
  },
  {
   "cell_type": "code",
   "execution_count": null,
   "id": "9ded672d-d735-4599-991e-25fd776a9871",
   "metadata": {},
   "outputs": [],
   "source": [
    "key_text = \"total assets\"\n",
    "key_text = key_text.strip().lower().replace(\" \", \"_\")\n",
    "text = page.text.lower().replace(\" \", \"_\")\n",
    "occurences = [m.start() for m in re.finditer(key_text, text)]\n",
    "if len(occurences) > 0:\n",
    "    occurence = occurences[0]\n",
    "    line = text[occurence : occurence + 200].replace(\",\", \"\")\n",
    "    values = re.findall(r\"[0-9]+\", line)\n",
    "    if len(values) > 0:\n",
    "        value = values[0]\n",
    "        try:\n",
    "            value = float(value)\n",
    "        except ValueError:\n",
    "            value = None"
   ]
  },
  {
   "cell_type": "code",
   "execution_count": null,
   "id": "8a450e8d-8c20-4921-b58c-d743271fbf92",
   "metadata": {},
   "outputs": [],
   "source": [
    "value"
   ]
  },
  {
   "cell_type": "code",
   "execution_count": null,
   "id": "3180d5fd-d053-470a-8e96-7447cf918ff3",
   "metadata": {},
   "outputs": [],
   "source": [
    "d = {0: [0, 1], 1: [0, 1, 2]}\n",
    "del d"
   ]
  },
  {
   "cell_type": "code",
   "execution_count": null,
   "id": "53f5ac93-8ab5-46ac-83ff-c1e3588b113f",
   "metadata": {},
   "outputs": [],
   "source": [
    "d"
   ]
  },
  {
   "cell_type": "code",
   "execution_count": null,
   "id": "3ee6f0a8-37c5-4b18-9274-b2c0c3351bde",
   "metadata": {},
   "outputs": [],
   "source": []
  }
 ],
 "metadata": {
  "kernelspec": {
   "display_name": "propulsion",
   "language": "python",
   "name": "propulsion"
  },
  "language_info": {
   "codemirror_mode": {
    "name": "ipython",
    "version": 3
   },
   "file_extension": ".py",
   "mimetype": "text/x-python",
   "name": "python",
   "nbconvert_exporter": "python",
   "pygments_lexer": "ipython3",
   "version": "3.9.7"
  }
 },
 "nbformat": 4,
 "nbformat_minor": 5
}
