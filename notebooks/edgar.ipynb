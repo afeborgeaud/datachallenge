{
 "cells": [
  {
   "cell_type": "markdown",
   "id": "63accab6-e179-4880-b6c0-9817d47e9f29",
   "metadata": {},
   "source": [
    "# Security and Exchange Commision - Edgar database API\n",
    "\n",
    "Financial reports for US-listed companies.\n",
    "\n",
    "- Do not require authentication or API key\n",
    "- Access forms 10-Q, 10-K, 8-K, 20-F, 40-F, 6-K, and their variants\n",
    "- Reports in XBRL format (eXtensible Business Reporting Language) \n",
    "\n",
    "API documentation:\n",
    "https://www.sec.gov/edgar/sec-api-documentation\n",
    "\n",
    "\n",
    "Combines with\n",
    "CEO dismissal database\n"
   ]
  },
  {
   "cell_type": "code",
   "execution_count": 13,
   "id": "af03d915-c4a4-4d63-b7e3-82b77a8abd96",
   "metadata": {},
   "outputs": [
    {
     "name": "stdout",
     "output_type": "stream",
     "text": [
      "The lab_black extension is already loaded. To reload it, use:\n",
      "  %reload_ext lab_black\n"
     ]
    }
   ],
   "source": [
    "%load_ext lab_black"
   ]
  },
  {
   "cell_type": "code",
   "execution_count": 3,
   "id": "85758325-9f19-4791-b3c3-0f5c911ef402",
   "metadata": {},
   "outputs": [],
   "source": [
    "import requests\n",
    "import pandas as pd\n",
    "from pandas import json_normalize\n",
    "import json\n",
    "import matplotlib.pyplot as plt"
   ]
  },
  {
   "cell_type": "code",
   "execution_count": 4,
   "id": "a63c5c7e-984c-4202-bb93-800bd01f016a",
   "metadata": {},
   "outputs": [],
   "source": [
    "plt.style.use(\"seaborn\")"
   ]
  },
  {
   "cell_type": "code",
   "execution_count": 5,
   "id": "825a0eca-c408-4bc8-8d84-55b770485300",
   "metadata": {},
   "outputs": [],
   "source": [
    "# SEC Edgar database API\n",
    "# https://www.sec.gov/edgar/sec-api-documentation\n",
    "\n",
    "# history of submissions of financial report fillings\n",
    "url_submissions = \"https://data.sec.gov/submissions/\"\n",
    "\n",
    "# a few quarters of financial reports\n",
    "url_facts = \"https://data.sec.gov/api/xbrl/companyfacts/\"\n",
    "\n",
    "# hisotry of values for a specific financial report entry (e.g. Revenues)\n",
    "# for a specific company\n",
    "url_concepts = \"https://data.sec.gov/api/xbrl/companyconcepts/\"\n",
    "\n",
    "# ...\n",
    "url_frames = \"https://data.sec.gov/api/xbrl/frames/\""
   ]
  },
  {
   "cell_type": "code",
   "execution_count": 6,
   "id": "fbdbd6d8-b0b8-4ce5-9aa5-5fba04f13674",
   "metadata": {},
   "outputs": [],
   "source": [
    "# url_facts\n",
    "# test with Apple Inc.\n",
    "# Apple Inc. CIK found manually from https://www.sec.gov/edgar/searchedgar/cik.htm\n",
    "\n",
    "apple_cik = \"0000320193\"\n",
    "headers = {\"User-Agent\": \"Anselme Borgeaud (individual) aborgeaud@gmail.com\"}\n",
    "\n",
    "\n",
    "def get_facts(cik: str, headers) -> dict:\n",
    "    assert len(cik) == 10\n",
    "    resp = requests.get(\n",
    "        url_facts + \"CIK\" + apple_cik + \".json\", headers=headers, timeout=5\n",
    "    )\n",
    "    resp_json = None\n",
    "    if resp.status_code < 400:\n",
    "        resp_json = resp.json()\n",
    "    return resp_json"
   ]
  },
  {
   "cell_type": "code",
   "execution_count": 18,
   "id": "7573fd6b-ca13-4c0a-81db-426b3c5842b3",
   "metadata": {},
   "outputs": [
    {
     "ename": "NameError",
     "evalue": "name 'resp_json' is not defined",
     "output_type": "error",
     "traceback": [
      "\u001b[0;31m---------------------------------------------------------------------------\u001b[0m",
      "\u001b[0;31mNameError\u001b[0m                                 Traceback (most recent call last)",
      "\u001b[0;32m<ipython-input-18-9384fa4c689f>\u001b[0m in \u001b[0;36m<module>\u001b[0;34m\u001b[0m\n\u001b[0;32m----> 1\u001b[0;31m \u001b[0mresp_json\u001b[0m\u001b[0;34m.\u001b[0m\u001b[0mkeys\u001b[0m\u001b[0;34m(\u001b[0m\u001b[0;34m)\u001b[0m\u001b[0;34m\u001b[0m\u001b[0;34m\u001b[0m\u001b[0m\n\u001b[0m",
      "\u001b[0;31mNameError\u001b[0m: name 'resp_json' is not defined"
     ]
    }
   ],
   "source": [
    "resp_jons = get_facts(apple_cik, headers)"
   ]
  },
  {
   "cell_type": "code",
   "execution_count": null,
   "id": "dfa23c49-fd7f-4925-b41f-9a10a621590a",
   "metadata": {},
   "outputs": [],
   "source": [
    "cik_str = f\"{resp_json['cik']:010d}\"\n",
    "cik_str"
   ]
  },
  {
   "cell_type": "code",
   "execution_count": null,
   "id": "ba3f8d52-da63-42c3-979f-658fe9ee482e",
   "metadata": {},
   "outputs": [],
   "source": [
    "resp_json[\"entityName\"]"
   ]
  },
  {
   "cell_type": "code",
   "execution_count": null,
   "id": "f84481f8-1cb3-4aff-9edb-8921e758bed1",
   "metadata": {},
   "outputs": [],
   "source": [
    "# keys of resp_json['facts'] are the taxonomies (e.g., us-gaap, ifrs-full, dei, or srt)\n",
    "resp_json[\"facts\"].keys()"
   ]
  },
  {
   "cell_type": "code",
   "execution_count": null,
   "id": "1a123dbf-4376-45a3-8c8f-528557a10fb7",
   "metadata": {},
   "outputs": [],
   "source": [
    "gaap = resp_json[\"facts\"][\"us-gaap\"]"
   ]
  },
  {
   "cell_type": "code",
   "execution_count": null,
   "id": "17dbfedc-ec20-43d9-a3aa-256205b12f97",
   "metadata": {},
   "outputs": [],
   "source": [
    "resp_json[\"facts\"][\"dei\"].keys()"
   ]
  },
  {
   "cell_type": "code",
   "execution_count": null,
   "id": "6043a2ad-6215-4dd4-8a4b-c155ea352183",
   "metadata": {},
   "outputs": [],
   "source": [
    "for i, k in enumerate(gaap.keys()):\n",
    "    if i < 20:\n",
    "        print(f\"{i} - {k}\")"
   ]
  },
  {
   "cell_type": "code",
   "execution_count": null,
   "id": "b105aac1-be2e-4691-9dbb-744262b22a30",
   "metadata": {},
   "outputs": [],
   "source": [
    "for i, k in enumerate(gaap.keys()):\n",
    "    print(f\"{i} - {k}\")"
   ]
  },
  {
   "cell_type": "code",
   "execution_count": null,
   "id": "1f390d8b-6546-41aa-8591-a2bf7fb7d4d0",
   "metadata": {},
   "outputs": [],
   "source": [
    "gaap[\"Revenues\"].keys()"
   ]
  },
  {
   "cell_type": "code",
   "execution_count": null,
   "id": "e318468d-f139-4324-8ec1-0ca8461b3abf",
   "metadata": {},
   "outputs": [],
   "source": [
    "gaap[\"Revenues\"][\"units\"].keys()"
   ]
  },
  {
   "cell_type": "code",
   "execution_count": null,
   "id": "5e5211ba-7243-479b-99e4-1462637fa487",
   "metadata": {},
   "outputs": [],
   "source": [
    "revenues = gaap[\"Revenues\"][\"units\"][\"USD\"]\n",
    "\n",
    "revenues[0].keys()"
   ]
  },
  {
   "cell_type": "code",
   "execution_count": null,
   "id": "881d6a88-78ae-4764-a981-b1226cfa32d2",
   "metadata": {},
   "outputs": [],
   "source": [
    "for revenue in revenues:\n",
    "    print(f\"{revenue['start']} to {revenue['end']}\")"
   ]
  },
  {
   "cell_type": "code",
   "execution_count": null,
   "id": "f5e8ce1b-9471-4184-90ae-25dd23b651ed",
   "metadata": {},
   "outputs": [],
   "source": [
    "df_revenues = json_normalize(revenues)\n",
    "df_revenues"
   ]
  },
  {
   "cell_type": "code",
   "execution_count": null,
   "id": "baa816ae-2ee3-4862-b9f3-b2a414fe2345",
   "metadata": {},
   "outputs": [],
   "source": [
    "df_quarter_revenues = df_revenues[df_revenues[\"frame\"].str.contains(\"Q\")]\n",
    "df_quarter_revenues"
   ]
  },
  {
   "cell_type": "code",
   "execution_count": null,
   "id": "482c3287-937c-47ac-b504-1fab7bf033f7",
   "metadata": {},
   "outputs": [],
   "source": [
    "df_quarter_revenues.plot(x=\"frame\", y=\"val\", kind=\"bar\")"
   ]
  },
  {
   "cell_type": "code",
   "execution_count": 7,
   "id": "0c90095a-8e12-4e0e-969b-2fcfeb241631",
   "metadata": {},
   "outputs": [],
   "source": [
    "# submissions\n",
    "\n",
    "\n",
    "def get_submissions(cik: str, headers) -> dict:\n",
    "    assert len(cik) == 10\n",
    "    resp = requests.get(\n",
    "        url_submissions + \"CIK\" + apple_cik + \".json\", headers=headers, timeout=5\n",
    "    )\n",
    "    resp_json = None\n",
    "    if resp.status_code < 400:\n",
    "        resp_json = resp.json()\n",
    "    return resp_json"
   ]
  },
  {
   "cell_type": "code",
   "execution_count": 8,
   "id": "f503eee4-e4c7-4092-a6e6-c14b98bb1ef1",
   "metadata": {},
   "outputs": [],
   "source": [
    "submission_json = get_submissions(apple_cik, headers)"
   ]
  },
  {
   "cell_type": "code",
   "execution_count": 9,
   "id": "ffb974d1-55a8-4cf8-bb7d-21f2aee7a524",
   "metadata": {},
   "outputs": [
    {
     "data": {
      "text/plain": [
       "dict_keys(['cik', 'entityType', 'sic', 'sicDescription', 'insiderTransactionForOwnerExists', 'insiderTransactionForIssuerExists', 'name', 'tickers', 'exchanges', 'ein', 'description', 'website', 'investorWebsite', 'category', 'fiscalYearEnd', 'stateOfIncorporation', 'stateOfIncorporationDescription', 'addresses', 'phone', 'flags', 'formerNames', 'filings'])"
      ]
     },
     "execution_count": 9,
     "metadata": {},
     "output_type": "execute_result"
    }
   ],
   "source": [
    "submission_json.keys()"
   ]
  },
  {
   "cell_type": "code",
   "execution_count": null,
   "id": "34e44fc8-7f6a-4009-93f3-9ad1408f24dc",
   "metadata": {
    "tags": []
   },
   "outputs": [],
   "source": [
    "submission_json[\"filings\"][\"recent\"]"
   ]
  },
  {
   "cell_type": "code",
   "execution_count": null,
   "id": "3f7a8f5a-e539-4e04-b38e-7b17feae3338",
   "metadata": {},
   "outputs": [],
   "source": [
    "submission_json[\"insiderTransactionForIssuerExists\"]"
   ]
  },
  {
   "cell_type": "code",
   "execution_count": null,
   "id": "43d307b0-1be9-4f14-86be-c3105dd2cac3",
   "metadata": {},
   "outputs": [],
   "source": [
    "# company concepts\n",
    "\n",
    "concepts = requests.get(\n",
    "    f\"https://data.sec.gov/api/xbrl/companyconcept/CIK{apple_cik}/us-gaap/AccountsPayableCurrent.json\",\n",
    "    headers=headers,\n",
    ")\n",
    "\n",
    "concepts_json = concepts.json()"
   ]
  },
  {
   "cell_type": "code",
   "execution_count": null,
   "id": "11f9984b-af74-4fff-9d78-88a01d63a4dd",
   "metadata": {},
   "outputs": [],
   "source": [
    "concepts_json.keys()"
   ]
  },
  {
   "cell_type": "code",
   "execution_count": null,
   "id": "ab500126-bb2d-408f-890a-d0226ac25440",
   "metadata": {},
   "outputs": [],
   "source": [
    "df_accpay = json_normalize(concepts_json[\"units\"][\"USD\"])\n",
    "df_accpay"
   ]
  },
  {
   "cell_type": "code",
   "execution_count": null,
   "id": "baf89291-0e3e-43d9-867c-deff9169af63",
   "metadata": {},
   "outputs": [],
   "source": [
    "df_accpay_quarterly = df_accpay[df_revenues[\"fp\"].str.contains(\"Q\")]"
   ]
  },
  {
   "cell_type": "code",
   "execution_count": null,
   "id": "2f59aef9-5a24-45b5-9546-8797c0bb4cc6",
   "metadata": {},
   "outputs": [],
   "source": [
    "df_accpay_quarterly[\"period\"] = (\n",
    "    df_accpay_quarterly[\"fy\"].astype(\"str\") + df_accpay_quarterly[\"fp\"]\n",
    ")"
   ]
  },
  {
   "cell_type": "code",
   "execution_count": null,
   "id": "92a5ee95-be2a-40f3-aa74-0158141a2928",
   "metadata": {},
   "outputs": [],
   "source": [
    "df_accpay_quarterly.plot(x=\"period\", y=\"val\", kind=\"bar\")"
   ]
  },
  {
   "cell_type": "markdown",
   "id": "87f22dcb-9336-45a3-a1ce-22f310c9e0e9",
   "metadata": {},
   "source": [
    "# Yahoo Finance API"
   ]
  },
  {
   "cell_type": "code",
   "execution_count": 11,
   "id": "be3ede6d-7e9b-4513-a78e-f990e8921c3c",
   "metadata": {},
   "outputs": [],
   "source": [
    "from datetime import datetime, date, time, timezone\n",
    "\n",
    "\n",
    "def yahoo_url(ticker: str, from_day: str, to_day: str) -> str:\n",
    "    \"\"\"Get url to request yahoo finance.\"\"\"\n",
    "    from_dt = int(\n",
    "        datetime.combine(\n",
    "            date.fromisoformat(from_day), time(), tzinfo=timezone.utc\n",
    "        ).timestamp()\n",
    "    )\n",
    "    to_dt = int(\n",
    "        datetime.combine(\n",
    "            date.fromisoformat(to_day), time(), tzinfo=timezone.utc\n",
    "        ).timestamp()\n",
    "    )\n",
    "    return (\n",
    "        \"https://query1.finance.yahoo.com/v7/finance/download/\"\n",
    "        f\"{ticker.upper()}\"\n",
    "        f\"?period1={from_dt}&period2={to_dt}&interval=1d\"\n",
    "        \"&events=history&includeAdjustedClose=true\"\n",
    "    )"
   ]
  },
  {
   "cell_type": "code",
   "execution_count": 12,
   "id": "6882b23c-eb90-45c0-b316-a37248675cbd",
   "metadata": {},
   "outputs": [
    {
     "ename": "AttributeError",
     "evalue": "type object 'datetime.date' has no attribute 'fromisoformat'",
     "output_type": "error",
     "traceback": [
      "\u001b[0;31m---------------------------------------------------------------------------\u001b[0m",
      "\u001b[0;31mAttributeError\u001b[0m                            Traceback (most recent call last)",
      "\u001b[0;32m<ipython-input-12-2a9a02077d1b>\u001b[0m in \u001b[0;36m<module>\u001b[0;34m\u001b[0m\n\u001b[1;32m      3\u001b[0m \u001b[0mto_day\u001b[0m \u001b[0;34m=\u001b[0m \u001b[0;34m\"2021-09-01\"\u001b[0m\u001b[0;34m\u001b[0m\u001b[0;34m\u001b[0m\u001b[0m\n\u001b[1;32m      4\u001b[0m \u001b[0;34m\u001b[0m\u001b[0m\n\u001b[0;32m----> 5\u001b[0;31m \u001b[0murl\u001b[0m \u001b[0;34m=\u001b[0m \u001b[0myahoo_url\u001b[0m\u001b[0;34m(\u001b[0m\u001b[0mticker\u001b[0m\u001b[0;34m,\u001b[0m \u001b[0mfrom_day\u001b[0m\u001b[0;34m,\u001b[0m \u001b[0mto_day\u001b[0m\u001b[0;34m)\u001b[0m\u001b[0;34m\u001b[0m\u001b[0;34m\u001b[0m\u001b[0m\n\u001b[0m\u001b[1;32m      6\u001b[0m \u001b[0mheaders\u001b[0m \u001b[0;34m=\u001b[0m \u001b[0;34m{\u001b[0m\u001b[0;34m\"User-Agent\"\u001b[0m\u001b[0;34m:\u001b[0m \u001b[0;34m\"Chrome/92.0.4515.159\"\u001b[0m\u001b[0;34m}\u001b[0m\u001b[0;34m\u001b[0m\u001b[0;34m\u001b[0m\u001b[0m\n\u001b[1;32m      7\u001b[0m \u001b[0;34m\u001b[0m\u001b[0m\n",
      "\u001b[0;32m<ipython-input-11-d311c036e98c>\u001b[0m in \u001b[0;36myahoo_url\u001b[0;34m(ticker, from_day, to_day)\u001b[0m\n\u001b[1;32m      6\u001b[0m     from_dt = int(\n\u001b[1;32m      7\u001b[0m         datetime.combine(\n\u001b[0;32m----> 8\u001b[0;31m             \u001b[0mdate\u001b[0m\u001b[0;34m.\u001b[0m\u001b[0mfromisoformat\u001b[0m\u001b[0;34m(\u001b[0m\u001b[0mfrom_day\u001b[0m\u001b[0;34m)\u001b[0m\u001b[0;34m,\u001b[0m \u001b[0mtime\u001b[0m\u001b[0;34m(\u001b[0m\u001b[0;34m)\u001b[0m\u001b[0;34m,\u001b[0m \u001b[0mtzinfo\u001b[0m\u001b[0;34m=\u001b[0m\u001b[0mtimezone\u001b[0m\u001b[0;34m.\u001b[0m\u001b[0mutc\u001b[0m\u001b[0;34m\u001b[0m\u001b[0;34m\u001b[0m\u001b[0m\n\u001b[0m\u001b[1;32m      9\u001b[0m         ).timestamp()\n\u001b[1;32m     10\u001b[0m     )\n",
      "\u001b[0;31mAttributeError\u001b[0m: type object 'datetime.date' has no attribute 'fromisoformat'"
     ]
    }
   ],
   "source": [
    "ticker = \"AAPL\"\n",
    "from_day = \"2021-01-01\"\n",
    "to_day = \"2021-09-01\"\n",
    "\n",
    "url = yahoo_url(ticker, from_day, to_day)\n",
    "headers = {\"User-Agent\": \"Chrome/92.0.4515.159\"}\n",
    "\n",
    "resp = requests.get(url, headers=headers, timeout=5)\n",
    "print(resp.status_code)"
   ]
  },
  {
   "cell_type": "code",
   "execution_count": null,
   "id": "a959f2a0-9057-4813-9f02-b8df29c4887d",
   "metadata": {
    "tags": []
   },
   "outputs": [],
   "source": [
    "ticker_infos = resp.content.decode(\"utf-8\")"
   ]
  },
  {
   "cell_type": "code",
   "execution_count": null,
   "id": "52202684-a670-4e8b-a4c8-d694426239c9",
   "metadata": {},
   "outputs": [],
   "source": [
    "import io\n",
    "\n",
    "df_ticker = pd.read_csv(io.StringIO(ticker_infos))\n",
    "df_ticker"
   ]
  },
  {
   "cell_type": "code",
   "execution_count": null,
   "id": "00e4c4c1-eda9-4750-af12-654d2f4f9868",
   "metadata": {},
   "outputs": [],
   "source": [
    "df_ticker[\"Date\"] = pd.to_datetime(df_ticker[\"Date\"])"
   ]
  },
  {
   "cell_type": "code",
   "execution_count": null,
   "id": "bb058699-0d80-437f-8024-d79008292d6d",
   "metadata": {},
   "outputs": [],
   "source": [
    "df_ticker.plot(x=\"Date\", y=\"Close\", kind=\"line\")"
   ]
  },
  {
   "cell_type": "code",
   "execution_count": null,
   "id": "cfab1d40-42b4-4de6-b3ae-707d08335343",
   "metadata": {},
   "outputs": [],
   "source": []
  }
 ],
 "metadata": {
  "kernelspec": {
   "display_name": "propulsion",
   "language": "python",
   "name": "propulsion"
  },
  "language_info": {
   "codemirror_mode": {
    "name": "ipython",
    "version": 3
   },
   "file_extension": ".py",
   "mimetype": "text/x-python",
   "name": "python",
   "nbconvert_exporter": "python",
   "pygments_lexer": "ipython3",
   "version": "3.9.5"
  }
 },
 "nbformat": 4,
 "nbformat_minor": 5
}
